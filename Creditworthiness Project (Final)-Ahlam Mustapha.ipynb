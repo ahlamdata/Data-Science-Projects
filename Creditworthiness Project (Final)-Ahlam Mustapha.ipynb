{
 "cells": [
  {
   "cell_type": "markdown",
   "id": "09751bb3",
   "metadata": {},
   "source": [
    "# <span style='background:Brown ; color:White' > CREDITWORTHINESS PROJECT  </span>"
   ]
  },
  {
   "cell_type": "markdown",
   "id": "f9a7fe1d",
   "metadata": {},
   "source": [
    "## **Project Objective:**\n",
    "This project is seeking to identify creditworthy and non-creditworthy customers from the given dataset. \n",
    "\n",
    "\n",
    "\n",
    "## **Solution:** \n",
    "To use the credit data to build a model that predicts whether a customer is creditworthy or non-creditworthy "
   ]
  },
  {
   "cell_type": "markdown",
   "id": "c8281ba2",
   "metadata": {},
   "source": [
    "**Outline:**\n",
    "\n",
    "    1. Importing all necessary libraries\n",
    "    2. Loading Data\n",
    "    3. Exploratory Data Analysis\n",
    "        a.Data Cleaning\n",
    "        b.Feature Engineering\n",
    "    4. Prepare Data For Modelling\n",
    "    5. Modelling\n",
    "    6. Creteria and Metrics for Model Selection\n",
    "    7. Model Selection\n",
    "    8. Conclusion\n",
    "   \n",
    "   "
   ]
  },
  {
   "cell_type": "markdown",
   "id": "7aa2f4f1",
   "metadata": {},
   "source": [
    "## Importing the Necessary Libraries"
   ]
  },
  {
   "cell_type": "code",
   "execution_count": 2,
   "id": "d58ba40e",
   "metadata": {},
   "outputs": [],
   "source": [
    "#Importing key libraries to start with.\n",
    "import pandas as pd\n",
    "import numpy as np\n",
    "import matplotlib.pyplot as plt\n",
    "import seaborn as sns\n",
    "import sklearn\n",
    "from bioinfokit.analys import stat\n",
    "\n",
    "import warnings\n",
    "warnings.filterwarnings('ignore')\n",
    "%matplotlib inline\n",
    "pd.set_option('display.max_colwidth', None)\n",
    "pd.set_option('display.max_columns', None)\n",
    "\n",
    "#Importing chi-square library\n",
    "from scipy.stats import chi2_contingency\n",
    "from scipy.stats import chi2\n",
    "\n",
    "#Importing model related libraries\n",
    "from sklearn.model_selection import train_test_split\n",
    "from sklearn.model_selection import cross_val_score\n",
    "from sklearn.metrics import accuracy_score\n",
    "\n",
    "#Importing models \n",
    "from sklearn.neighbors import KNeighborsClassifier\n",
    "from sklearn.linear_model import LogisticRegression\n",
    "from sklearn.svm import SVC\n",
    "from sklearn.tree import DecisionTreeClassifier\n",
    "from sklearn.ensemble import RandomForestClassifier\n",
    "from sklearn.ensemble import AdaBoostClassifier\n",
    "from sklearn.ensemble import GradientBoostingClassifier\n",
    "from sklearn.ensemble import BaggingClassifier\n",
    "from sklearn.ensemble import VotingClassifier"
   ]
  },
  {
   "cell_type": "markdown",
   "id": "246d9648",
   "metadata": {},
   "source": [
    "## Loading Data..."
   ]
  },
  {
   "cell_type": "code",
   "execution_count": 3,
   "id": "da75ba4a",
   "metadata": {
    "scrolled": true
   },
   "outputs": [
    {
     "data": {
      "text/html": [
       "<div>\n",
       "<style scoped>\n",
       "    .dataframe tbody tr th:only-of-type {\n",
       "        vertical-align: middle;\n",
       "    }\n",
       "\n",
       "    .dataframe tbody tr th {\n",
       "        vertical-align: top;\n",
       "    }\n",
       "\n",
       "    .dataframe thead th {\n",
       "        text-align: right;\n",
       "    }\n",
       "</style>\n",
       "<table border=\"1\" class=\"dataframe\">\n",
       "  <thead>\n",
       "    <tr style=\"text-align: right;\">\n",
       "      <th></th>\n",
       "      <th>Credit-Application-Result</th>\n",
       "      <th>Account-Balance</th>\n",
       "      <th>Duration-of-Credit-Month</th>\n",
       "      <th>Payment-Status-of-Previous-Credit</th>\n",
       "      <th>Purpose</th>\n",
       "      <th>Credit-Amount</th>\n",
       "      <th>Value-Savings-Stocks</th>\n",
       "      <th>Length-of-current-employment</th>\n",
       "      <th>Instalment-per-cent</th>\n",
       "      <th>Guarantors</th>\n",
       "      <th>Duration-in-Current-address</th>\n",
       "      <th>Most-valuable-available-asset</th>\n",
       "      <th>Age-years</th>\n",
       "      <th>Concurrent-Credits</th>\n",
       "      <th>Type-of-apartment</th>\n",
       "      <th>No-of-Credits-at-this-Bank</th>\n",
       "      <th>Occupation</th>\n",
       "      <th>No-of-dependents</th>\n",
       "      <th>Telephone</th>\n",
       "      <th>Foreign-Worker</th>\n",
       "    </tr>\n",
       "  </thead>\n",
       "  <tbody>\n",
       "    <tr>\n",
       "      <th>0</th>\n",
       "      <td>Creditworthy</td>\n",
       "      <td>Some Balance</td>\n",
       "      <td>4</td>\n",
       "      <td>Paid Up</td>\n",
       "      <td>Other</td>\n",
       "      <td>1494</td>\n",
       "      <td>£100-£1000</td>\n",
       "      <td>&lt; 1yr</td>\n",
       "      <td>1</td>\n",
       "      <td>None</td>\n",
       "      <td>2.0</td>\n",
       "      <td>1</td>\n",
       "      <td>NaN</td>\n",
       "      <td>Other Banks/Depts</td>\n",
       "      <td>2</td>\n",
       "      <td>1</td>\n",
       "      <td>1</td>\n",
       "      <td>2</td>\n",
       "      <td>1</td>\n",
       "      <td>2</td>\n",
       "    </tr>\n",
       "    <tr>\n",
       "      <th>1</th>\n",
       "      <td>Creditworthy</td>\n",
       "      <td>Some Balance</td>\n",
       "      <td>4</td>\n",
       "      <td>Paid Up</td>\n",
       "      <td>Home Related</td>\n",
       "      <td>1494</td>\n",
       "      <td>£100-£1000</td>\n",
       "      <td>&lt; 1yr</td>\n",
       "      <td>1</td>\n",
       "      <td>None</td>\n",
       "      <td>2.0</td>\n",
       "      <td>1</td>\n",
       "      <td>29.0</td>\n",
       "      <td>Other Banks/Depts</td>\n",
       "      <td>2</td>\n",
       "      <td>1</td>\n",
       "      <td>1</td>\n",
       "      <td>2</td>\n",
       "      <td>1</td>\n",
       "      <td>2</td>\n",
       "    </tr>\n",
       "    <tr>\n",
       "      <th>2</th>\n",
       "      <td>Creditworthy</td>\n",
       "      <td>Some Balance</td>\n",
       "      <td>4</td>\n",
       "      <td>No Problems (in this bank)</td>\n",
       "      <td>Home Related</td>\n",
       "      <td>1544</td>\n",
       "      <td>None</td>\n",
       "      <td>1-4 yrs</td>\n",
       "      <td>2</td>\n",
       "      <td>None</td>\n",
       "      <td>1.0</td>\n",
       "      <td>1</td>\n",
       "      <td>42.0</td>\n",
       "      <td>Other Banks/Depts</td>\n",
       "      <td>2</td>\n",
       "      <td>More than 1</td>\n",
       "      <td>1</td>\n",
       "      <td>2</td>\n",
       "      <td>1</td>\n",
       "      <td>1</td>\n",
       "    </tr>\n",
       "    <tr>\n",
       "      <th>3</th>\n",
       "      <td>Creditworthy</td>\n",
       "      <td>Some Balance</td>\n",
       "      <td>4</td>\n",
       "      <td>No Problems (in this bank)</td>\n",
       "      <td>Home Related</td>\n",
       "      <td>3380</td>\n",
       "      <td>None</td>\n",
       "      <td>1-4 yrs</td>\n",
       "      <td>1</td>\n",
       "      <td>None</td>\n",
       "      <td>1.0</td>\n",
       "      <td>1</td>\n",
       "      <td>37.0</td>\n",
       "      <td>Other Banks/Depts</td>\n",
       "      <td>2</td>\n",
       "      <td>1</td>\n",
       "      <td>1</td>\n",
       "      <td>2</td>\n",
       "      <td>1</td>\n",
       "      <td>1</td>\n",
       "    </tr>\n",
       "    <tr>\n",
       "      <th>4</th>\n",
       "      <td>Creditworthy</td>\n",
       "      <td>No Account</td>\n",
       "      <td>6</td>\n",
       "      <td>Paid Up</td>\n",
       "      <td>Home Related</td>\n",
       "      <td>343</td>\n",
       "      <td>None</td>\n",
       "      <td>&lt; 1yr</td>\n",
       "      <td>4</td>\n",
       "      <td>None</td>\n",
       "      <td>1.0</td>\n",
       "      <td>1</td>\n",
       "      <td>27.0</td>\n",
       "      <td>Other Banks/Depts</td>\n",
       "      <td>2</td>\n",
       "      <td>1</td>\n",
       "      <td>1</td>\n",
       "      <td>1</td>\n",
       "      <td>1</td>\n",
       "      <td>1</td>\n",
       "    </tr>\n",
       "  </tbody>\n",
       "</table>\n",
       "</div>"
      ],
      "text/plain": [
       "  Credit-Application-Result Account-Balance  Duration-of-Credit-Month  \\\n",
       "0              Creditworthy    Some Balance                         4   \n",
       "1              Creditworthy    Some Balance                         4   \n",
       "2              Creditworthy    Some Balance                         4   \n",
       "3              Creditworthy    Some Balance                         4   \n",
       "4              Creditworthy      No Account                         6   \n",
       "\n",
       "  Payment-Status-of-Previous-Credit       Purpose  Credit-Amount  \\\n",
       "0                           Paid Up         Other           1494   \n",
       "1                           Paid Up  Home Related           1494   \n",
       "2        No Problems (in this bank)  Home Related           1544   \n",
       "3        No Problems (in this bank)  Home Related           3380   \n",
       "4                           Paid Up  Home Related            343   \n",
       "\n",
       "  Value-Savings-Stocks Length-of-current-employment  Instalment-per-cent  \\\n",
       "0           £100-£1000                        < 1yr                    1   \n",
       "1           £100-£1000                        < 1yr                    1   \n",
       "2                 None                      1-4 yrs                    2   \n",
       "3                 None                      1-4 yrs                    1   \n",
       "4                 None                        < 1yr                    4   \n",
       "\n",
       "  Guarantors  Duration-in-Current-address  Most-valuable-available-asset  \\\n",
       "0       None                          2.0                              1   \n",
       "1       None                          2.0                              1   \n",
       "2       None                          1.0                              1   \n",
       "3       None                          1.0                              1   \n",
       "4       None                          1.0                              1   \n",
       "\n",
       "   Age-years Concurrent-Credits  Type-of-apartment No-of-Credits-at-this-Bank  \\\n",
       "0        NaN  Other Banks/Depts                  2                          1   \n",
       "1       29.0  Other Banks/Depts                  2                          1   \n",
       "2       42.0  Other Banks/Depts                  2                More than 1   \n",
       "3       37.0  Other Banks/Depts                  2                          1   \n",
       "4       27.0  Other Banks/Depts                  2                          1   \n",
       "\n",
       "   Occupation  No-of-dependents  Telephone  Foreign-Worker  \n",
       "0           1                 2          1               2  \n",
       "1           1                 2          1               2  \n",
       "2           1                 2          1               1  \n",
       "3           1                 2          1               1  \n",
       "4           1                 1          1               1  "
      ]
     },
     "execution_count": 3,
     "metadata": {},
     "output_type": "execute_result"
    }
   ],
   "source": [
    "data = pd.read_excel('credit-data-training.xlsx') #this loads the data into the notebook to work with.\n",
    "data.head()"
   ]
  },
  {
   "cell_type": "markdown",
   "id": "e52040d7",
   "metadata": {},
   "source": [
    "## Exploratory Data Analysis"
   ]
  },
  {
   "cell_type": "code",
   "execution_count": 4,
   "id": "e5fcca48",
   "metadata": {},
   "outputs": [
    {
     "name": "stdout",
     "output_type": "stream",
     "text": [
      "<class 'pandas.core.frame.DataFrame'>\n",
      "RangeIndex: 500 entries, 0 to 499\n",
      "Data columns (total 20 columns):\n",
      " #   Column                             Non-Null Count  Dtype  \n",
      "---  ------                             --------------  -----  \n",
      " 0   Credit-Application-Result          500 non-null    object \n",
      " 1   Account-Balance                    500 non-null    object \n",
      " 2   Duration-of-Credit-Month           500 non-null    int64  \n",
      " 3   Payment-Status-of-Previous-Credit  500 non-null    object \n",
      " 4   Purpose                            500 non-null    object \n",
      " 5   Credit-Amount                      500 non-null    int64  \n",
      " 6   Value-Savings-Stocks               500 non-null    object \n",
      " 7   Length-of-current-employment       500 non-null    object \n",
      " 8   Instalment-per-cent                500 non-null    int64  \n",
      " 9   Guarantors                         500 non-null    object \n",
      " 10  Duration-in-Current-address        156 non-null    float64\n",
      " 11  Most-valuable-available-asset      500 non-null    int64  \n",
      " 12  Age-years                          488 non-null    float64\n",
      " 13  Concurrent-Credits                 500 non-null    object \n",
      " 14  Type-of-apartment                  500 non-null    int64  \n",
      " 15  No-of-Credits-at-this-Bank         500 non-null    object \n",
      " 16  Occupation                         500 non-null    int64  \n",
      " 17  No-of-dependents                   500 non-null    int64  \n",
      " 18  Telephone                          500 non-null    int64  \n",
      " 19  Foreign-Worker                     500 non-null    int64  \n",
      "dtypes: float64(2), int64(9), object(9)\n",
      "memory usage: 78.2+ KB\n"
     ]
    }
   ],
   "source": [
    "data.info()"
   ]
  },
  {
   "cell_type": "markdown",
   "id": "a18baf93",
   "metadata": {},
   "source": [
    "Checking for brief information about the dataset"
   ]
  },
  {
   "cell_type": "markdown",
   "id": "c23e4baa",
   "metadata": {},
   "source": [
    "### Checking the Data for Missing Values"
   ]
  },
  {
   "cell_type": "code",
   "execution_count": 5,
   "id": "177a48b7",
   "metadata": {},
   "outputs": [
    {
     "data": {
      "text/plain": [
       "Credit-Application-Result              0\n",
       "Account-Balance                        0\n",
       "Duration-of-Credit-Month               0\n",
       "Payment-Status-of-Previous-Credit      0\n",
       "Purpose                                0\n",
       "Credit-Amount                          0\n",
       "Value-Savings-Stocks                   0\n",
       "Length-of-current-employment           0\n",
       "Instalment-per-cent                    0\n",
       "Guarantors                             0\n",
       "Duration-in-Current-address          344\n",
       "Most-valuable-available-asset          0\n",
       "Age-years                             12\n",
       "Concurrent-Credits                     0\n",
       "Type-of-apartment                      0\n",
       "No-of-Credits-at-this-Bank             0\n",
       "Occupation                             0\n",
       "No-of-dependents                       0\n",
       "Telephone                              0\n",
       "Foreign-Worker                         0\n",
       "dtype: int64"
      ]
     },
     "execution_count": 5,
     "metadata": {},
     "output_type": "execute_result"
    }
   ],
   "source": [
    "data.isna().sum()"
   ]
  },
  {
   "cell_type": "markdown",
   "id": "12ab1f3c",
   "metadata": {},
   "source": [
    "From the output above, only two variables (Duration-in-Current-address and Age-years) have missing values and they will be resolved later."
   ]
  },
  {
   "cell_type": "markdown",
   "id": "29d146aa",
   "metadata": {},
   "source": [
    "### Splitting the data into categorical and numerical variables\n",
    "This is done to make it easier to understand and clean the data."
   ]
  },
  {
   "cell_type": "code",
   "execution_count": 6,
   "id": "1c4dc47d",
   "metadata": {},
   "outputs": [],
   "source": [
    "numerical = data.select_dtypes(include= np.number)\n",
    "categorical = data.select_dtypes(include = 'object')"
   ]
  },
  {
   "cell_type": "code",
   "execution_count": 7,
   "id": "f1af3b46",
   "metadata": {},
   "outputs": [
    {
     "data": {
      "text/html": [
       "<div>\n",
       "<style scoped>\n",
       "    .dataframe tbody tr th:only-of-type {\n",
       "        vertical-align: middle;\n",
       "    }\n",
       "\n",
       "    .dataframe tbody tr th {\n",
       "        vertical-align: top;\n",
       "    }\n",
       "\n",
       "    .dataframe thead th {\n",
       "        text-align: right;\n",
       "    }\n",
       "</style>\n",
       "<table border=\"1\" class=\"dataframe\">\n",
       "  <thead>\n",
       "    <tr style=\"text-align: right;\">\n",
       "      <th></th>\n",
       "      <th>Duration-of-Credit-Month</th>\n",
       "      <th>Credit-Amount</th>\n",
       "      <th>Instalment-per-cent</th>\n",
       "      <th>Duration-in-Current-address</th>\n",
       "      <th>Most-valuable-available-asset</th>\n",
       "      <th>Age-years</th>\n",
       "      <th>Type-of-apartment</th>\n",
       "      <th>Occupation</th>\n",
       "      <th>No-of-dependents</th>\n",
       "      <th>Telephone</th>\n",
       "      <th>Foreign-Worker</th>\n",
       "    </tr>\n",
       "  </thead>\n",
       "  <tbody>\n",
       "    <tr>\n",
       "      <th>0</th>\n",
       "      <td>4</td>\n",
       "      <td>1494</td>\n",
       "      <td>1</td>\n",
       "      <td>2.0</td>\n",
       "      <td>1</td>\n",
       "      <td>NaN</td>\n",
       "      <td>2</td>\n",
       "      <td>1</td>\n",
       "      <td>2</td>\n",
       "      <td>1</td>\n",
       "      <td>2</td>\n",
       "    </tr>\n",
       "    <tr>\n",
       "      <th>1</th>\n",
       "      <td>4</td>\n",
       "      <td>1494</td>\n",
       "      <td>1</td>\n",
       "      <td>2.0</td>\n",
       "      <td>1</td>\n",
       "      <td>29.0</td>\n",
       "      <td>2</td>\n",
       "      <td>1</td>\n",
       "      <td>2</td>\n",
       "      <td>1</td>\n",
       "      <td>2</td>\n",
       "    </tr>\n",
       "    <tr>\n",
       "      <th>2</th>\n",
       "      <td>4</td>\n",
       "      <td>1544</td>\n",
       "      <td>2</td>\n",
       "      <td>1.0</td>\n",
       "      <td>1</td>\n",
       "      <td>42.0</td>\n",
       "      <td>2</td>\n",
       "      <td>1</td>\n",
       "      <td>2</td>\n",
       "      <td>1</td>\n",
       "      <td>1</td>\n",
       "    </tr>\n",
       "    <tr>\n",
       "      <th>3</th>\n",
       "      <td>4</td>\n",
       "      <td>3380</td>\n",
       "      <td>1</td>\n",
       "      <td>1.0</td>\n",
       "      <td>1</td>\n",
       "      <td>37.0</td>\n",
       "      <td>2</td>\n",
       "      <td>1</td>\n",
       "      <td>2</td>\n",
       "      <td>1</td>\n",
       "      <td>1</td>\n",
       "    </tr>\n",
       "    <tr>\n",
       "      <th>4</th>\n",
       "      <td>6</td>\n",
       "      <td>343</td>\n",
       "      <td>4</td>\n",
       "      <td>1.0</td>\n",
       "      <td>1</td>\n",
       "      <td>27.0</td>\n",
       "      <td>2</td>\n",
       "      <td>1</td>\n",
       "      <td>1</td>\n",
       "      <td>1</td>\n",
       "      <td>1</td>\n",
       "    </tr>\n",
       "    <tr>\n",
       "      <th>5</th>\n",
       "      <td>6</td>\n",
       "      <td>362</td>\n",
       "      <td>4</td>\n",
       "      <td>NaN</td>\n",
       "      <td>3</td>\n",
       "      <td>52.0</td>\n",
       "      <td>2</td>\n",
       "      <td>1</td>\n",
       "      <td>1</td>\n",
       "      <td>1</td>\n",
       "      <td>1</td>\n",
       "    </tr>\n",
       "    <tr>\n",
       "      <th>6</th>\n",
       "      <td>6</td>\n",
       "      <td>433</td>\n",
       "      <td>4</td>\n",
       "      <td>NaN</td>\n",
       "      <td>2</td>\n",
       "      <td>24.0</td>\n",
       "      <td>1</td>\n",
       "      <td>1</td>\n",
       "      <td>2</td>\n",
       "      <td>1</td>\n",
       "      <td>1</td>\n",
       "    </tr>\n",
       "    <tr>\n",
       "      <th>7</th>\n",
       "      <td>6</td>\n",
       "      <td>454</td>\n",
       "      <td>3</td>\n",
       "      <td>NaN</td>\n",
       "      <td>2</td>\n",
       "      <td>22.0</td>\n",
       "      <td>2</td>\n",
       "      <td>1</td>\n",
       "      <td>1</td>\n",
       "      <td>1</td>\n",
       "      <td>1</td>\n",
       "    </tr>\n",
       "    <tr>\n",
       "      <th>8</th>\n",
       "      <td>6</td>\n",
       "      <td>484</td>\n",
       "      <td>3</td>\n",
       "      <td>3.0</td>\n",
       "      <td>1</td>\n",
       "      <td>28.0</td>\n",
       "      <td>2</td>\n",
       "      <td>1</td>\n",
       "      <td>1</td>\n",
       "      <td>1</td>\n",
       "      <td>1</td>\n",
       "    </tr>\n",
       "    <tr>\n",
       "      <th>9</th>\n",
       "      <td>6</td>\n",
       "      <td>660</td>\n",
       "      <td>2</td>\n",
       "      <td>4.0</td>\n",
       "      <td>1</td>\n",
       "      <td>23.0</td>\n",
       "      <td>1</td>\n",
       "      <td>1</td>\n",
       "      <td>1</td>\n",
       "      <td>1</td>\n",
       "      <td>1</td>\n",
       "    </tr>\n",
       "  </tbody>\n",
       "</table>\n",
       "</div>"
      ],
      "text/plain": [
       "   Duration-of-Credit-Month  Credit-Amount  Instalment-per-cent  \\\n",
       "0                         4           1494                    1   \n",
       "1                         4           1494                    1   \n",
       "2                         4           1544                    2   \n",
       "3                         4           3380                    1   \n",
       "4                         6            343                    4   \n",
       "5                         6            362                    4   \n",
       "6                         6            433                    4   \n",
       "7                         6            454                    3   \n",
       "8                         6            484                    3   \n",
       "9                         6            660                    2   \n",
       "\n",
       "   Duration-in-Current-address  Most-valuable-available-asset  Age-years  \\\n",
       "0                          2.0                              1        NaN   \n",
       "1                          2.0                              1       29.0   \n",
       "2                          1.0                              1       42.0   \n",
       "3                          1.0                              1       37.0   \n",
       "4                          1.0                              1       27.0   \n",
       "5                          NaN                              3       52.0   \n",
       "6                          NaN                              2       24.0   \n",
       "7                          NaN                              2       22.0   \n",
       "8                          3.0                              1       28.0   \n",
       "9                          4.0                              1       23.0   \n",
       "\n",
       "   Type-of-apartment  Occupation  No-of-dependents  Telephone  Foreign-Worker  \n",
       "0                  2           1                 2          1               2  \n",
       "1                  2           1                 2          1               2  \n",
       "2                  2           1                 2          1               1  \n",
       "3                  2           1                 2          1               1  \n",
       "4                  2           1                 1          1               1  \n",
       "5                  2           1                 1          1               1  \n",
       "6                  1           1                 2          1               1  \n",
       "7                  2           1                 1          1               1  \n",
       "8                  2           1                 1          1               1  \n",
       "9                  1           1                 1          1               1  "
      ]
     },
     "execution_count": 7,
     "metadata": {},
     "output_type": "execute_result"
    }
   ],
   "source": [
    "numerical.head(10)    #first 10 records of the numerical variables"
   ]
  },
  {
   "cell_type": "code",
   "execution_count": 8,
   "id": "bf97d5dc",
   "metadata": {},
   "outputs": [
    {
     "data": {
      "text/html": [
       "<div>\n",
       "<style scoped>\n",
       "    .dataframe tbody tr th:only-of-type {\n",
       "        vertical-align: middle;\n",
       "    }\n",
       "\n",
       "    .dataframe tbody tr th {\n",
       "        vertical-align: top;\n",
       "    }\n",
       "\n",
       "    .dataframe thead th {\n",
       "        text-align: right;\n",
       "    }\n",
       "</style>\n",
       "<table border=\"1\" class=\"dataframe\">\n",
       "  <thead>\n",
       "    <tr style=\"text-align: right;\">\n",
       "      <th></th>\n",
       "      <th>Credit-Application-Result</th>\n",
       "      <th>Account-Balance</th>\n",
       "      <th>Payment-Status-of-Previous-Credit</th>\n",
       "      <th>Purpose</th>\n",
       "      <th>Value-Savings-Stocks</th>\n",
       "      <th>Length-of-current-employment</th>\n",
       "      <th>Guarantors</th>\n",
       "      <th>Concurrent-Credits</th>\n",
       "      <th>No-of-Credits-at-this-Bank</th>\n",
       "    </tr>\n",
       "  </thead>\n",
       "  <tbody>\n",
       "    <tr>\n",
       "      <th>0</th>\n",
       "      <td>Creditworthy</td>\n",
       "      <td>Some Balance</td>\n",
       "      <td>Paid Up</td>\n",
       "      <td>Other</td>\n",
       "      <td>£100-£1000</td>\n",
       "      <td>&lt; 1yr</td>\n",
       "      <td>None</td>\n",
       "      <td>Other Banks/Depts</td>\n",
       "      <td>1</td>\n",
       "    </tr>\n",
       "    <tr>\n",
       "      <th>1</th>\n",
       "      <td>Creditworthy</td>\n",
       "      <td>Some Balance</td>\n",
       "      <td>Paid Up</td>\n",
       "      <td>Home Related</td>\n",
       "      <td>£100-£1000</td>\n",
       "      <td>&lt; 1yr</td>\n",
       "      <td>None</td>\n",
       "      <td>Other Banks/Depts</td>\n",
       "      <td>1</td>\n",
       "    </tr>\n",
       "    <tr>\n",
       "      <th>2</th>\n",
       "      <td>Creditworthy</td>\n",
       "      <td>Some Balance</td>\n",
       "      <td>No Problems (in this bank)</td>\n",
       "      <td>Home Related</td>\n",
       "      <td>None</td>\n",
       "      <td>1-4 yrs</td>\n",
       "      <td>None</td>\n",
       "      <td>Other Banks/Depts</td>\n",
       "      <td>More than 1</td>\n",
       "    </tr>\n",
       "    <tr>\n",
       "      <th>3</th>\n",
       "      <td>Creditworthy</td>\n",
       "      <td>Some Balance</td>\n",
       "      <td>No Problems (in this bank)</td>\n",
       "      <td>Home Related</td>\n",
       "      <td>None</td>\n",
       "      <td>1-4 yrs</td>\n",
       "      <td>None</td>\n",
       "      <td>Other Banks/Depts</td>\n",
       "      <td>1</td>\n",
       "    </tr>\n",
       "    <tr>\n",
       "      <th>4</th>\n",
       "      <td>Creditworthy</td>\n",
       "      <td>No Account</td>\n",
       "      <td>Paid Up</td>\n",
       "      <td>Home Related</td>\n",
       "      <td>None</td>\n",
       "      <td>&lt; 1yr</td>\n",
       "      <td>None</td>\n",
       "      <td>Other Banks/Depts</td>\n",
       "      <td>1</td>\n",
       "    </tr>\n",
       "    <tr>\n",
       "      <th>5</th>\n",
       "      <td>Creditworthy</td>\n",
       "      <td>Some Balance</td>\n",
       "      <td>No Problems (in this bank)</td>\n",
       "      <td>Home Related</td>\n",
       "      <td>&lt; £100</td>\n",
       "      <td>&lt; 1yr</td>\n",
       "      <td>None</td>\n",
       "      <td>Other Banks/Depts</td>\n",
       "      <td>More than 1</td>\n",
       "    </tr>\n",
       "    <tr>\n",
       "      <th>6</th>\n",
       "      <td>Non-Creditworthy</td>\n",
       "      <td>No Account</td>\n",
       "      <td>Some Problems</td>\n",
       "      <td>Home Related</td>\n",
       "      <td>£100-£1000</td>\n",
       "      <td>&lt; 1yr</td>\n",
       "      <td>None</td>\n",
       "      <td>Other Banks/Depts</td>\n",
       "      <td>1</td>\n",
       "    </tr>\n",
       "    <tr>\n",
       "      <th>7</th>\n",
       "      <td>Creditworthy</td>\n",
       "      <td>No Account</td>\n",
       "      <td>Paid Up</td>\n",
       "      <td>Home Related</td>\n",
       "      <td>None</td>\n",
       "      <td>&lt; 1yr</td>\n",
       "      <td>None</td>\n",
       "      <td>Other Banks/Depts</td>\n",
       "      <td>1</td>\n",
       "    </tr>\n",
       "    <tr>\n",
       "      <th>8</th>\n",
       "      <td>Creditworthy</td>\n",
       "      <td>No Account</td>\n",
       "      <td>Paid Up</td>\n",
       "      <td>Home Related</td>\n",
       "      <td>None</td>\n",
       "      <td>1-4 yrs</td>\n",
       "      <td>Yes</td>\n",
       "      <td>Other Banks/Depts</td>\n",
       "      <td>1</td>\n",
       "    </tr>\n",
       "    <tr>\n",
       "      <th>9</th>\n",
       "      <td>Creditworthy</td>\n",
       "      <td>Some Balance</td>\n",
       "      <td>Paid Up</td>\n",
       "      <td>Home Related</td>\n",
       "      <td>£100-£1000</td>\n",
       "      <td>1-4 yrs</td>\n",
       "      <td>None</td>\n",
       "      <td>Other Banks/Depts</td>\n",
       "      <td>1</td>\n",
       "    </tr>\n",
       "  </tbody>\n",
       "</table>\n",
       "</div>"
      ],
      "text/plain": [
       "  Credit-Application-Result Account-Balance Payment-Status-of-Previous-Credit  \\\n",
       "0              Creditworthy    Some Balance                           Paid Up   \n",
       "1              Creditworthy    Some Balance                           Paid Up   \n",
       "2              Creditworthy    Some Balance        No Problems (in this bank)   \n",
       "3              Creditworthy    Some Balance        No Problems (in this bank)   \n",
       "4              Creditworthy      No Account                           Paid Up   \n",
       "5              Creditworthy    Some Balance        No Problems (in this bank)   \n",
       "6          Non-Creditworthy      No Account                     Some Problems   \n",
       "7              Creditworthy      No Account                           Paid Up   \n",
       "8              Creditworthy      No Account                           Paid Up   \n",
       "9              Creditworthy    Some Balance                           Paid Up   \n",
       "\n",
       "        Purpose Value-Savings-Stocks Length-of-current-employment Guarantors  \\\n",
       "0         Other           £100-£1000                        < 1yr       None   \n",
       "1  Home Related           £100-£1000                        < 1yr       None   \n",
       "2  Home Related                 None                      1-4 yrs       None   \n",
       "3  Home Related                 None                      1-4 yrs       None   \n",
       "4  Home Related                 None                        < 1yr       None   \n",
       "5  Home Related               < £100                        < 1yr       None   \n",
       "6  Home Related           £100-£1000                        < 1yr       None   \n",
       "7  Home Related                 None                        < 1yr       None   \n",
       "8  Home Related                 None                      1-4 yrs        Yes   \n",
       "9  Home Related           £100-£1000                      1-4 yrs       None   \n",
       "\n",
       "  Concurrent-Credits No-of-Credits-at-this-Bank  \n",
       "0  Other Banks/Depts                          1  \n",
       "1  Other Banks/Depts                          1  \n",
       "2  Other Banks/Depts                More than 1  \n",
       "3  Other Banks/Depts                          1  \n",
       "4  Other Banks/Depts                          1  \n",
       "5  Other Banks/Depts                More than 1  \n",
       "6  Other Banks/Depts                          1  \n",
       "7  Other Banks/Depts                          1  \n",
       "8  Other Banks/Depts                          1  \n",
       "9  Other Banks/Depts                          1  "
      ]
     },
     "execution_count": 8,
     "metadata": {},
     "output_type": "execute_result"
    }
   ],
   "source": [
    "categorical.head(10)"
   ]
  },
  {
   "cell_type": "markdown",
   "id": "0c9db9f6",
   "metadata": {},
   "source": [
    "### Creating a Function to Explore the Categorical Variables"
   ]
  },
  {
   "cell_type": "code",
   "execution_count": 9,
   "id": "02363352",
   "metadata": {},
   "outputs": [],
   "source": [
    "def check_cat(df, x):\n",
    "    \"\"\"\n",
    "    Displays a summary of the variable (column, x) including the number of unique values, describe the variable, \n",
    "    the value counts and whether there are missing values in the variable(column) \n",
    "    \n",
    "    INPUT:\n",
    "    Name of dataframe, variable(column) name.\n",
    "    \n",
    "    OUTPUT: \n",
    "    Returns the summary as defined above\n",
    "    \n",
    "    \"\"\"\n",
    "    print('Summary: ')\n",
    "    print('******************************************************************************************')\n",
    "    print(df[x].describe(), '\\n')\n",
    "    sns.countplot(df[x])\n",
    "    plt.show()\n",
    "    print('******************************************************************************************')\n",
    "    print('Value Counts: \\n')\n",
    "    print(df[x].value_counts(), '\\n')\n",
    "    print('******************************************************************************************')\n",
    "    print('Missing Values: {}'.format(df[x].isna().sum()))\n",
    "    "
   ]
  },
  {
   "cell_type": "code",
   "execution_count": 10,
   "id": "c072d209",
   "metadata": {
    "scrolled": true
   },
   "outputs": [
    {
     "name": "stdout",
     "output_type": "stream",
     "text": [
      "Credit-Application-Result\n",
      "Account-Balance\n",
      "Payment-Status-of-Previous-Credit\n",
      "Purpose\n",
      "Value-Savings-Stocks\n",
      "Length-of-current-employment\n",
      "Guarantors\n",
      "Concurrent-Credits\n",
      "No-of-Credits-at-this-Bank\n"
     ]
    }
   ],
   "source": [
    "for col in categorical.columns:  #displaying the categorical columns to use with the function\n",
    "    print(col)"
   ]
  },
  {
   "cell_type": "markdown",
   "id": "469bef7f",
   "metadata": {},
   "source": [
    "### Calling the Function on Each of the Categorical Variables"
   ]
  },
  {
   "cell_type": "code",
   "execution_count": 11,
   "id": "66369afd",
   "metadata": {},
   "outputs": [
    {
     "name": "stdout",
     "output_type": "stream",
     "text": [
      "Summary: \n",
      "******************************************************************************************\n",
      "count              500\n",
      "unique               2\n",
      "top       Creditworthy\n",
      "freq               358\n",
      "Name: Credit-Application-Result, dtype: object \n",
      "\n"
     ]
    },
    {
     "data": {
      "image/png": "[encoded data removed]",
      "text/plain": [
       "<Figure size 432x288 with 1 Axes>"
      ]
     },
     "metadata": {
      "needs_background": "light"
     },
     "output_type": "display_data"
    },
    {
     "name": "stdout",
     "output_type": "stream",
     "text": [
      "******************************************************************************************\n",
      "Value Counts: \n",
      "\n",
      "Creditworthy        358\n",
      "Non-Creditworthy    142\n",
      "Name: Credit-Application-Result, dtype: int64 \n",
      "\n",
      "******************************************************************************************\n",
      "Missing Values: 0\n"
     ]
    }
   ],
   "source": [
    "check_cat(data, 'Credit-Application-Result')"
   ]
  },
  {
   "cell_type": "markdown",
   "id": "69f62639",
   "metadata": {},
   "source": [
    "The exploration above shows that the target variable is imbalance because the creditworthy values far outweighs\n",
    "that of the non-creditworthy values."
   ]
  },
  {
   "cell_type": "code",
   "execution_count": 12,
   "id": "55c68cc9",
   "metadata": {},
   "outputs": [
    {
     "name": "stdout",
     "output_type": "stream",
     "text": [
      "Summary: \n",
      "******************************************************************************************\n",
      "count            500\n",
      "unique             2\n",
      "top       No Account\n",
      "freq             262\n",
      "Name: Account-Balance, dtype: object \n",
      "\n"
     ]
    },
    {
     "data": {
      "image/png": "[encoded data removed]",
      "text/plain": [
       "<Figure size 432x288 with 1 Axes>"
      ]
     },
     "metadata": {
      "needs_background": "light"
     },
     "output_type": "display_data"
    },
    {
     "name": "stdout",
     "output_type": "stream",
     "text": [
      "******************************************************************************************\n",
      "Value Counts: \n",
      "\n",
      "No Account      262\n",
      "Some Balance    238\n",
      "Name: Account-Balance, dtype: int64 \n",
      "\n",
      "******************************************************************************************\n",
      "Missing Values: 0\n"
     ]
    }
   ],
   "source": [
    "check_cat(data, 'Account-Balance')"
   ]
  },
  {
   "cell_type": "markdown",
   "id": "c7145eb8",
   "metadata": {},
   "source": [
    "This variable has no distribution issue and will be used later in the modelling "
   ]
  },
  {
   "cell_type": "code",
   "execution_count": 13,
   "id": "7c422f53",
   "metadata": {},
   "outputs": [
    {
     "name": "stdout",
     "output_type": "stream",
     "text": [
      "Summary: \n",
      "******************************************************************************************\n",
      "count         500\n",
      "unique          3\n",
      "top       Paid Up\n",
      "freq          260\n",
      "Name: Payment-Status-of-Previous-Credit, dtype: object \n",
      "\n"
     ]
    },
    {
     "data": {
      "image/png": "[encoded data removed]",
      "text/plain": [
       "<Figure size 432x288 with 1 Axes>"
      ]
     },
     "metadata": {
      "needs_background": "light"
     },
     "output_type": "display_data"
    },
    {
     "name": "stdout",
     "output_type": "stream",
     "text": [
      "******************************************************************************************\n",
      "Value Counts: \n",
      "\n",
      "Paid Up                       260\n",
      "No Problems (in this bank)    204\n",
      "Some Problems                  36\n",
      "Name: Payment-Status-of-Previous-Credit, dtype: int64 \n",
      "\n",
      "******************************************************************************************\n",
      "Missing Values: 0\n"
     ]
    }
   ],
   "source": [
    "check_cat(data, 'Payment-Status-of-Previous-Credit')"
   ]
  },
  {
   "cell_type": "markdown",
   "id": "9bb7ec24",
   "metadata": {},
   "source": [
    "This variable also has no issue hence will be used later in the modelling "
   ]
  },
  {
   "cell_type": "code",
   "execution_count": 14,
   "id": "e3d9dec2",
   "metadata": {},
   "outputs": [
    {
     "name": "stdout",
     "output_type": "stream",
     "text": [
      "Summary: \n",
      "******************************************************************************************\n",
      "count              500\n",
      "unique               4\n",
      "top       Home Related\n",
      "freq               355\n",
      "Name: Purpose, dtype: object \n",
      "\n"
     ]
    },
    {
     "data": {
      "image/png": "[encoded data removed]",
      "text/plain": [
       "<Figure size 432x288 with 1 Axes>"
      ]
     },
     "metadata": {
      "needs_background": "light"
     },
     "output_type": "display_data"
    },
    {
     "name": "stdout",
     "output_type": "stream",
     "text": [
      "******************************************************************************************\n",
      "Value Counts: \n",
      "\n",
      "Home Related    355\n",
      "Used car         83\n",
      "New car          47\n",
      "Other            15\n",
      "Name: Purpose, dtype: int64 \n",
      "\n",
      "******************************************************************************************\n",
      "Missing Values: 0\n"
     ]
    }
   ],
   "source": [
    "check_cat(data, 'Purpose')"
   ]
  },
  {
   "cell_type": "code",
   "execution_count": 15,
   "id": "7ef37a73",
   "metadata": {},
   "outputs": [],
   "source": [
    "#Re-engeneering purpose values to only contain 2 values: Home Related and Not Home Related\n",
    "data['Purpose']=data['Purpose'].replace({'New car':'Not Home Related','Used car':'Not Home Related','Other':'Not Home Related'})"
   ]
  },
  {
   "cell_type": "code",
   "execution_count": 16,
   "id": "189d9890",
   "metadata": {},
   "outputs": [
    {
     "name": "stdout",
     "output_type": "stream",
     "text": [
      "Summary: \n",
      "******************************************************************************************\n",
      "count      500\n",
      "unique       3\n",
      "top       None\n",
      "freq       298\n",
      "Name: Value-Savings-Stocks, dtype: object \n",
      "\n"
     ]
    },
    {
     "data": {
      "image/png": "[encoded data removed]",
      "text/plain": [
       "<Figure size 432x288 with 1 Axes>"
      ]
     },
     "metadata": {
      "needs_background": "light"
     },
     "output_type": "display_data"
    },
    {
     "name": "stdout",
     "output_type": "stream",
     "text": [
      "******************************************************************************************\n",
      "Value Counts: \n",
      "\n",
      "None          298\n",
      "£100-£1000    154\n",
      "< £100         48\n",
      "Name: Value-Savings-Stocks, dtype: int64 \n",
      "\n",
      "******************************************************************************************\n",
      "Missing Values: 0\n"
     ]
    }
   ],
   "source": [
    "check_cat(data, 'Value-Savings-Stocks')"
   ]
  },
  {
   "cell_type": "code",
   "execution_count": 17,
   "id": "eca89f6b",
   "metadata": {},
   "outputs": [
    {
     "name": "stdout",
     "output_type": "stream",
     "text": [
      "Summary: \n",
      "******************************************************************************************\n",
      "count       500\n",
      "unique        3\n",
      "top       < 1yr\n",
      "freq        279\n",
      "Name: Length-of-current-employment, dtype: object \n",
      "\n"
     ]
    },
    {
     "data": {
      "image/png": "[encoded data removed]",
      "text/plain": [
       "<Figure size 432x288 with 1 Axes>"
      ]
     },
     "metadata": {
      "needs_background": "light"
     },
     "output_type": "display_data"
    },
    {
     "name": "stdout",
     "output_type": "stream",
     "text": [
      "******************************************************************************************\n",
      "Value Counts: \n",
      "\n",
      "< 1yr      279\n",
      "4-7 yrs    124\n",
      "1-4 yrs     97\n",
      "Name: Length-of-current-employment, dtype: int64 \n",
      "\n",
      "******************************************************************************************\n",
      "Missing Values: 0\n"
     ]
    }
   ],
   "source": [
    "check_cat(data, 'Length-of-current-employment')"
   ]
  },
  {
   "cell_type": "code",
   "execution_count": 18,
   "id": "cc6ecb70",
   "metadata": {},
   "outputs": [
    {
     "name": "stdout",
     "output_type": "stream",
     "text": [
      "Summary: \n",
      "******************************************************************************************\n",
      "count      500\n",
      "unique       2\n",
      "top       None\n",
      "freq       457\n",
      "Name: Guarantors, dtype: object \n",
      "\n"
     ]
    },
    {
     "data": {
      "image/png": "[encoded data removed]",
      "text/plain": [
       "<Figure size 432x288 with 1 Axes>"
      ]
     },
     "metadata": {
      "needs_background": "light"
     },
     "output_type": "display_data"
    },
    {
     "name": "stdout",
     "output_type": "stream",
     "text": [
      "******************************************************************************************\n",
      "Value Counts: \n",
      "\n",
      "None    457\n",
      "Yes      43\n",
      "Name: Guarantors, dtype: int64 \n",
      "\n",
      "******************************************************************************************\n",
      "Missing Values: 0\n"
     ]
    }
   ],
   "source": [
    "check_cat(data, 'Guarantors')"
   ]
  },
  {
   "cell_type": "markdown",
   "id": "652118a6",
   "metadata": {},
   "source": [
    "This variable is heavily imbalanced and may be dropped if it has low correlation with the target variable."
   ]
  },
  {
   "cell_type": "code",
   "execution_count": 19,
   "id": "56123f4a",
   "metadata": {},
   "outputs": [
    {
     "name": "stdout",
     "output_type": "stream",
     "text": [
      "Summary: \n",
      "******************************************************************************************\n",
      "count                   500\n",
      "unique                    1\n",
      "top       Other Banks/Depts\n",
      "freq                    500\n",
      "Name: Concurrent-Credits, dtype: object \n",
      "\n"
     ]
    },
    {
     "data": {
      "image/png": "[encoded data removed]",
      "text/plain": [
       "<Figure size 432x288 with 1 Axes>"
      ]
     },
     "metadata": {
      "needs_background": "light"
     },
     "output_type": "display_data"
    },
    {
     "name": "stdout",
     "output_type": "stream",
     "text": [
      "******************************************************************************************\n",
      "Value Counts: \n",
      "\n",
      "Other Banks/Depts    500\n",
      "Name: Concurrent-Credits, dtype: int64 \n",
      "\n",
      "******************************************************************************************\n",
      "Missing Values: 0\n"
     ]
    }
   ],
   "source": [
    "check_cat(data, 'Concurrent-Credits')"
   ]
  },
  {
   "cell_type": "markdown",
   "id": "f921ddea",
   "metadata": {},
   "source": [
    "This variable has low variability. Hence it will be dropped.  "
   ]
  },
  {
   "cell_type": "code",
   "execution_count": 20,
   "id": "ef892ce6",
   "metadata": {},
   "outputs": [
    {
     "name": "stdout",
     "output_type": "stream",
     "text": [
      "Summary: \n",
      "******************************************************************************************\n",
      "count     500\n",
      "unique      2\n",
      "top         1\n",
      "freq      320\n",
      "Name: No-of-Credits-at-this-Bank, dtype: object \n",
      "\n"
     ]
    },
    {
     "data": {
      "image/png": "[encoded data removed]",
      "text/plain": [
       "<Figure size 432x288 with 1 Axes>"
      ]
     },
     "metadata": {
      "needs_background": "light"
     },
     "output_type": "display_data"
    },
    {
     "name": "stdout",
     "output_type": "stream",
     "text": [
      "******************************************************************************************\n",
      "Value Counts: \n",
      "\n",
      "1              320\n",
      "More than 1    180\n",
      "Name: No-of-Credits-at-this-Bank, dtype: int64 \n",
      "\n",
      "******************************************************************************************\n",
      "Missing Values: 0\n"
     ]
    }
   ],
   "source": [
    "check_cat(data, 'No-of-Credits-at-this-Bank')"
   ]
  },
  {
   "cell_type": "markdown",
   "id": "ea469c52",
   "metadata": {},
   "source": [
    "### Using Chi_Square to Find Relationships Among Categorical Variables"
   ]
  },
  {
   "cell_type": "code",
   "execution_count": 21,
   "id": "e35a4171",
   "metadata": {},
   "outputs": [],
   "source": [
    "def chi_square(df, x, y):\n",
    "    table = pd.crosstab(df[x], df[y])\n",
    "    test = stat()\n",
    "    test.chisq(df=table)\n",
    "    #add docstring\n",
    "    \n",
    "    print('Null hypothesis: {} and {} are Independent'.format(x,y))\n",
    "    print('Alternative hypothesis: {} and {} are Dependent'.format(x,y))\n",
    "    print('Test results')\n",
    "    print('*'*60)\n",
    "    print('Observed frequency values \\n')\n",
    "    print(table)\n",
    "    \n",
    "    print('*'*60)\n",
    "    print(test.expected_df)\n",
    "    print('*'*60)\n",
    "    print(test.summary)"
   ]
  },
  {
   "cell_type": "code",
   "execution_count": 22,
   "id": "50c57924",
   "metadata": {},
   "outputs": [
    {
     "name": "stdout",
     "output_type": "stream",
     "text": [
      "Null hypothesis: Account-Balance and Credit-Application-Result are Independent\n",
      "Alternative hypothesis: Account-Balance and Credit-Application-Result are Dependent\n",
      "Test results\n",
      "************************************************************\n",
      "Observed frequency values \n",
      "\n",
      "Credit-Application-Result  Creditworthy  Non-Creditworthy\n",
      "Account-Balance                                          \n",
      "No Account                          152               110\n",
      "Some Balance                        206                32\n",
      "************************************************************\n",
      "\n",
      "Expected frequency counts\n",
      "\n",
      "      Creditworthy    Non-Creditworthy\n",
      "--  --------------  ------------------\n",
      " 0         187.592              74.408\n",
      " 1         170.408              67.592\n",
      "\n",
      "************************************************************\n",
      "\n",
      "Chi-squared test for independence\n",
      "\n",
      "Test              Df    Chi-square      P-value\n",
      "--------------  ----  ------------  -----------\n",
      "Pearson            1       48.5598  3.20374e-12\n",
      "Log-likelihood     1       50.8098  1.01762e-12\n",
      "\n"
     ]
    }
   ],
   "source": [
    "chi_square(data, 'Account-Balance', 'Credit-Application-Result' )"
   ]
  },
  {
   "cell_type": "markdown",
   "id": "44661d9d",
   "metadata": {},
   "source": [
    "The correlation between Account-Balance and Credit-Application-Result is 3.20374e-12. Compared to the P-value of 0.05, the correlation value is less. Hence, Account-Balance and Credit-Application-Result are dependent and it will be used in the model."
   ]
  },
  {
   "cell_type": "raw",
   "id": "c65b3f07",
   "metadata": {},
   "source": [
    "Credit-Application-Result\n",
    "Account-Balance\n",
    "Payment-Status-of-Previous-Credit\n",
    "Purpose\n",
    "Value-Savings-Stocks\n",
    "Length-of-current-employment\n",
    "Guarantors\n",
    "Concurrent-Credits\n",
    "No-of-Credits-at-this-Bank"
   ]
  },
  {
   "cell_type": "code",
   "execution_count": 23,
   "id": "ea8230c8",
   "metadata": {},
   "outputs": [
    {
     "name": "stdout",
     "output_type": "stream",
     "text": [
      "Null hypothesis: Payment-Status-of-Previous-Credit and Credit-Application-Result are Independent\n",
      "Alternative hypothesis: Payment-Status-of-Previous-Credit and Credit-Application-Result are Dependent\n",
      "Test results\n",
      "************************************************************\n",
      "Observed frequency values \n",
      "\n",
      "Credit-Application-Result          Creditworthy  Non-Creditworthy\n",
      "Payment-Status-of-Previous-Credit                                \n",
      "No Problems (in this bank)                  162                42\n",
      "Paid Up                                     185                75\n",
      "Some Problems                                11                25\n",
      "************************************************************\n",
      "\n",
      "Expected frequency counts\n",
      "\n",
      "      Creditworthy    Non-Creditworthy\n",
      "--  --------------  ------------------\n",
      " 0         146.064              57.936\n",
      " 1         186.16               73.84\n",
      " 2          25.776              10.224\n",
      "\n",
      "************************************************************\n",
      "\n",
      "Chi-squared test for independence\n",
      "\n",
      "Test              Df    Chi-square      P-value\n",
      "--------------  ----  ------------  -----------\n",
      "Pearson            2       35.9725  1.54411e-08\n",
      "Log-likelihood     2       32.5286  8.63961e-08\n",
      "\n"
     ]
    }
   ],
   "source": [
    "chi_square(data, 'Payment-Status-of-Previous-Credit', 'Credit-Application-Result' ) "
   ]
  },
  {
   "cell_type": "markdown",
   "id": "743e231b",
   "metadata": {},
   "source": [
    "The correlation between Payment-Status-of-Previous-Credit and Credit-Application-Result is 1.54411e-08. Compared to the P-value of 0.05, the correlation value is less. Hence, Payment-Status-of-Previous-Credit and Credit-Application-Result are dependent and it will be used in the model."
   ]
  },
  {
   "cell_type": "code",
   "execution_count": 24,
   "id": "db321f68",
   "metadata": {},
   "outputs": [
    {
     "name": "stdout",
     "output_type": "stream",
     "text": [
      "Null hypothesis: Purpose and Credit-Application-Result are Independent\n",
      "Alternative hypothesis: Purpose and Credit-Application-Result are Dependent\n",
      "Test results\n",
      "************************************************************\n",
      "Observed frequency values \n",
      "\n",
      "Credit-Application-Result  Creditworthy  Non-Creditworthy\n",
      "Purpose                                                  \n",
      "Home Related                        244               111\n",
      "Not Home Related                    114                31\n",
      "************************************************************\n",
      "\n",
      "Expected frequency counts\n",
      "\n",
      "      Creditworthy    Non-Creditworthy\n",
      "--  --------------  ------------------\n",
      " 0          254.18              100.82\n",
      " 1          103.82               41.18\n",
      "\n",
      "************************************************************\n",
      "\n",
      "Chi-squared test for independence\n",
      "\n",
      "Test              Df    Chi-square    P-value\n",
      "--------------  ----  ------------  ---------\n",
      "Pearson            1       4.47603  0.0343735\n",
      "Log-likelihood     1       4.62836  0.0314477\n",
      "\n"
     ]
    }
   ],
   "source": [
    "chi_square(data, 'Purpose', 'Credit-Application-Result' )"
   ]
  },
  {
   "cell_type": "markdown",
   "id": "97427d79",
   "metadata": {},
   "source": [
    "The correlation between Purpose and Credit-Application-Result is 0.0343735. Compared to \n",
    "the P-value of 0.05, the correlation value is less. Hence, Purpose and Credit-Application-Result \n",
    "are dependent and it will be used in the model."
   ]
  },
  {
   "cell_type": "code",
   "execution_count": 25,
   "id": "312b3b00",
   "metadata": {},
   "outputs": [
    {
     "name": "stdout",
     "output_type": "stream",
     "text": [
      "Null hypothesis: Value-Savings-Stocks and Credit-Application-Result are Independent\n",
      "Alternative hypothesis: Value-Savings-Stocks and Credit-Application-Result are Dependent\n",
      "Test results\n",
      "************************************************************\n",
      "Observed frequency values \n",
      "\n",
      "Credit-Application-Result  Creditworthy  Non-Creditworthy\n",
      "Value-Savings-Stocks                                     \n",
      "< £100                               36                12\n",
      "None                                195               103\n",
      "£100-£1000                          127                27\n",
      "************************************************************\n",
      "\n",
      "Expected frequency counts\n",
      "\n",
      "      Creditworthy    Non-Creditworthy\n",
      "--  --------------  ------------------\n",
      " 0          34.368              13.632\n",
      " 1         213.368              84.632\n",
      " 2         110.264              43.736\n",
      "\n",
      "************************************************************\n",
      "\n",
      "Chi-squared test for independence\n",
      "\n",
      "Test              Df    Chi-square      P-value\n",
      "--------------  ----  ------------  -----------\n",
      "Pearson            2        14.785  0.00061586\n",
      "Log-likelihood     2        15.481  0.000434851\n",
      "\n"
     ]
    }
   ],
   "source": [
    "chi_square(data, 'Value-Savings-Stocks', 'Credit-Application-Result' )"
   ]
  },
  {
   "cell_type": "markdown",
   "id": "6c4e8916",
   "metadata": {},
   "source": [
    "The correlation between Value-Savings-Stocks and Credit-Application-Result is 0.00061586. Compared to the P-value of 0.05, \n",
    "the correlation value is less. Hence, Value-Savings-Stocks and Credit-Application-Result are dependent and it will be used \n",
    "in the model.\n",
    "\n"
   ]
  },
  {
   "cell_type": "code",
   "execution_count": 26,
   "id": "96a8cd59",
   "metadata": {},
   "outputs": [
    {
     "name": "stdout",
     "output_type": "stream",
     "text": [
      "Null hypothesis: Length-of-current-employment and Credit-Application-Result are Independent\n",
      "Alternative hypothesis: Length-of-current-employment and Credit-Application-Result are Dependent\n",
      "Test results\n",
      "************************************************************\n",
      "Observed frequency values \n",
      "\n",
      "Credit-Application-Result     Creditworthy  Non-Creditworthy\n",
      "Length-of-current-employment                                \n",
      "1-4 yrs                                 76                21\n",
      "4-7 yrs                                 94                30\n",
      "< 1yr                                  188                91\n",
      "************************************************************\n",
      "\n",
      "Expected frequency counts\n",
      "\n",
      "      Creditworthy    Non-Creditworthy\n",
      "--  --------------  ------------------\n",
      " 0          69.452              27.548\n",
      " 1          88.784              35.216\n",
      " 2         199.764              79.236\n",
      "\n",
      "************************************************************\n",
      "\n",
      "Chi-squared test for independence\n",
      "\n",
      "Test              Df    Chi-square    P-value\n",
      "--------------  ----  ------------  ---------\n",
      "Pearson            2       5.69213  0.0580725\n",
      "Log-likelihood     2       5.78294  0.0554945\n",
      "\n"
     ]
    }
   ],
   "source": [
    "chi_square(data, 'Length-of-current-employment', 'Credit-Application-Result' )"
   ]
  },
  {
   "cell_type": "markdown",
   "id": "9bbf1604",
   "metadata": {},
   "source": [
    "The correlation between Length-of-current-employment and Credit-Application-Result is 0.0580725. Compared to the P-value of 0.05, \n",
    "the correlation value is equal. Hence, Value-Savings-Stocks and Credit-Application-Result are dependent and it will be used \n",
    "in the model."
   ]
  },
  {
   "cell_type": "code",
   "execution_count": 27,
   "id": "cb1810f0",
   "metadata": {},
   "outputs": [
    {
     "name": "stdout",
     "output_type": "stream",
     "text": [
      "Null hypothesis: Guarantors and Credit-Application-Result are Independent\n",
      "Alternative hypothesis: Guarantors and Credit-Application-Result are Dependent\n",
      "Test results\n",
      "************************************************************\n",
      "Observed frequency values \n",
      "\n",
      "Credit-Application-Result  Creditworthy  Non-Creditworthy\n",
      "Guarantors                                               \n",
      "None                                330               127\n",
      "Yes                                  28                15\n",
      "************************************************************\n",
      "\n",
      "Expected frequency counts\n",
      "\n",
      "      Creditworthy    Non-Creditworthy\n",
      "--  --------------  ------------------\n",
      " 0         327.212             129.788\n",
      " 1          30.788              12.212\n",
      "\n",
      "************************************************************\n",
      "\n",
      "Chi-squared test for independence\n",
      "\n",
      "Test              Df    Chi-square    P-value\n",
      "--------------  ----  ------------  ---------\n",
      "Pearson            1      0.655037   0.418317\n",
      "Log-likelihood     1      0.635101   0.425491\n",
      "\n"
     ]
    }
   ],
   "source": [
    "chi_square(data, 'Guarantors', 'Credit-Application-Result' )"
   ]
  },
  {
   "cell_type": "markdown",
   "id": "f8aca033",
   "metadata": {},
   "source": [
    "The correlation between Guarantors and Credit-Application-Result is 0.418317. Compared to the P-value \n",
    "of 0.05, the correlation value is higher. Hence, Guarantors and Credit-Application-Result are independent and \n",
    "it will be dropped. "
   ]
  },
  {
   "cell_type": "code",
   "execution_count": 28,
   "id": "467488bc",
   "metadata": {},
   "outputs": [
    {
     "name": "stdout",
     "output_type": "stream",
     "text": [
      "Null hypothesis: Concurrent-Credits and Credit-Application-Result are Independent\n",
      "Alternative hypothesis: Concurrent-Credits and Credit-Application-Result are Dependent\n",
      "Test results\n",
      "************************************************************\n",
      "Observed frequency values \n",
      "\n",
      "Credit-Application-Result  Creditworthy  Non-Creditworthy\n",
      "Concurrent-Credits                                       \n",
      "Other Banks/Depts                   358               142\n",
      "************************************************************\n",
      "\n",
      "Expected frequency counts\n",
      "\n",
      "      Creditworthy    Non-Creditworthy\n",
      "--  --------------  ------------------\n",
      " 0             358                 142\n",
      "\n",
      "************************************************************\n",
      "\n",
      "Chi-squared test for independence\n",
      "\n",
      "Test              Df    Chi-square    P-value\n",
      "--------------  ----  ------------  ---------\n",
      "Pearson            0             0          1\n",
      "Log-likelihood     0             0          1\n",
      "\n"
     ]
    }
   ],
   "source": [
    "chi_square(data, 'Concurrent-Credits', 'Credit-Application-Result')"
   ]
  },
  {
   "cell_type": "markdown",
   "id": "a5e7415d",
   "metadata": {},
   "source": [
    "The correlation between Concurrent-Credits and Credit-Application-Result is 1. Compared to the P-value of 0.05, \n",
    "the correlation value is higher. Hence, Concurrent-Credits and Credit-Application-Result are absolutely independent and \n",
    "it will be dropped. "
   ]
  },
  {
   "cell_type": "code",
   "execution_count": 29,
   "id": "6aad31ec",
   "metadata": {},
   "outputs": [
    {
     "name": "stdout",
     "output_type": "stream",
     "text": [
      "Null hypothesis: No-of-Credits-at-this-Bank and Credit-Application-Result are Independent\n",
      "Alternative hypothesis: No-of-Credits-at-this-Bank and Credit-Application-Result are Dependent\n",
      "Test results\n",
      "************************************************************\n",
      "Observed frequency values \n",
      "\n",
      "Credit-Application-Result   Creditworthy  Non-Creditworthy\n",
      "No-of-Credits-at-this-Bank                                \n",
      "1                                    223                97\n",
      "More than 1                          135                45\n",
      "************************************************************\n",
      "\n",
      "Expected frequency counts\n",
      "\n",
      "      Creditworthy    Non-Creditworthy\n",
      "--  --------------  ------------------\n",
      " 0          229.12               90.88\n",
      " 1          128.88               51.12\n",
      "\n",
      "************************************************************\n",
      "\n",
      "Chi-squared test for independence\n",
      "\n",
      "Test              Df    Chi-square    P-value\n",
      "--------------  ----  ------------  ---------\n",
      "Pearson            1       1.34831   0.245574\n",
      "Log-likelihood     1       1.36299   0.243021\n",
      "\n"
     ]
    }
   ],
   "source": [
    "chi_square(data, 'No-of-Credits-at-this-Bank', 'Credit-Application-Result')"
   ]
  },
  {
   "cell_type": "markdown",
   "id": "ad6a5339",
   "metadata": {},
   "source": [
    "The correlation between Concurrent-Credits and Credit-Application-Result is 0.245574. Compared to the P-value of 0.05, \n",
    "the correlation value is higher. Hence, Concurrent-Credits and Credit-Application-Result are independent and may be dropped."
   ]
  },
  {
   "cell_type": "markdown",
   "id": "9d2a9998",
   "metadata": {},
   "source": [
    "### Creating a Function to Explore the Numerical Variables"
   ]
  },
  {
   "cell_type": "code",
   "execution_count": 30,
   "id": "d815050d",
   "metadata": {},
   "outputs": [],
   "source": [
    "def check_num(df, x):\n",
    "    print('Summary Statistics \\n')\n",
    "    print(df[x].apply([len, min, max, np.median, np.mean, np.std]))\n",
    "    print('*'*60)\n",
    "    print('Missing Values: {}'.format(df[x].isna().sum()))\n",
    "    print('*'*60)\n",
    "    plt.figure(figsize = (8, 4))\n",
    "    sns.distplot(df[x], color = 'b')\n",
    "    plt.show()"
   ]
  },
  {
   "cell_type": "code",
   "execution_count": 31,
   "id": "e0f95f20",
   "metadata": {},
   "outputs": [
    {
     "data": {
      "text/plain": [
       "Index(['Duration-of-Credit-Month', 'Credit-Amount', 'Instalment-per-cent',\n",
       "       'Duration-in-Current-address', 'Most-valuable-available-asset',\n",
       "       'Age-years', 'Type-of-apartment', 'Occupation', 'No-of-dependents',\n",
       "       'Telephone', 'Foreign-Worker'],\n",
       "      dtype='object')"
      ]
     },
     "execution_count": 31,
     "metadata": {},
     "output_type": "execute_result"
    }
   ],
   "source": [
    "numerical.columns"
   ]
  },
  {
   "cell_type": "code",
   "execution_count": 32,
   "id": "b1c90191",
   "metadata": {},
   "outputs": [
    {
     "name": "stdout",
     "output_type": "stream",
     "text": [
      "Summary Statistics \n",
      "\n",
      "len       500.00000\n",
      "min         4.00000\n",
      "max        60.00000\n",
      "median     18.00000\n",
      "mean       21.43400\n",
      "std        12.30742\n",
      "Name: Duration-of-Credit-Month, dtype: float64\n",
      "************************************************************\n",
      "Missing Values: 0\n",
      "************************************************************\n"
     ]
    },
    {
     "data": {
      "image/png": "[encoded data removed]",
      "text/plain": [
       "<Figure size 576x288 with 1 Axes>"
      ]
     },
     "metadata": {
      "needs_background": "light"
     },
     "output_type": "display_data"
    }
   ],
   "source": [
    "check_num(data, 'Duration-of-Credit-Month')"
   ]
  },
  {
   "cell_type": "code",
   "execution_count": 33,
   "id": "d501b513",
   "metadata": {},
   "outputs": [
    {
     "name": "stdout",
     "output_type": "stream",
     "text": [
      "Summary Statistics \n",
      "\n",
      "len         500.000000\n",
      "min         276.000000\n",
      "max       18424.000000\n",
      "median     2236.500000\n",
      "mean       3199.980000\n",
      "std        2831.386861\n",
      "Name: Credit-Amount, dtype: float64\n",
      "************************************************************\n",
      "Missing Values: 0\n",
      "************************************************************\n"
     ]
    },
    {
     "data": {
      "image/png": "[encoded data removed]",
      "text/plain": [
       "<Figure size 576x288 with 1 Axes>"
      ]
     },
     "metadata": {
      "needs_background": "light"
     },
     "output_type": "display_data"
    }
   ],
   "source": [
    "check_num(data, 'Credit-Amount')"
   ]
  },
  {
   "cell_type": "code",
   "execution_count": 34,
   "id": "78a47744",
   "metadata": {},
   "outputs": [
    {
     "name": "stdout",
     "output_type": "stream",
     "text": [
      "Summary Statistics \n",
      "\n",
      "len       500.000000\n",
      "min         1.000000\n",
      "max         4.000000\n",
      "median      3.000000\n",
      "mean        3.010000\n",
      "std         1.113724\n",
      "Name: Instalment-per-cent, dtype: float64\n",
      "************************************************************\n",
      "Missing Values: 0\n",
      "************************************************************\n"
     ]
    },
    {
     "data": {
      "image/png": "[encoded data removed]",
      "text/plain": [
       "<Figure size 576x288 with 1 Axes>"
      ]
     },
     "metadata": {
      "needs_background": "light"
     },
     "output_type": "display_data"
    }
   ],
   "source": [
    "check_num(data, 'Instalment-per-cent')"
   ]
  },
  {
   "cell_type": "code",
   "execution_count": 35,
   "id": "5f28f5b7",
   "metadata": {},
   "outputs": [
    {
     "name": "stdout",
     "output_type": "stream",
     "text": [
      "Summary Statistics \n",
      "\n",
      "len       500.000000\n",
      "min         1.000000\n",
      "max         4.000000\n",
      "median      2.000000\n",
      "mean        2.660256\n",
      "std         1.150017\n",
      "Name: Duration-in-Current-address, dtype: float64\n",
      "************************************************************\n",
      "Missing Values: 344\n",
      "************************************************************\n"
     ]
    },
    {
     "data": {
      "image/png": "[encoded data removed]",
      "text/plain": [
       "<Figure size 576x288 with 1 Axes>"
      ]
     },
     "metadata": {
      "needs_background": "light"
     },
     "output_type": "display_data"
    }
   ],
   "source": [
    "check_num(data, 'Duration-in-Current-address')"
   ]
  },
  {
   "cell_type": "code",
   "execution_count": 36,
   "id": "c488ea10",
   "metadata": {},
   "outputs": [
    {
     "name": "stdout",
     "output_type": "stream",
     "text": [
      "Summary Statistics \n",
      "\n",
      "len       500.000000\n",
      "min         1.000000\n",
      "max         4.000000\n",
      "median      3.000000\n",
      "mean        2.360000\n",
      "std         1.064268\n",
      "Name: Most-valuable-available-asset, dtype: float64\n",
      "************************************************************\n",
      "Missing Values: 0\n",
      "************************************************************\n"
     ]
    },
    {
     "data": {
      "image/png": "[encoded data removed]",
      "text/plain": [
       "<Figure size 576x288 with 1 Axes>"
      ]
     },
     "metadata": {
      "needs_background": "light"
     },
     "output_type": "display_data"
    }
   ],
   "source": [
    "check_num(data, 'Most-valuable-available-asset')"
   ]
  },
  {
   "cell_type": "code",
   "execution_count": 37,
   "id": "3ae1636c",
   "metadata": {},
   "outputs": [
    {
     "name": "stdout",
     "output_type": "stream",
     "text": [
      "Summary Statistics \n",
      "\n",
      "len       500.000000\n",
      "min        19.000000\n",
      "max        75.000000\n",
      "median     33.000000\n",
      "mean       35.637295\n",
      "std        11.501522\n",
      "Name: Age-years, dtype: float64\n",
      "************************************************************\n",
      "Missing Values: 12\n",
      "************************************************************\n"
     ]
    },
    {
     "data": {
      "image/png": "[encoded data removed]",
      "text/plain": [
       "<Figure size 576x288 with 1 Axes>"
      ]
     },
     "metadata": {
      "needs_background": "light"
     },
     "output_type": "display_data"
    }
   ],
   "source": [
    "check_num(data, 'Age-years')"
   ]
  },
  {
   "cell_type": "code",
   "execution_count": 38,
   "id": "4aa31919",
   "metadata": {},
   "outputs": [
    {
     "name": "stdout",
     "output_type": "stream",
     "text": [
      "Summary Statistics \n",
      "\n",
      "len       500.000000\n",
      "min         1.000000\n",
      "max         3.000000\n",
      "median      2.000000\n",
      "mean        1.928000\n",
      "std         0.539814\n",
      "Name: Type-of-apartment, dtype: float64\n",
      "************************************************************\n",
      "Missing Values: 0\n",
      "************************************************************\n"
     ]
    },
    {
     "data": {
      "image/png": "[encoded data removed]",
      "text/plain": [
       "<Figure size 576x288 with 1 Axes>"
      ]
     },
     "metadata": {
      "needs_background": "light"
     },
     "output_type": "display_data"
    }
   ],
   "source": [
    "check_num(data, 'Type-of-apartment')"
   ]
  },
  {
   "cell_type": "code",
   "execution_count": 39,
   "id": "1dd4c3b0",
   "metadata": {},
   "outputs": [
    {
     "name": "stdout",
     "output_type": "stream",
     "text": [
      "Summary Statistics \n",
      "\n",
      "len       500.00000\n",
      "min         1.00000\n",
      "max         2.00000\n",
      "median      1.00000\n",
      "mean        1.14600\n",
      "std         0.35346\n",
      "Name: No-of-dependents, dtype: float64\n",
      "************************************************************\n",
      "Missing Values: 0\n",
      "************************************************************\n"
     ]
    },
    {
     "data": {
      "image/png": "[encoded data removed]",
      "text/plain": [
       "<Figure size 576x288 with 1 Axes>"
      ]
     },
     "metadata": {
      "needs_background": "light"
     },
     "output_type": "display_data"
    }
   ],
   "source": [
    "check_num(data, 'No-of-dependents')"
   ]
  },
  {
   "cell_type": "code",
   "execution_count": 40,
   "id": "a21644de",
   "metadata": {},
   "outputs": [
    {
     "name": "stdout",
     "output_type": "stream",
     "text": [
      "Summary Statistics \n",
      "\n",
      "len       500.000000\n",
      "min         1.000000\n",
      "max         2.000000\n",
      "median      1.000000\n",
      "mean        1.400000\n",
      "std         0.490389\n",
      "Name: Telephone, dtype: float64\n",
      "************************************************************\n",
      "Missing Values: 0\n",
      "************************************************************\n"
     ]
    },
    {
     "data": {
      "image/png": "[encoded data removed]",
      "text/plain": [
       "<Figure size 576x288 with 1 Axes>"
      ]
     },
     "metadata": {
      "needs_background": "light"
     },
     "output_type": "display_data"
    }
   ],
   "source": [
    "check_num(data, 'Telephone')"
   ]
  },
  {
   "cell_type": "code",
   "execution_count": 41,
   "id": "863b2d5e",
   "metadata": {},
   "outputs": [
    {
     "name": "stdout",
     "output_type": "stream",
     "text": [
      "Summary Statistics \n",
      "\n",
      "len       500.0\n",
      "min         1.0\n",
      "max         1.0\n",
      "median      1.0\n",
      "mean        1.0\n",
      "std         0.0\n",
      "Name: Occupation, dtype: float64\n",
      "************************************************************\n",
      "Missing Values: 0\n",
      "************************************************************\n"
     ]
    },
    {
     "data": {
      "image/png": "[encoded data removed]",
      "text/plain": [
       "<Figure size 576x288 with 1 Axes>"
      ]
     },
     "metadata": {
      "needs_background": "light"
     },
     "output_type": "display_data"
    }
   ],
   "source": [
    "check_num(data, 'Occupation')"
   ]
  },
  {
   "cell_type": "code",
   "execution_count": 42,
   "id": "8d1e9d25",
   "metadata": {},
   "outputs": [
    {
     "name": "stdout",
     "output_type": "stream",
     "text": [
      "Summary Statistics \n",
      "\n",
      "len       500.000000\n",
      "min         1.000000\n",
      "max         2.000000\n",
      "median      1.000000\n",
      "mean        1.038000\n",
      "std         0.191388\n",
      "Name: Foreign-Worker, dtype: float64\n",
      "************************************************************\n",
      "Missing Values: 0\n",
      "************************************************************\n"
     ]
    },
    {
     "data": {
      "image/png": "[encoded data removed]",
      "text/plain": [
       "<Figure size 576x288 with 1 Axes>"
      ]
     },
     "metadata": {
      "needs_background": "light"
     },
     "output_type": "display_data"
    }
   ],
   "source": [
    "check_num(data, 'Foreign-Worker')"
   ]
  },
  {
   "cell_type": "markdown",
   "id": "7a65c420",
   "metadata": {},
   "source": [
    "### Correlation Between Numerical Values\n"
   ]
  },
  {
   "cell_type": "markdown",
   "id": "86570413",
   "metadata": {},
   "source": [
    "Relationship between variables are inspected using pairpot. This will inform us about which predictor variables are highly correlated or not."
   ]
  },
  {
   "cell_type": "code",
   "execution_count": 43,
   "id": "de57c114",
   "metadata": {},
   "outputs": [
    {
     "data": {
      "text/plain": [
       "<AxesSubplot:>"
      ]
     },
     "execution_count": 43,
     "metadata": {},
     "output_type": "execute_result"
    },
    {
     "data": {
      "image/png": "[encoded data removed]",
      "text/plain": [
       "<Figure size 864x360 with 2 Axes>"
      ]
     },
     "metadata": {
      "needs_background": "light"
     },
     "output_type": "display_data"
    }
   ],
   "source": [
    "corrMatrix=numerical.corr()\n",
    "plt.figure(figsize=(12,5))\n",
    "sns.heatmap(data=corrMatrix,annot=True,fmt='.3g',linewidths=3, cmap = 'cividis') "
   ]
  },
  {
   "cell_type": "markdown",
   "id": "a3aa278f",
   "metadata": {},
   "source": [
    "From the heatmap above, Occupaton, Telephone, Foreign-Worker and No-of-dependents may be dropped"
   ]
  },
  {
   "cell_type": "markdown",
   "id": "80afd846",
   "metadata": {},
   "source": [
    "Filling in the Missing Values for the Age-years variable using the Median age."
   ]
  },
  {
   "cell_type": "code",
   "execution_count": 44,
   "id": "717d08c6",
   "metadata": {},
   "outputs": [
    {
     "data": {
      "text/plain": [
       "Credit-Application-Result              0\n",
       "Account-Balance                        0\n",
       "Duration-of-Credit-Month               0\n",
       "Payment-Status-of-Previous-Credit      0\n",
       "Purpose                                0\n",
       "Credit-Amount                          0\n",
       "Value-Savings-Stocks                   0\n",
       "Length-of-current-employment           0\n",
       "Instalment-per-cent                    0\n",
       "Guarantors                             0\n",
       "Duration-in-Current-address          344\n",
       "Most-valuable-available-asset          0\n",
       "Age-years                              0\n",
       "Concurrent-Credits                     0\n",
       "Type-of-apartment                      0\n",
       "No-of-Credits-at-this-Bank             0\n",
       "Occupation                             0\n",
       "No-of-dependents                       0\n",
       "Telephone                              0\n",
       "Foreign-Worker                         0\n",
       "dtype: int64"
      ]
     },
     "execution_count": 44,
     "metadata": {},
     "output_type": "execute_result"
    }
   ],
   "source": [
    "data['Age-years'].fillna(np.round(data['Age-years'].median(), 0), inplace=True)\n",
    "data.isnull().sum()"
   ]
  },
  {
   "cell_type": "markdown",
   "id": "e5b5bc54",
   "metadata": {},
   "source": [
    "### Dropping Redundant variables"
   ]
  },
  {
   "cell_type": "code",
   "execution_count": 45,
   "id": "b91eb5bf",
   "metadata": {},
   "outputs": [],
   "source": [
    "data.drop(['Foreign-Worker', 'Concurrent-Credits','Telephone','Duration-in-Current-address', \n",
    "           'Guarantors', 'Occupation','No-of-dependents'], axis=1, inplace=True)  "
   ]
  },
  {
   "cell_type": "code",
   "execution_count": 46,
   "id": "dae937d7",
   "metadata": {},
   "outputs": [
    {
     "data": {
      "text/html": [
       "<div>\n",
       "<style scoped>\n",
       "    .dataframe tbody tr th:only-of-type {\n",
       "        vertical-align: middle;\n",
       "    }\n",
       "\n",
       "    .dataframe tbody tr th {\n",
       "        vertical-align: top;\n",
       "    }\n",
       "\n",
       "    .dataframe thead th {\n",
       "        text-align: right;\n",
       "    }\n",
       "</style>\n",
       "<table border=\"1\" class=\"dataframe\">\n",
       "  <thead>\n",
       "    <tr style=\"text-align: right;\">\n",
       "      <th></th>\n",
       "      <th>Credit-Application-Result</th>\n",
       "      <th>Account-Balance</th>\n",
       "      <th>Duration-of-Credit-Month</th>\n",
       "      <th>Payment-Status-of-Previous-Credit</th>\n",
       "      <th>Purpose</th>\n",
       "      <th>Credit-Amount</th>\n",
       "      <th>Value-Savings-Stocks</th>\n",
       "      <th>Length-of-current-employment</th>\n",
       "      <th>Instalment-per-cent</th>\n",
       "      <th>Most-valuable-available-asset</th>\n",
       "      <th>Age-years</th>\n",
       "      <th>Type-of-apartment</th>\n",
       "      <th>No-of-Credits-at-this-Bank</th>\n",
       "    </tr>\n",
       "  </thead>\n",
       "  <tbody>\n",
       "    <tr>\n",
       "      <th>0</th>\n",
       "      <td>Creditworthy</td>\n",
       "      <td>Some Balance</td>\n",
       "      <td>4</td>\n",
       "      <td>Paid Up</td>\n",
       "      <td>Not Home Related</td>\n",
       "      <td>1494</td>\n",
       "      <td>£100-£1000</td>\n",
       "      <td>&lt; 1yr</td>\n",
       "      <td>1</td>\n",
       "      <td>1</td>\n",
       "      <td>33.0</td>\n",
       "      <td>2</td>\n",
       "      <td>1</td>\n",
       "    </tr>\n",
       "    <tr>\n",
       "      <th>1</th>\n",
       "      <td>Creditworthy</td>\n",
       "      <td>Some Balance</td>\n",
       "      <td>4</td>\n",
       "      <td>Paid Up</td>\n",
       "      <td>Home Related</td>\n",
       "      <td>1494</td>\n",
       "      <td>£100-£1000</td>\n",
       "      <td>&lt; 1yr</td>\n",
       "      <td>1</td>\n",
       "      <td>1</td>\n",
       "      <td>29.0</td>\n",
       "      <td>2</td>\n",
       "      <td>1</td>\n",
       "    </tr>\n",
       "    <tr>\n",
       "      <th>2</th>\n",
       "      <td>Creditworthy</td>\n",
       "      <td>Some Balance</td>\n",
       "      <td>4</td>\n",
       "      <td>No Problems (in this bank)</td>\n",
       "      <td>Home Related</td>\n",
       "      <td>1544</td>\n",
       "      <td>None</td>\n",
       "      <td>1-4 yrs</td>\n",
       "      <td>2</td>\n",
       "      <td>1</td>\n",
       "      <td>42.0</td>\n",
       "      <td>2</td>\n",
       "      <td>More than 1</td>\n",
       "    </tr>\n",
       "    <tr>\n",
       "      <th>3</th>\n",
       "      <td>Creditworthy</td>\n",
       "      <td>Some Balance</td>\n",
       "      <td>4</td>\n",
       "      <td>No Problems (in this bank)</td>\n",
       "      <td>Home Related</td>\n",
       "      <td>3380</td>\n",
       "      <td>None</td>\n",
       "      <td>1-4 yrs</td>\n",
       "      <td>1</td>\n",
       "      <td>1</td>\n",
       "      <td>37.0</td>\n",
       "      <td>2</td>\n",
       "      <td>1</td>\n",
       "    </tr>\n",
       "    <tr>\n",
       "      <th>4</th>\n",
       "      <td>Creditworthy</td>\n",
       "      <td>No Account</td>\n",
       "      <td>6</td>\n",
       "      <td>Paid Up</td>\n",
       "      <td>Home Related</td>\n",
       "      <td>343</td>\n",
       "      <td>None</td>\n",
       "      <td>&lt; 1yr</td>\n",
       "      <td>4</td>\n",
       "      <td>1</td>\n",
       "      <td>27.0</td>\n",
       "      <td>2</td>\n",
       "      <td>1</td>\n",
       "    </tr>\n",
       "  </tbody>\n",
       "</table>\n",
       "</div>"
      ],
      "text/plain": [
       "  Credit-Application-Result Account-Balance  Duration-of-Credit-Month  \\\n",
       "0              Creditworthy    Some Balance                         4   \n",
       "1              Creditworthy    Some Balance                         4   \n",
       "2              Creditworthy    Some Balance                         4   \n",
       "3              Creditworthy    Some Balance                         4   \n",
       "4              Creditworthy      No Account                         6   \n",
       "\n",
       "  Payment-Status-of-Previous-Credit           Purpose  Credit-Amount  \\\n",
       "0                           Paid Up  Not Home Related           1494   \n",
       "1                           Paid Up      Home Related           1494   \n",
       "2        No Problems (in this bank)      Home Related           1544   \n",
       "3        No Problems (in this bank)      Home Related           3380   \n",
       "4                           Paid Up      Home Related            343   \n",
       "\n",
       "  Value-Savings-Stocks Length-of-current-employment  Instalment-per-cent  \\\n",
       "0           £100-£1000                        < 1yr                    1   \n",
       "1           £100-£1000                        < 1yr                    1   \n",
       "2                 None                      1-4 yrs                    2   \n",
       "3                 None                      1-4 yrs                    1   \n",
       "4                 None                        < 1yr                    4   \n",
       "\n",
       "   Most-valuable-available-asset  Age-years  Type-of-apartment  \\\n",
       "0                              1       33.0                  2   \n",
       "1                              1       29.0                  2   \n",
       "2                              1       42.0                  2   \n",
       "3                              1       37.0                  2   \n",
       "4                              1       27.0                  2   \n",
       "\n",
       "  No-of-Credits-at-this-Bank  \n",
       "0                          1  \n",
       "1                          1  \n",
       "2                More than 1  \n",
       "3                          1  \n",
       "4                          1  "
      ]
     },
     "execution_count": 46,
     "metadata": {},
     "output_type": "execute_result"
    }
   ],
   "source": [
    "data.head()"
   ]
  },
  {
   "cell_type": "code",
   "execution_count": 47,
   "id": "1f2f940d",
   "metadata": {},
   "outputs": [
    {
     "data": {
      "text/plain": [
       "Credit-Application-Result            0\n",
       "Account-Balance                      0\n",
       "Duration-of-Credit-Month             0\n",
       "Payment-Status-of-Previous-Credit    0\n",
       "Purpose                              0\n",
       "Credit-Amount                        0\n",
       "Value-Savings-Stocks                 0\n",
       "Length-of-current-employment         0\n",
       "Instalment-per-cent                  0\n",
       "Most-valuable-available-asset        0\n",
       "Age-years                            0\n",
       "Type-of-apartment                    0\n",
       "No-of-Credits-at-this-Bank           0\n",
       "dtype: int64"
      ]
     },
     "execution_count": 47,
     "metadata": {},
     "output_type": "execute_result"
    }
   ],
   "source": [
    "data.isnull().sum()"
   ]
  },
  {
   "cell_type": "markdown",
   "id": "d4e430e5",
   "metadata": {},
   "source": [
    "### Applying one-hot-encoding on the variable"
   ]
  },
  {
   "cell_type": "code",
   "execution_count": 48,
   "id": "580a19a5",
   "metadata": {},
   "outputs": [
    {
     "name": "stdout",
     "output_type": "stream",
     "text": [
      "<class 'pandas.core.frame.DataFrame'>\n",
      "RangeIndex: 500 entries, 0 to 499\n",
      "Data columns (total 13 columns):\n",
      " #   Column                             Non-Null Count  Dtype  \n",
      "---  ------                             --------------  -----  \n",
      " 0   Credit-Application-Result          500 non-null    object \n",
      " 1   Account-Balance                    500 non-null    object \n",
      " 2   Duration-of-Credit-Month           500 non-null    int64  \n",
      " 3   Payment-Status-of-Previous-Credit  500 non-null    object \n",
      " 4   Purpose                            500 non-null    object \n",
      " 5   Credit-Amount                      500 non-null    int64  \n",
      " 6   Value-Savings-Stocks               500 non-null    object \n",
      " 7   Length-of-current-employment       500 non-null    object \n",
      " 8   Instalment-per-cent                500 non-null    int64  \n",
      " 9   Most-valuable-available-asset      500 non-null    int64  \n",
      " 10  Age-years                          500 non-null    float64\n",
      " 11  Type-of-apartment                  500 non-null    int64  \n",
      " 12  No-of-Credits-at-this-Bank         500 non-null    object \n",
      "dtypes: float64(1), int64(5), object(7)\n",
      "memory usage: 50.9+ KB\n"
     ]
    }
   ],
   "source": [
    "data.info()"
   ]
  },
  {
   "cell_type": "code",
   "execution_count": 49,
   "id": "f8758239",
   "metadata": {},
   "outputs": [],
   "source": [
    "#changing the target variable into a numerical variable\n",
    "data['Credit-Application-Result']=data['Credit-Application-Result'].replace({'Creditworthy':1,'Non-Creditworthy':0})"
   ]
  },
  {
   "cell_type": "code",
   "execution_count": 50,
   "id": "f38d4114",
   "metadata": {},
   "outputs": [
    {
     "data": {
      "text/plain": [
       "1    358\n",
       "0    142\n",
       "Name: Credit-Application-Result, dtype: int64"
      ]
     },
     "execution_count": 50,
     "metadata": {},
     "output_type": "execute_result"
    }
   ],
   "source": [
    "data['Credit-Application-Result'].value_counts()"
   ]
  },
  {
   "cell_type": "code",
   "execution_count": 51,
   "id": "ca807ae3",
   "metadata": {},
   "outputs": [],
   "source": [
    "data = pd.get_dummies(data, columns = ['Account-Balance', 'Payment-Status-of-Previous-Credit',\n",
    "                                       'No-of-Credits-at-this-Bank','Purpose', 'Length-of-current-employment',\n",
    "                                       'Value-Savings-Stocks' ], drop_first = True)"
   ]
  },
  {
   "cell_type": "code",
   "execution_count": 52,
   "id": "573b0990",
   "metadata": {},
   "outputs": [
    {
     "data": {
      "text/html": [
       "<div>\n",
       "<style scoped>\n",
       "    .dataframe tbody tr th:only-of-type {\n",
       "        vertical-align: middle;\n",
       "    }\n",
       "\n",
       "    .dataframe tbody tr th {\n",
       "        vertical-align: top;\n",
       "    }\n",
       "\n",
       "    .dataframe thead th {\n",
       "        text-align: right;\n",
       "    }\n",
       "</style>\n",
       "<table border=\"1\" class=\"dataframe\">\n",
       "  <thead>\n",
       "    <tr style=\"text-align: right;\">\n",
       "      <th></th>\n",
       "      <th>Credit-Application-Result</th>\n",
       "      <th>Duration-of-Credit-Month</th>\n",
       "      <th>Credit-Amount</th>\n",
       "      <th>Instalment-per-cent</th>\n",
       "      <th>Most-valuable-available-asset</th>\n",
       "      <th>Age-years</th>\n",
       "      <th>Type-of-apartment</th>\n",
       "      <th>Account-Balance_Some Balance</th>\n",
       "      <th>Payment-Status-of-Previous-Credit_Paid Up</th>\n",
       "      <th>Payment-Status-of-Previous-Credit_Some Problems</th>\n",
       "      <th>No-of-Credits-at-this-Bank_More than 1</th>\n",
       "      <th>Purpose_Not Home Related</th>\n",
       "      <th>Length-of-current-employment_4-7 yrs</th>\n",
       "      <th>Length-of-current-employment_&lt; 1yr</th>\n",
       "      <th>Value-Savings-Stocks_None</th>\n",
       "      <th>Value-Savings-Stocks_£100-£1000</th>\n",
       "    </tr>\n",
       "  </thead>\n",
       "  <tbody>\n",
       "    <tr>\n",
       "      <th>0</th>\n",
       "      <td>1</td>\n",
       "      <td>4</td>\n",
       "      <td>1494</td>\n",
       "      <td>1</td>\n",
       "      <td>1</td>\n",
       "      <td>33.0</td>\n",
       "      <td>2</td>\n",
       "      <td>1</td>\n",
       "      <td>1</td>\n",
       "      <td>0</td>\n",
       "      <td>0</td>\n",
       "      <td>1</td>\n",
       "      <td>0</td>\n",
       "      <td>1</td>\n",
       "      <td>0</td>\n",
       "      <td>1</td>\n",
       "    </tr>\n",
       "    <tr>\n",
       "      <th>1</th>\n",
       "      <td>1</td>\n",
       "      <td>4</td>\n",
       "      <td>1494</td>\n",
       "      <td>1</td>\n",
       "      <td>1</td>\n",
       "      <td>29.0</td>\n",
       "      <td>2</td>\n",
       "      <td>1</td>\n",
       "      <td>1</td>\n",
       "      <td>0</td>\n",
       "      <td>0</td>\n",
       "      <td>0</td>\n",
       "      <td>0</td>\n",
       "      <td>1</td>\n",
       "      <td>0</td>\n",
       "      <td>1</td>\n",
       "    </tr>\n",
       "    <tr>\n",
       "      <th>2</th>\n",
       "      <td>1</td>\n",
       "      <td>4</td>\n",
       "      <td>1544</td>\n",
       "      <td>2</td>\n",
       "      <td>1</td>\n",
       "      <td>42.0</td>\n",
       "      <td>2</td>\n",
       "      <td>1</td>\n",
       "      <td>0</td>\n",
       "      <td>0</td>\n",
       "      <td>1</td>\n",
       "      <td>0</td>\n",
       "      <td>0</td>\n",
       "      <td>0</td>\n",
       "      <td>1</td>\n",
       "      <td>0</td>\n",
       "    </tr>\n",
       "    <tr>\n",
       "      <th>3</th>\n",
       "      <td>1</td>\n",
       "      <td>4</td>\n",
       "      <td>3380</td>\n",
       "      <td>1</td>\n",
       "      <td>1</td>\n",
       "      <td>37.0</td>\n",
       "      <td>2</td>\n",
       "      <td>1</td>\n",
       "      <td>0</td>\n",
       "      <td>0</td>\n",
       "      <td>0</td>\n",
       "      <td>0</td>\n",
       "      <td>0</td>\n",
       "      <td>0</td>\n",
       "      <td>1</td>\n",
       "      <td>0</td>\n",
       "    </tr>\n",
       "    <tr>\n",
       "      <th>4</th>\n",
       "      <td>1</td>\n",
       "      <td>6</td>\n",
       "      <td>343</td>\n",
       "      <td>4</td>\n",
       "      <td>1</td>\n",
       "      <td>27.0</td>\n",
       "      <td>2</td>\n",
       "      <td>0</td>\n",
       "      <td>1</td>\n",
       "      <td>0</td>\n",
       "      <td>0</td>\n",
       "      <td>0</td>\n",
       "      <td>0</td>\n",
       "      <td>1</td>\n",
       "      <td>1</td>\n",
       "      <td>0</td>\n",
       "    </tr>\n",
       "  </tbody>\n",
       "</table>\n",
       "</div>"
      ],
      "text/plain": [
       "   Credit-Application-Result  Duration-of-Credit-Month  Credit-Amount  \\\n",
       "0                          1                         4           1494   \n",
       "1                          1                         4           1494   \n",
       "2                          1                         4           1544   \n",
       "3                          1                         4           3380   \n",
       "4                          1                         6            343   \n",
       "\n",
       "   Instalment-per-cent  Most-valuable-available-asset  Age-years  \\\n",
       "0                    1                              1       33.0   \n",
       "1                    1                              1       29.0   \n",
       "2                    2                              1       42.0   \n",
       "3                    1                              1       37.0   \n",
       "4                    4                              1       27.0   \n",
       "\n",
       "   Type-of-apartment  Account-Balance_Some Balance  \\\n",
       "0                  2                             1   \n",
       "1                  2                             1   \n",
       "2                  2                             1   \n",
       "3                  2                             1   \n",
       "4                  2                             0   \n",
       "\n",
       "   Payment-Status-of-Previous-Credit_Paid Up  \\\n",
       "0                                          1   \n",
       "1                                          1   \n",
       "2                                          0   \n",
       "3                                          0   \n",
       "4                                          1   \n",
       "\n",
       "   Payment-Status-of-Previous-Credit_Some Problems  \\\n",
       "0                                                0   \n",
       "1                                                0   \n",
       "2                                                0   \n",
       "3                                                0   \n",
       "4                                                0   \n",
       "\n",
       "   No-of-Credits-at-this-Bank_More than 1  Purpose_Not Home Related  \\\n",
       "0                                       0                         1   \n",
       "1                                       0                         0   \n",
       "2                                       1                         0   \n",
       "3                                       0                         0   \n",
       "4                                       0                         0   \n",
       "\n",
       "   Length-of-current-employment_4-7 yrs  Length-of-current-employment_< 1yr  \\\n",
       "0                                     0                                   1   \n",
       "1                                     0                                   1   \n",
       "2                                     0                                   0   \n",
       "3                                     0                                   0   \n",
       "4                                     0                                   1   \n",
       "\n",
       "   Value-Savings-Stocks_None  Value-Savings-Stocks_£100-£1000  \n",
       "0                          0                                1  \n",
       "1                          0                                1  \n",
       "2                          1                                0  \n",
       "3                          1                                0  \n",
       "4                          1                                0  "
      ]
     },
     "execution_count": 52,
     "metadata": {},
     "output_type": "execute_result"
    }
   ],
   "source": [
    "data.head()"
   ]
  },
  {
   "cell_type": "markdown",
   "id": "5c23bb3e",
   "metadata": {},
   "source": [
    "### Preparing the Data for Modelling "
   ]
  },
  {
   "cell_type": "markdown",
   "id": "38146dfb",
   "metadata": {},
   "source": [
    "**Splitting the data into target and predictor variables**"
   ]
  },
  {
   "cell_type": "code",
   "execution_count": 53,
   "id": "e0011aa7",
   "metadata": {},
   "outputs": [],
   "source": [
    "X = data.drop('Credit-Application-Result',axis = 1)  #Predictor Variable \n",
    "y = data['Credit-Application-Result']               #Target Variable"
   ]
  },
  {
   "cell_type": "code",
   "execution_count": 54,
   "id": "75d2d739",
   "metadata": {},
   "outputs": [
    {
     "data": {
      "text/plain": [
       "0    1\n",
       "1    1\n",
       "2    1\n",
       "3    1\n",
       "4    1\n",
       "Name: Credit-Application-Result, dtype: int64"
      ]
     },
     "execution_count": 54,
     "metadata": {},
     "output_type": "execute_result"
    }
   ],
   "source": [
    "y.head()"
   ]
  },
  {
   "cell_type": "code",
   "execution_count": 55,
   "id": "9722708f",
   "metadata": {},
   "outputs": [
    {
     "data": {
      "text/html": [
       "<div>\n",
       "<style scoped>\n",
       "    .dataframe tbody tr th:only-of-type {\n",
       "        vertical-align: middle;\n",
       "    }\n",
       "\n",
       "    .dataframe tbody tr th {\n",
       "        vertical-align: top;\n",
       "    }\n",
       "\n",
       "    .dataframe thead th {\n",
       "        text-align: right;\n",
       "    }\n",
       "</style>\n",
       "<table border=\"1\" class=\"dataframe\">\n",
       "  <thead>\n",
       "    <tr style=\"text-align: right;\">\n",
       "      <th></th>\n",
       "      <th>Duration-of-Credit-Month</th>\n",
       "      <th>Credit-Amount</th>\n",
       "      <th>Instalment-per-cent</th>\n",
       "      <th>Most-valuable-available-asset</th>\n",
       "      <th>Age-years</th>\n",
       "      <th>Type-of-apartment</th>\n",
       "      <th>Account-Balance_Some Balance</th>\n",
       "      <th>Payment-Status-of-Previous-Credit_Paid Up</th>\n",
       "      <th>Payment-Status-of-Previous-Credit_Some Problems</th>\n",
       "      <th>No-of-Credits-at-this-Bank_More than 1</th>\n",
       "      <th>Purpose_Not Home Related</th>\n",
       "      <th>Length-of-current-employment_4-7 yrs</th>\n",
       "      <th>Length-of-current-employment_&lt; 1yr</th>\n",
       "      <th>Value-Savings-Stocks_None</th>\n",
       "      <th>Value-Savings-Stocks_£100-£1000</th>\n",
       "    </tr>\n",
       "  </thead>\n",
       "  <tbody>\n",
       "    <tr>\n",
       "      <th>0</th>\n",
       "      <td>4</td>\n",
       "      <td>1494</td>\n",
       "      <td>1</td>\n",
       "      <td>1</td>\n",
       "      <td>33.0</td>\n",
       "      <td>2</td>\n",
       "      <td>1</td>\n",
       "      <td>1</td>\n",
       "      <td>0</td>\n",
       "      <td>0</td>\n",
       "      <td>1</td>\n",
       "      <td>0</td>\n",
       "      <td>1</td>\n",
       "      <td>0</td>\n",
       "      <td>1</td>\n",
       "    </tr>\n",
       "    <tr>\n",
       "      <th>1</th>\n",
       "      <td>4</td>\n",
       "      <td>1494</td>\n",
       "      <td>1</td>\n",
       "      <td>1</td>\n",
       "      <td>29.0</td>\n",
       "      <td>2</td>\n",
       "      <td>1</td>\n",
       "      <td>1</td>\n",
       "      <td>0</td>\n",
       "      <td>0</td>\n",
       "      <td>0</td>\n",
       "      <td>0</td>\n",
       "      <td>1</td>\n",
       "      <td>0</td>\n",
       "      <td>1</td>\n",
       "    </tr>\n",
       "    <tr>\n",
       "      <th>2</th>\n",
       "      <td>4</td>\n",
       "      <td>1544</td>\n",
       "      <td>2</td>\n",
       "      <td>1</td>\n",
       "      <td>42.0</td>\n",
       "      <td>2</td>\n",
       "      <td>1</td>\n",
       "      <td>0</td>\n",
       "      <td>0</td>\n",
       "      <td>1</td>\n",
       "      <td>0</td>\n",
       "      <td>0</td>\n",
       "      <td>0</td>\n",
       "      <td>1</td>\n",
       "      <td>0</td>\n",
       "    </tr>\n",
       "    <tr>\n",
       "      <th>3</th>\n",
       "      <td>4</td>\n",
       "      <td>3380</td>\n",
       "      <td>1</td>\n",
       "      <td>1</td>\n",
       "      <td>37.0</td>\n",
       "      <td>2</td>\n",
       "      <td>1</td>\n",
       "      <td>0</td>\n",
       "      <td>0</td>\n",
       "      <td>0</td>\n",
       "      <td>0</td>\n",
       "      <td>0</td>\n",
       "      <td>0</td>\n",
       "      <td>1</td>\n",
       "      <td>0</td>\n",
       "    </tr>\n",
       "    <tr>\n",
       "      <th>4</th>\n",
       "      <td>6</td>\n",
       "      <td>343</td>\n",
       "      <td>4</td>\n",
       "      <td>1</td>\n",
       "      <td>27.0</td>\n",
       "      <td>2</td>\n",
       "      <td>0</td>\n",
       "      <td>1</td>\n",
       "      <td>0</td>\n",
       "      <td>0</td>\n",
       "      <td>0</td>\n",
       "      <td>0</td>\n",
       "      <td>1</td>\n",
       "      <td>1</td>\n",
       "      <td>0</td>\n",
       "    </tr>\n",
       "  </tbody>\n",
       "</table>\n",
       "</div>"
      ],
      "text/plain": [
       "   Duration-of-Credit-Month  Credit-Amount  Instalment-per-cent  \\\n",
       "0                         4           1494                    1   \n",
       "1                         4           1494                    1   \n",
       "2                         4           1544                    2   \n",
       "3                         4           3380                    1   \n",
       "4                         6            343                    4   \n",
       "\n",
       "   Most-valuable-available-asset  Age-years  Type-of-apartment  \\\n",
       "0                              1       33.0                  2   \n",
       "1                              1       29.0                  2   \n",
       "2                              1       42.0                  2   \n",
       "3                              1       37.0                  2   \n",
       "4                              1       27.0                  2   \n",
       "\n",
       "   Account-Balance_Some Balance  Payment-Status-of-Previous-Credit_Paid Up  \\\n",
       "0                             1                                          1   \n",
       "1                             1                                          1   \n",
       "2                             1                                          0   \n",
       "3                             1                                          0   \n",
       "4                             0                                          1   \n",
       "\n",
       "   Payment-Status-of-Previous-Credit_Some Problems  \\\n",
       "0                                                0   \n",
       "1                                                0   \n",
       "2                                                0   \n",
       "3                                                0   \n",
       "4                                                0   \n",
       "\n",
       "   No-of-Credits-at-this-Bank_More than 1  Purpose_Not Home Related  \\\n",
       "0                                       0                         1   \n",
       "1                                       0                         0   \n",
       "2                                       1                         0   \n",
       "3                                       0                         0   \n",
       "4                                       0                         0   \n",
       "\n",
       "   Length-of-current-employment_4-7 yrs  Length-of-current-employment_< 1yr  \\\n",
       "0                                     0                                   1   \n",
       "1                                     0                                   1   \n",
       "2                                     0                                   0   \n",
       "3                                     0                                   0   \n",
       "4                                     0                                   1   \n",
       "\n",
       "   Value-Savings-Stocks_None  Value-Savings-Stocks_£100-£1000  \n",
       "0                          0                                1  \n",
       "1                          0                                1  \n",
       "2                          1                                0  \n",
       "3                          1                                0  \n",
       "4                          1                                0  "
      ]
     },
     "execution_count": 55,
     "metadata": {},
     "output_type": "execute_result"
    }
   ],
   "source": [
    "X.head()"
   ]
  },
  {
   "cell_type": "markdown",
   "id": "45d193a6",
   "metadata": {},
   "source": [
    "#### Changing the data to numpy arrays"
   ]
  },
  {
   "cell_type": "code",
   "execution_count": 56,
   "id": "ce1f529e",
   "metadata": {},
   "outputs": [],
   "source": [
    "X=X.values\n",
    "y=y.values"
   ]
  },
  {
   "cell_type": "markdown",
   "id": "a2676ce3",
   "metadata": {},
   "source": [
    "#### Splitting data into train and test"
   ]
  },
  {
   "cell_type": "code",
   "execution_count": 57,
   "id": "0718609e",
   "metadata": {},
   "outputs": [],
   "source": [
    "X_train,X_test,y_train,y_test = train_test_split(X, y, test_size=0.3,stratify=y,random_state = 42)"
   ]
  },
  {
   "cell_type": "markdown",
   "id": "ca6f5ba1",
   "metadata": {},
   "source": [
    "## Modelling"
   ]
  },
  {
   "cell_type": "code",
   "execution_count": 58,
   "id": "033ec381",
   "metadata": {},
   "outputs": [],
   "source": [
    "from sklearn.model_selection import GridSearchCV\n",
    "from sklearn.pipeline import Pipeline\n",
    "from sklearn.pipeline import make_pipeline\n",
    "\n",
    "from sklearn.preprocessing import StandardScaler\n",
    "from sklearn.preprocessing import MinMaxScaler"
   ]
  },
  {
   "cell_type": "markdown",
   "id": "f30b0190",
   "metadata": {},
   "source": [
    "### Logistic Regression"
   ]
  },
  {
   "cell_type": "code",
   "execution_count": 59,
   "id": "a38219f0",
   "metadata": {},
   "outputs": [
    {
     "name": "stdout",
     "output_type": "stream",
     "text": [
      "0.7857142857142857\n",
      "0.7533333333333333\n"
     ]
    }
   ],
   "source": [
    "log_reg = LogisticRegression()\n",
    "log_reg.fit(X_train, y_train)\n",
    "log_reg_pred=log_reg.predict(X_test)\n",
    "print(log_reg.score(X_train, y_train))\n",
    "print(log_reg.score(X_test, y_test))"
   ]
  },
  {
   "cell_type": "code",
   "execution_count": 60,
   "id": "0ed22b38",
   "metadata": {},
   "outputs": [
    {
     "name": "stdout",
     "output_type": "stream",
     "text": [
      "[[93 14]\n",
      " [23 20]]\n"
     ]
    }
   ],
   "source": [
    "from sklearn.metrics import confusion_matrix\n",
    "print(confusion_matrix(y_test, log_reg_pred,labels=[1,0]))"
   ]
  },
  {
   "cell_type": "code",
   "execution_count": 61,
   "id": "4af71f46",
   "metadata": {},
   "outputs": [
    {
     "name": "stdout",
     "output_type": "stream",
     "text": [
      "0.8340807174887892\n"
     ]
    }
   ],
   "source": [
    "from sklearn.metrics import f1_score\n",
    "print(f1_score(y_test, log_reg_pred, labels = [1,0]))"
   ]
  },
  {
   "cell_type": "markdown",
   "id": "fc85dad4",
   "metadata": {},
   "source": [
    "### Logistic Regression-Hyperparameter Tuned"
   ]
  },
  {
   "cell_type": "code",
   "execution_count": 62,
   "id": "45c1c5ef",
   "metadata": {},
   "outputs": [
    {
     "name": "stdout",
     "output_type": "stream",
     "text": [
      "Best cross-validation accuracy: 0.7514\n",
      "\n",
      "Best train score: 0.7914\n",
      "\n",
      "Best test score: 0.7533\n",
      "\n",
      "Best parameters: {'C': 4}\n",
      "\n"
     ]
    }
   ],
   "source": [
    "log_reg = LogisticRegression(random_state = 0)\n",
    "param_grid = {'C': [1,2,3,4,5,6,7,8,9,10]}\n",
    "\n",
    "\n",
    "grid_log_reg = GridSearchCV(log_reg, param_grid, cv=5)\n",
    "grid_log_reg.fit(X_train, y_train)\n",
    "\n",
    "\n",
    "print(\"Best cross-validation accuracy: {:.4f}\".format(grid_log_reg.best_score_))\n",
    "print()\n",
    "print(\"Best train score: {:.4f}\".format(grid_log_reg.score(X_train, y_train)))\n",
    "print()\n",
    "print(\"Best test score: {:.4f}\".format(grid_log_reg.score(X_test, y_test)))\n",
    "print()\n",
    "print(\"Best parameters:\", grid_log_reg.best_params_)\n",
    "print()\n",
    "log_reg_pred = grid_log_reg.predict(X_test)"
   ]
  },
  {
   "cell_type": "code",
   "execution_count": 63,
   "id": "706183b8",
   "metadata": {},
   "outputs": [
    {
     "name": "stdout",
     "output_type": "stream",
     "text": [
      "[[93 14]\n",
      " [23 20]]\n"
     ]
    }
   ],
   "source": [
    "print(confusion_matrix(y_test, log_reg_pred,labels=[1,0]))"
   ]
  },
  {
   "cell_type": "code",
   "execution_count": 64,
   "id": "8a1a5aa9",
   "metadata": {},
   "outputs": [
    {
     "name": "stdout",
     "output_type": "stream",
     "text": [
      "0.8340807174887892\n"
     ]
    }
   ],
   "source": [
    "print(f1_score(y_test, log_reg_pred, labels = [1,0])) "
   ]
  },
  {
   "cell_type": "markdown",
   "id": "1ccb50ac",
   "metadata": {},
   "source": [
    "### Logistic Regression- Final Model Selected"
   ]
  },
  {
   "cell_type": "code",
   "execution_count": 65,
   "id": "e282cdc0",
   "metadata": {},
   "outputs": [
    {
     "name": "stdout",
     "output_type": "stream",
     "text": [
      "0.7914285714285715\n",
      "0.7533333333333333\n"
     ]
    }
   ],
   "source": [
    "from sklearn.linear_model import LogisticRegression\n",
    "\n",
    "log_reg_final = LogisticRegression(C = 10)\n",
    "log_reg_final.fit(X_train, y_train)\n",
    "log_reg_pred=log_reg_final.predict(X_test)\n",
    "print(log_reg_final.score(X_train, y_train))\n",
    "print(log_reg_final.score(X_test, y_test))"
   ]
  },
  {
   "cell_type": "markdown",
   "id": "a03d4bf9",
   "metadata": {},
   "source": [
    "### K Nearest Neighbors Classifier  "
   ]
  },
  {
   "cell_type": "code",
   "execution_count": 66,
   "id": "1ad13794",
   "metadata": {},
   "outputs": [
    {
     "name": "stdout",
     "output_type": "stream",
     "text": [
      "train score: 0.7743\n",
      "\n",
      "test score: 0.6533\n",
      "\n"
     ]
    }
   ],
   "source": [
    "knn = KNeighborsClassifier()\n",
    "knn.fit(X_train, y_train)\n",
    "\n",
    "print('train score: {:.4f}'.format(knn.score(X_train, y_train)))\n",
    "print()\n",
    "print('test score: {:.4f}'.format(knn.score(X_test, y_test)))\n",
    "print()\n",
    "pred_knn = knn.predict(X_test)"
   ]
  },
  {
   "cell_type": "code",
   "execution_count": 67,
   "id": "08140cf1",
   "metadata": {},
   "outputs": [
    {
     "name": "stdout",
     "output_type": "stream",
     "text": [
      "[[89 18]\n",
      " [34  9]]\n"
     ]
    }
   ],
   "source": [
    "# Confusion Matrix\n",
    "print(confusion_matrix(y_test, pred_knn,labels=[1,0]))"
   ]
  },
  {
   "cell_type": "code",
   "execution_count": 68,
   "id": "196a8d8d",
   "metadata": {},
   "outputs": [
    {
     "name": "stdout",
     "output_type": "stream",
     "text": [
      "0.773913043478261\n"
     ]
    }
   ],
   "source": [
    "print(f1_score(y_test, pred_knn, labels = [1,0]))"
   ]
  },
  {
   "cell_type": "markdown",
   "id": "a0d50cb6",
   "metadata": {},
   "source": [
    "### K Nearest Neighbors Classifier-Hyperparameters Tuned"
   ]
  },
  {
   "cell_type": "code",
   "execution_count": 69,
   "id": "cc53db49",
   "metadata": {},
   "outputs": [
    {
     "name": "stdout",
     "output_type": "stream",
     "text": [
      "Best cross-validation accuracy: 0.7429\n",
      "\n",
      "Best train score: 0.8114\n",
      "\n",
      "Best test score: 0.7267\n",
      "\n",
      "Best parameters: {'kneighborsclassifier__n_neighbors': 5}\n",
      "\n"
     ]
    }
   ],
   "source": [
    "knn = KNeighborsClassifier()\n",
    "param_grid = {'kneighborsclassifier__n_neighbors': [1,2,3,4,5,6,7,8,9,10]}\n",
    "\n",
    "pipe = make_pipeline(StandardScaler(), KNeighborsClassifier())\n",
    "grid_knn = GridSearchCV(pipe, param_grid, cv=5)\n",
    "grid_knn.fit(X_train, y_train)\n",
    "\n",
    "print(\"Best cross-validation accuracy: {:.4f}\".format(grid_knn.best_score_))\n",
    "print()\n",
    "print(\"Best train score: {:.4f}\".format(grid_knn.score(X_train, y_train)))\n",
    "print()\n",
    "print(\"Best test score: {:.4f}\".format(grid_knn.score(X_test, y_test)))\n",
    "print()\n",
    "print(\"Best parameters:\", grid_knn.best_params_)\n",
    "print()\n",
    "pred_knn = grid_knn.predict(X_test)"
   ]
  },
  {
   "cell_type": "code",
   "execution_count": 70,
   "id": "715a1739",
   "metadata": {},
   "outputs": [
    {
     "name": "stdout",
     "output_type": "stream",
     "text": [
      "[[91 16]\n",
      " [25 18]]\n"
     ]
    }
   ],
   "source": [
    "# Confusion Matrix\n",
    "print(confusion_matrix(y_test, pred_knn,labels=[1,0]))"
   ]
  },
  {
   "cell_type": "code",
   "execution_count": 71,
   "id": "b63640d4",
   "metadata": {},
   "outputs": [
    {
     "name": "stdout",
     "output_type": "stream",
     "text": [
      "0.8161434977578476\n"
     ]
    }
   ],
   "source": [
    "print(f1_score(y_test, pred_knn, labels = [1,0]))"
   ]
  },
  {
   "cell_type": "code",
   "execution_count": 72,
   "id": "4fccc23f",
   "metadata": {},
   "outputs": [
    {
     "name": "stdout",
     "output_type": "stream",
     "text": [
      "0.8028571428571428\n",
      "0.7533333333333333\n"
     ]
    }
   ],
   "source": [
    "#knn final\n",
    "knn_final = LogisticRegression(C = 5)\n",
    "knn_final.fit(X_train, y_train)\n",
    "knn_final_pred=log_reg_final.predict(X_test)\n",
    "print(knn_final.score(X_train, y_train))\n",
    "print(knn_final.score(X_test, y_test))         "
   ]
  },
  {
   "cell_type": "code",
   "execution_count": null,
   "id": "2276e216",
   "metadata": {},
   "outputs": [],
   "source": []
  },
  {
   "cell_type": "code",
   "execution_count": null,
   "id": "573e11ef",
   "metadata": {},
   "outputs": [],
   "source": []
  },
  {
   "cell_type": "markdown",
   "id": "caf5834b",
   "metadata": {},
   "source": [
    "### Support Vector Classifier (SVC)"
   ]
  },
  {
   "cell_type": "code",
   "execution_count": 73,
   "id": "a2238c8f",
   "metadata": {},
   "outputs": [
    {
     "name": "stdout",
     "output_type": "stream",
     "text": [
      "train score: 0.7400\n",
      "\n",
      "test score: 0.7200\n",
      "\n"
     ]
    }
   ],
   "source": [
    "svc = SVC()\n",
    "svc.fit(X_train, y_train)\n",
    "\n",
    "print('train score: {:.4f}'.format(svc.score(X_train, y_train)))\n",
    "print()\n",
    "print('test score: {:.4f}'.format(svc.score(X_test, y_test)))\n",
    "print()\n",
    "pred_svc = svc.predict(X_test)"
   ]
  },
  {
   "cell_type": "code",
   "execution_count": 74,
   "id": "e2e5eb4e",
   "metadata": {},
   "outputs": [
    {
     "name": "stdout",
     "output_type": "stream",
     "text": [
      "[[106   1]\n",
      " [ 41   2]]\n"
     ]
    }
   ],
   "source": [
    "#Confusion Matrix\n",
    "print(confusion_matrix(y_test, pred_svc,labels=[1,0]))"
   ]
  },
  {
   "cell_type": "code",
   "execution_count": 75,
   "id": "c6c6cd48",
   "metadata": {},
   "outputs": [
    {
     "name": "stdout",
     "output_type": "stream",
     "text": [
      "0.8346456692913385\n"
     ]
    }
   ],
   "source": [
    "print(f1_score(y_test, pred_svc, labels = [1,0]))"
   ]
  },
  {
   "cell_type": "markdown",
   "id": "f3796b4b",
   "metadata": {},
   "source": [
    "### Support Vector Classifier (SVC) - Hyperparameter Tuned"
   ]
  },
  {
   "cell_type": "code",
   "execution_count": 76,
   "id": "44c730d4",
   "metadata": {
    "scrolled": false
   },
   "outputs": [
    {
     "name": "stdout",
     "output_type": "stream",
     "text": [
      "Best cross-validation accuracy: 0.7800\n",
      "\n",
      "Best train score: 0.8171\n",
      "\n",
      "Best test score: 0.7733\n",
      "\n",
      "Best parameters: {'svc__C': 8, 'svc__gamma': 0.01}\n",
      "\n"
     ]
    }
   ],
   "source": [
    "svc = SVC(random_state = 30)\n",
    "pipe = make_pipeline(StandardScaler(), SVC())\n",
    "param_grid = {'svc__C': [1,2,3,4,5,6,7,8,9,10],\n",
    "              'svc__gamma': [0.01, 0.1, 1, 10, 100]}\n",
    "\n",
    "grid_svc = GridSearchCV(pipe, param_grid, cv=5)\n",
    "grid_svc.fit(X_train, y_train)\n",
    "\n",
    "\n",
    "print(\"Best cross-validation accuracy: {:.4f}\".format(grid_svc.best_score_))\n",
    "print()\n",
    "print(\"Best train score: {:.4f}\".format(grid_svc.score(X_train, y_train)))\n",
    "print()\n",
    "print(\"Best test score: {:.4f}\".format(grid_svc.score(X_test, y_test)))\n",
    "print()\n",
    "print(\"Best parameters:\", grid_svc.best_params_)\n",
    "print()\n",
    "pred_svc = grid_svc.predict(X_test)"
   ]
  },
  {
   "cell_type": "code",
   "execution_count": 77,
   "id": "070e7740",
   "metadata": {},
   "outputs": [
    {
     "name": "stdout",
     "output_type": "stream",
     "text": [
      "[[100   7]\n",
      " [ 27  16]]\n"
     ]
    }
   ],
   "source": [
    "# Confusion Matrix\n",
    "print(confusion_matrix(y_test, pred_svc,labels=[1,0]))"
   ]
  },
  {
   "cell_type": "code",
   "execution_count": 78,
   "id": "51d02b9a",
   "metadata": {},
   "outputs": [
    {
     "name": "stdout",
     "output_type": "stream",
     "text": [
      "0.8547008547008548\n"
     ]
    }
   ],
   "source": [
    "print(f1_score(y_test, pred_svc, labels = [1,0]))"
   ]
  },
  {
   "cell_type": "code",
   "execution_count": null,
   "id": "a2252f13",
   "metadata": {},
   "outputs": [],
   "source": []
  },
  {
   "cell_type": "markdown",
   "id": "4b73f425",
   "metadata": {},
   "source": [
    "### Decision Tree Classifier "
   ]
  },
  {
   "cell_type": "code",
   "execution_count": 79,
   "id": "828b917c",
   "metadata": {},
   "outputs": [
    {
     "name": "stdout",
     "output_type": "stream",
     "text": [
      "train score: 1.0000\n",
      "\n",
      "test score: 0.6733\n",
      "\n"
     ]
    }
   ],
   "source": [
    "dtc = DecisionTreeClassifier()\n",
    "dtc.fit(X_train, y_train)\n",
    "\n",
    "print('train score: {:.4f}'.format(dtc.score(X_train, y_train)))\n",
    "print()\n",
    "print('test score: {:.4f}'.format(dtc.score(X_test, y_test)))\n",
    "print()\n",
    "pred_dtc= dtc.predict(X_test)"
   ]
  },
  {
   "cell_type": "code",
   "execution_count": 80,
   "id": "f46de994",
   "metadata": {},
   "outputs": [
    {
     "name": "stdout",
     "output_type": "stream",
     "text": [
      "[[76 31]\n",
      " [18 25]]\n"
     ]
    }
   ],
   "source": [
    "# Confusion Matrix\n",
    "print(confusion_matrix(y_test, pred_dtc,labels=[1,0]))"
   ]
  },
  {
   "cell_type": "code",
   "execution_count": 81,
   "id": "ebfbfa3d",
   "metadata": {},
   "outputs": [
    {
     "name": "stdout",
     "output_type": "stream",
     "text": [
      "0.7562189054726367\n"
     ]
    }
   ],
   "source": [
    "print(f1_score(y_test, pred_dtc, labels = [1,0]))"
   ]
  },
  {
   "cell_type": "markdown",
   "id": "3bf945ba",
   "metadata": {},
   "source": [
    "### Decision Tree Classifier - Hyperparameters Tuned "
   ]
  },
  {
   "cell_type": "code",
   "execution_count": 82,
   "id": "cc772820",
   "metadata": {},
   "outputs": [
    {
     "name": "stdout",
     "output_type": "stream",
     "text": [
      "Best cross-validation accuracy: 0.7829\n",
      "\n",
      "Best train score: 0.7971\n",
      "\n",
      "Best test score: 0.7467\n",
      "\n",
      "Best parameters: {'decisiontreeclassifier__max_features': 5, 'decisiontreeclassifier__max_leaf_nodes': 7}\n",
      "\n",
      "\n"
     ]
    }
   ],
   "source": [
    "dtc = DecisionTreeClassifier(random_state = 0)\n",
    "param_grid = {'decisiontreeclassifier__max_features': [1, 2, 3, 4, 5, 6, 7, 8, 9, 10], \n",
    "              'decisiontreeclassifier__max_leaf_nodes': [1, 2, 3, 4, 5, 6, 7, 8, 9, 10]}\n",
    "\n",
    "pipe = make_pipeline(StandardScaler(), DecisionTreeClassifier(random_state = 0))\n",
    "\n",
    "grid_dtc = GridSearchCV(pipe, param_grid, cv=5)\n",
    "grid_dtc.fit(X_train, y_train)\n",
    "\n",
    "\n",
    "print(\"Best cross-validation accuracy: {:.4f}\".format(grid_dtc.best_score_))\n",
    "print()\n",
    "print(\"Best train score: {:.4f}\".format(grid_dtc.score(X_train, y_train)))\n",
    "print()\n",
    "print(\"Best test score: {:.4f}\".format(grid_dtc.score(X_test, y_test)))\n",
    "print()\n",
    "print(\"Best parameters:\", grid_dtc.best_params_)\n",
    "print()\n",
    "pred_dtc = grid_dtc.predict(X_test)\n",
    "print()"
   ]
  },
  {
   "cell_type": "code",
   "execution_count": 83,
   "id": "ce4d9ae1",
   "metadata": {},
   "outputs": [
    {
     "name": "stdout",
     "output_type": "stream",
     "text": [
      "[[94 13]\n",
      " [25 18]]\n"
     ]
    }
   ],
   "source": [
    "# Confusion Matrix\n",
    "print(confusion_matrix(y_test, pred_dtc,labels=[1,0]))"
   ]
  },
  {
   "cell_type": "code",
   "execution_count": 84,
   "id": "71959340",
   "metadata": {},
   "outputs": [
    {
     "name": "stdout",
     "output_type": "stream",
     "text": [
      "0.831858407079646\n"
     ]
    }
   ],
   "source": [
    "print(f1_score(y_test, pred_dtc, labels = [1,0]))"
   ]
  },
  {
   "cell_type": "markdown",
   "id": "3879ebeb",
   "metadata": {},
   "source": [
    "### Gradient Boosting Classifier"
   ]
  },
  {
   "cell_type": "code",
   "execution_count": 85,
   "id": "e3e2079f",
   "metadata": {},
   "outputs": [
    {
     "name": "stdout",
     "output_type": "stream",
     "text": [
      "train score: 0.9457\n",
      "\n",
      "test score: 0.7133\n",
      "\n"
     ]
    }
   ],
   "source": [
    "gbc = GradientBoostingClassifier()\n",
    "gbc.fit(X_train, y_train)\n",
    "\n",
    "print('train score: {:.4f}'.format(gbc.score(X_train, y_train)))\n",
    "print()\n",
    "print('test score: {:.4f}'.format(gbc.score(X_test, y_test)))\n",
    "print()\n",
    "gbc_pred= gbc.predict(X_test)"
   ]
  },
  {
   "cell_type": "code",
   "execution_count": 86,
   "id": "238be7d4",
   "metadata": {},
   "outputs": [
    {
     "name": "stdout",
     "output_type": "stream",
     "text": [
      "[[89 18]\n",
      " [25 18]]\n"
     ]
    }
   ],
   "source": [
    "# Confusion Matrix\n",
    "print(confusion_matrix(y_test, gbc_pred, labels=[1,0]))"
   ]
  },
  {
   "cell_type": "code",
   "execution_count": 87,
   "id": "f0ff9c09",
   "metadata": {},
   "outputs": [
    {
     "name": "stdout",
     "output_type": "stream",
     "text": [
      "0.8054298642533936\n"
     ]
    }
   ],
   "source": [
    "print(f1_score(y_test, gbc_pred, labels = [1,0]))"
   ]
  },
  {
   "cell_type": "markdown",
   "id": "d34280f8",
   "metadata": {},
   "source": [
    "### Gradient Boosting Classifier- Hyperparameters Tuned"
   ]
  },
  {
   "cell_type": "code",
   "execution_count": 88,
   "id": "7f445239",
   "metadata": {
    "scrolled": true
   },
   "outputs": [
    {
     "name": "stdout",
     "output_type": "stream",
     "text": [
      "Best cross-validation accuracy: 0.7943\n",
      "\n",
      "Best train score: 0.8000\n",
      "\n",
      "Best test score: 0.7400\n",
      "\n",
      "Best parameters: {'gradientboostingclassifier__max_features': 5, 'gradientboostingclassifier__max_leaf_nodes': 2}\n",
      "\n",
      "\n"
     ]
    }
   ],
   "source": [
    "gbc = GradientBoostingClassifier(random_state = 42)\n",
    "param_grid = {'gradientboostingclassifier__max_features': [1, 2, 3, 4, 5, 6, 7, 8, 9, 10], \n",
    "              'gradientboostingclassifier__max_leaf_nodes': [1, 2, 3, 4, 5, 6, 7, 8, 9, 10]}\n",
    "\n",
    "\n",
    "pipe = make_pipeline(StandardScaler(), GradientBoostingClassifier(random_state = 42))\n",
    "\n",
    "grid_gbc = GridSearchCV(pipe, param_grid, cv=5)\n",
    "grid_gbc.fit(X_train, y_train)\n",
    "\n",
    "\n",
    "print(\"Best cross-validation accuracy: {:.4f}\".format(grid_gbc.best_score_))\n",
    "print()\n",
    "print(\"Best train score: {:.4f}\".format(grid_gbc.score(X_train, y_train)))\n",
    "print()\n",
    "print(\"Best test score: {:.4f}\".format(grid_gbc.score(X_test, y_test)))\n",
    "print()\n",
    "print(\"Best parameters:\", grid_gbc.best_params_)\n",
    "print()\n",
    "pred_gbc = grid_gbc.predict(X_test)\n",
    "print()"
   ]
  },
  {
   "cell_type": "code",
   "execution_count": 89,
   "id": "68199b5f",
   "metadata": {},
   "outputs": [
    {
     "name": "stdout",
     "output_type": "stream",
     "text": [
      "[[100   7]\n",
      " [ 32  11]]\n"
     ]
    }
   ],
   "source": [
    "# Confusion Matrix\n",
    "print(confusion_matrix(y_test, pred_gbc,labels=[1,0]))"
   ]
  },
  {
   "cell_type": "code",
   "execution_count": 90,
   "id": "b1bd6de1",
   "metadata": {},
   "outputs": [
    {
     "name": "stdout",
     "output_type": "stream",
     "text": [
      "0.8368200836820084\n"
     ]
    }
   ],
   "source": [
    "print(f1_score(y_test, pred_gbc, labels = [1,0]))"
   ]
  },
  {
   "cell_type": "markdown",
   "id": "2e20977e",
   "metadata": {},
   "source": [
    "### Random Forest"
   ]
  },
  {
   "cell_type": "code",
   "execution_count": 91,
   "id": "3ecb0c54",
   "metadata": {},
   "outputs": [
    {
     "name": "stdout",
     "output_type": "stream",
     "text": [
      "train score: 1.0000\n",
      "\n",
      "test score: 0.7400\n",
      "\n"
     ]
    }
   ],
   "source": [
    "rf = RandomForestClassifier()\n",
    "rf.fit(X_train, y_train)\n",
    "\n",
    "print('train score: {:.4f}'.format(rf.score(X_train, y_train)))\n",
    "print()\n",
    "print('test score: {:.4f}'.format(rf.score(X_test, y_test)))\n",
    "print()\n",
    "rf_pred= rf.predict(X_test)"
   ]
  },
  {
   "cell_type": "code",
   "execution_count": 92,
   "id": "9dd065af",
   "metadata": {},
   "outputs": [
    {
     "name": "stdout",
     "output_type": "stream",
     "text": [
      "[[97 10]\n",
      " [29 14]]\n"
     ]
    }
   ],
   "source": [
    "# Confusion Matrix\n",
    "print(confusion_matrix(y_test, rf_pred,labels=[1,0]))"
   ]
  },
  {
   "cell_type": "code",
   "execution_count": 93,
   "id": "5e1e235f",
   "metadata": {},
   "outputs": [
    {
     "name": "stdout",
     "output_type": "stream",
     "text": [
      "0.8326180257510729\n"
     ]
    }
   ],
   "source": [
    "print(f1_score(y_test, rf_pred, labels = [1,0]))"
   ]
  },
  {
   "cell_type": "markdown",
   "id": "1473acfd",
   "metadata": {},
   "source": [
    "### Random Forest Classifier- Hyperparameters Tuned"
   ]
  },
  {
   "cell_type": "code",
   "execution_count": 94,
   "id": "5efdd5e8",
   "metadata": {},
   "outputs": [
    {
     "name": "stdout",
     "output_type": "stream",
     "text": [
      "Best cross-validation accuracy: 0.7800\n",
      "\n",
      "Best train score: 0.8571\n",
      "\n",
      "Best test score: 0.7400\n",
      "\n",
      "Best parameters: {'randomforestclassifier__max_features': 10, 'randomforestclassifier__max_leaf_nodes': 10}\n",
      "\n",
      "\n"
     ]
    }
   ],
   "source": [
    "rf = RandomForestClassifier()\n",
    "param_grid = {'randomforestclassifier__max_features': [1, 2, 3, 4, 5, 6, 7, 8, 9, 10], \n",
    "              'randomforestclassifier__max_leaf_nodes': [1, 2, 3, 4, 5, 6, 7, 8, 9, 10]}\n",
    "\n",
    "\n",
    "pipe = make_pipeline(StandardScaler(), RandomForestClassifier())\n",
    "\n",
    "grid_rf = GridSearchCV(pipe, param_grid, cv=5)\n",
    "grid_rf.fit(X_train, y_train)\n",
    "\n",
    "\n",
    "print(\"Best cross-validation accuracy: {:.4f}\".format(grid_rf.best_score_))\n",
    "print()\n",
    "print(\"Best train score: {:.4f}\".format(grid_rf.score(X_train, y_train)))\n",
    "print()\n",
    "print(\"Best test score: {:.4f}\".format(grid_rf.score(X_test, y_test)))\n",
    "print()\n",
    "print(\"Best parameters:\", grid_rf.best_params_)\n",
    "print()\n",
    "rf_pred = grid_rf.predict(X_test)\n",
    "print()"
   ]
  },
  {
   "cell_type": "code",
   "execution_count": 95,
   "id": "b7a8bebc",
   "metadata": {},
   "outputs": [
    {
     "name": "stdout",
     "output_type": "stream",
     "text": [
      "[[94 13]\n",
      " [26 17]]\n"
     ]
    }
   ],
   "source": [
    "# Confusion Matrix\n",
    "print(confusion_matrix(y_test, rf_pred,labels=[1,0]))"
   ]
  },
  {
   "cell_type": "code",
   "execution_count": 96,
   "id": "0ee23a99",
   "metadata": {},
   "outputs": [
    {
     "name": "stdout",
     "output_type": "stream",
     "text": [
      "0.8281938325991189\n"
     ]
    }
   ],
   "source": [
    "print(f1_score(y_test, rf_pred, labels = [1,0]))"
   ]
  },
  {
   "cell_type": "markdown",
   "id": "fed1074f",
   "metadata": {},
   "source": [
    "### Voting Classifier"
   ]
  },
  {
   "cell_type": "code",
   "execution_count": 97,
   "id": "6b85de7e",
   "metadata": {},
   "outputs": [
    {
     "name": "stdout",
     "output_type": "stream",
     "text": [
      "Best train score: 0.8886\n",
      "\n",
      "Best test score: 0.7467\n",
      "\n"
     ]
    }
   ],
   "source": [
    "# Defining a list called classifier that contains the tuples (classifier_name, classifier)\n",
    "classifiers = [('Logistic Regression', log_reg), ('KNearestNeighborClassifier', knn),('DecisionTreeClassifier', dtc),\n",
    "               ('Support Vector Classifier', svc)]\n",
    "vc = VotingClassifier(estimators = classifiers)\n",
    "vc.fit(X_train, y_train)\n",
    "\n",
    "\n",
    "\n",
    "print(\"Best train score: {:.4f}\".format(vc.score(X_train, y_train)))\n",
    "print()\n",
    "print(\"Best test score: {:.4f}\".format(vc.score(X_test, y_test)))\n",
    "print()\n",
    "pred_vc = vc.predict(X_test)"
   ]
  },
  {
   "cell_type": "code",
   "execution_count": 98,
   "id": "5b23e17f",
   "metadata": {},
   "outputs": [
    {
     "name": "stdout",
     "output_type": "stream",
     "text": [
      "[[93 14]\n",
      " [24 19]]\n"
     ]
    }
   ],
   "source": [
    "# Confusion Matrix\n",
    "print(confusion_matrix(y_test, pred_vc,labels=[1,0]))"
   ]
  },
  {
   "cell_type": "code",
   "execution_count": 99,
   "id": "f8550693",
   "metadata": {},
   "outputs": [
    {
     "name": "stdout",
     "output_type": "stream",
     "text": [
      "0.8303571428571428\n"
     ]
    }
   ],
   "source": [
    "print(f1_score(y_test, pred_vc, labels = [1,0]))"
   ]
  },
  {
   "cell_type": "markdown",
   "id": "13214022",
   "metadata": {},
   "source": [
    "### Using Alternative Metrics (Confusion Matrix, F1-Score, and ROC Curves) to Check the Performance of the Models"
   ]
  },
  {
   "cell_type": "markdown",
   "id": "53a0e4db",
   "metadata": {},
   "source": [
    "These alternative metrics will be used to choose the best performing model. Accuracy is not an appropriate measure of performance for the model since the target variable is imbalanced."
   ]
  },
  {
   "cell_type": "markdown",
   "id": "c16a7167",
   "metadata": {},
   "source": [
    "### Confusion Matrix"
   ]
  },
  {
   "cell_type": "code",
   "execution_count": 100,
   "id": "f88df85b",
   "metadata": {},
   "outputs": [
    {
     "name": "stdout",
     "output_type": "stream",
     "text": [
      "Gradient Boosting Classifier:\n",
      "[[ 11  32]\n",
      " [  7 100]]\n",
      "\n",
      "SVC:\n",
      "[[ 16  27]\n",
      " [  7 100]]\n",
      "\n",
      "Logistic Regression:\n",
      "[[20 23]\n",
      " [14 93]]\n",
      "\n",
      "Random Forest:\n",
      "[[17 26]\n",
      " [13 94]]\n",
      "\n",
      "Voting Classifier:\n",
      "[[19 24]\n",
      " [14 93]]\n"
     ]
    }
   ],
   "source": [
    "from sklearn.metrics import confusion_matrix\n",
    "\n",
    "print(\"Gradient Boosting Classifier:\")\n",
    "print(confusion_matrix(y_test, pred_gbc))\n",
    "print(\"\\nSVC:\")\n",
    "print(confusion_matrix(y_test, pred_svc))\n",
    "print(\"\\nLogistic Regression:\")\n",
    "print(confusion_matrix(y_test, log_reg_pred))\n",
    "print(\"\\nRandom Forest:\")\n",
    "print(confusion_matrix(y_test, rf_pred))\n",
    "print(\"\\nVoting Classifier:\")\n",
    "print(confusion_matrix(y_test, pred_vc))"
   ]
  },
  {
   "cell_type": "markdown",
   "id": "a4b811df",
   "metadata": {},
   "source": [
    "Almost all the models' are bias towards the creditworthy, but Logistic regression was able to predict 20 out of 43 \n",
    "non creditworthy correctly and also predicted the 93 out of 107 creditworthy correctly. Hence logistic regression is performing \n",
    "better among the models for confusion matrix."
   ]
  },
  {
   "cell_type": "markdown",
   "id": "cc847f96",
   "metadata": {},
   "source": [
    "### F1-Score"
   ]
  },
  {
   "cell_type": "code",
   "execution_count": 101,
   "id": "d5549f69",
   "metadata": {},
   "outputs": [
    {
     "name": "stdout",
     "output_type": "stream",
     "text": [
      "f1 score Gradient Boosting Classifier: 0.8368200836820084\n",
      "f1 score SVC: 0.8547008547008548\n",
      "f1 score Logistic Regression: 0.8340807174887892\n",
      "f1 score Random Forest: 0.8281938325991189\n",
      "f1 score Voting Classifier: 0.8303571428571428\n"
     ]
    }
   ],
   "source": [
    "print(\"f1 score Gradient Boosting Classifier: {}\".format(\n",
    "f1_score(y_test, pred_gbc)))\n",
    "print(\"f1 score SVC: {}\".format(f1_score(y_test, pred_svc)))\n",
    "print(\"f1 score Logistic Regression: {}\".format(f1_score(y_test, log_reg_pred)))\n",
    "print(\"f1 score Random Forest: {}\".format(f1_score(y_test, rf_pred)))\n",
    "print(\"f1 score Voting Classifier: {}\".format(\n",
    "f1_score(y_test, pred_vc)))"
   ]
  },
  {
   "cell_type": "code",
   "execution_count": 102,
   "id": "8ad37bbc",
   "metadata": {},
   "outputs": [
    {
     "data": {
      "text/html": [
       "<div>\n",
       "<style scoped>\n",
       "    .dataframe tbody tr th:only-of-type {\n",
       "        vertical-align: middle;\n",
       "    }\n",
       "\n",
       "    .dataframe tbody tr th {\n",
       "        vertical-align: top;\n",
       "    }\n",
       "\n",
       "    .dataframe thead th {\n",
       "        text-align: right;\n",
       "    }\n",
       "</style>\n",
       "<table border=\"1\" class=\"dataframe\">\n",
       "  <thead>\n",
       "    <tr style=\"text-align: right;\">\n",
       "      <th></th>\n",
       "      <th>F-1 Score</th>\n",
       "    </tr>\n",
       "  </thead>\n",
       "  <tbody>\n",
       "    <tr>\n",
       "      <th>SVC</th>\n",
       "      <td>0.854701</td>\n",
       "    </tr>\n",
       "    <tr>\n",
       "      <th>Gradient Boosting Classifier</th>\n",
       "      <td>0.836820</td>\n",
       "    </tr>\n",
       "    <tr>\n",
       "      <th>Voting Classifier</th>\n",
       "      <td>0.835556</td>\n",
       "    </tr>\n",
       "    <tr>\n",
       "      <th>Logistic Regression</th>\n",
       "      <td>0.834081</td>\n",
       "    </tr>\n",
       "    <tr>\n",
       "      <th>Random Forest</th>\n",
       "      <td>0.819383</td>\n",
       "    </tr>\n",
       "  </tbody>\n",
       "</table>\n",
       "</div>"
      ],
      "text/plain": [
       "                              F-1 Score\n",
       "SVC                            0.854701\n",
       "Gradient Boosting Classifier   0.836820\n",
       "Voting Classifier              0.835556\n",
       "Logistic Regression            0.834081\n",
       "Random Forest                  0.819383"
      ]
     },
     "execution_count": 102,
     "metadata": {},
     "output_type": "execute_result"
    }
   ],
   "source": [
    "f1_score = {'F-1 Score': [0.8368200836820084, 0.8547008547008548, 0.8340807174887892, 0.8193832599118942, 0.8355555555555556]}\n",
    "\n",
    "f1_score = pd.DataFrame(f1_score, index=['Gradient Boosting Classifier','SVC','Logistic Regression', 'Random Forest', \n",
    "                                         'Voting Classifier'])\n",
    "f1_score.sort_values('F-1 Score', ascending = False)"
   ]
  },
  {
   "cell_type": "markdown",
   "id": "c6a2c685",
   "metadata": {},
   "source": [
    "### ROC Curves"
   ]
  },
  {
   "cell_type": "code",
   "execution_count": 104,
   "id": "1fc07318",
   "metadata": {},
   "outputs": [
    {
     "data": {
      "image/png": "[encoded data removed]",
      "text/plain": [
       "<Figure size 432x288 with 1 Axes>"
      ]
     },
     "metadata": {
      "needs_background": "light"
     },
     "output_type": "display_data"
    }
   ],
   "source": [
    "from sklearn.metrics import roc_curve\n",
    "fpr, tpr, thresholds = roc_curve(y_test, pred_svc)\n",
    "fpr_gbc, tpr_gbc, thresholds_gbc = roc_curve(y_test, pred_gbc)\n",
    "fpr_log_reg, tpr_log_reg, thresholds_log_reg = roc_curve(y_test, log_reg_pred)\n",
    "fpr_ranfo, tpr_ranfo, thresholds_ranfo = roc_curve(y_test, rf_pred)\n",
    "fpr_vc, tpr_vc, thresholds_vc = roc_curve(y_test, pred_vc)\n",
    "# random_probs = [0 for i in range(len(y_test))]\n",
    "# diagonal_fpr, diagonal_tpr = roc_curve(y_test, random_probs)\n",
    "\n",
    "\n",
    "plt.plot(fpr, tpr, label=\"ROC Curve SVC\")\n",
    "plt.plot(fpr_gbc, tpr_gbc, label=\"ROC Gradient Boosting Classifier\")\n",
    "plt.plot(fpr_log_reg, tpr_log_reg, label=\"ROC Curve LogReg\")\n",
    "plt.plot(fpr_ranfo, tpr_ranfo, label=\"ROC Random Forest\") \n",
    "plt.plot(fpr_vc, tpr_vc, label=\"ROC Voting Classifier\")\n",
    "plt.plot([0,1],[0,1], linestyle = '--', lw = 2, color = 'r')\n",
    "plt.xlabel(\"FPR\")\n",
    "plt.ylabel(\"TPR (recall)\")\n",
    "\n",
    "# find threshold closest to zero\n",
    "close_zero = np.argmin(np.abs(thresholds))\n",
    "plt.plot(fpr[close_zero], tpr[close_zero], 'o', markersize=10,\n",
    "label=\"threshold zero\", fillstyle=\"none\", c='k', mew=2)\n",
    "plt.legend(loc=4)\n",
    "plt.show()"
   ]
  },
  {
   "cell_type": "markdown",
   "id": "9c497e31",
   "metadata": {},
   "source": [
    "### Model Selection"
   ]
  },
  {
   "cell_type": "markdown",
   "id": "a0663b90",
   "metadata": {},
   "source": [
    "From the above metrics, Logistic Regression performed better than the rest of the models. Hence this model has been selected"
   ]
  },
  {
   "cell_type": "markdown",
   "id": "4017b381",
   "metadata": {},
   "source": [
    "### Predicting With Customers to Score Data"
   ]
  },
  {
   "cell_type": "code",
   "execution_count": null,
   "id": "1498885e",
   "metadata": {},
   "outputs": [],
   "source": [
    "test_data = pd.read_excel('customers-to-score.xlsx')\n",
    "test_data.head(10)"
   ]
  },
  {
   "cell_type": "code",
   "execution_count": null,
   "id": "f07c78b1",
   "metadata": {},
   "outputs": [],
   "source": [
    "data1.isna().sum()"
   ]
  },
  {
   "cell_type": "code",
   "execution_count": null,
   "id": "63a47f67",
   "metadata": {},
   "outputs": [],
   "source": [
    "test_data['Purpose'].value_counts()"
   ]
  },
  {
   "cell_type": "code",
   "execution_count": null,
   "id": "fced23ef",
   "metadata": {},
   "outputs": [],
   "source": [
    "test_data['Purpose']=test_data['Purpose'].replace({'New car':'Not Home Related','Used car':'Not Home Related'})"
   ]
  },
  {
   "cell_type": "code",
   "execution_count": null,
   "id": "ae40583c",
   "metadata": {},
   "outputs": [],
   "source": [
    "test_data.drop(['Foreign-Worker', 'Concurrent-Credits','Telephone','Duration-in-Current-address', \n",
    "           'Guarantors', 'Occupation','No-of-dependents'], axis=1, inplace=True) "
   ]
  },
  {
   "cell_type": "code",
   "execution_count": null,
   "id": "4c6f9391",
   "metadata": {},
   "outputs": [],
   "source": [
    "test_data = pd.get_dummies(test_data, columns = ['Account-Balance', 'Payment-Status-of-Previous-Credit',\n",
    "                                       'No-of-Credits-at-this-Bank','Purpose', 'Length-of-current-employment',\n",
    "                                       'Value-Savings-Stocks' ], drop_first = True)"
   ]
  },
  {
   "cell_type": "code",
   "execution_count": null,
   "id": "1ec2d3f8",
   "metadata": {
    "scrolled": true
   },
   "outputs": [],
   "source": [
    "test_data.head()"
   ]
  },
  {
   "cell_type": "markdown",
   "id": "8dc00dcb",
   "metadata": {},
   "source": [
    "### Final Prediction"
   ]
  },
  {
   "cell_type": "code",
   "execution_count": null,
   "id": "264e5e74",
   "metadata": {},
   "outputs": [],
   "source": [
    "#Logistic Regression\n",
    "predict_Customer_Score = log_reg_final.predict(test_data)"
   ]
  },
  {
   "cell_type": "code",
   "execution_count": null,
   "id": "d8c1c44b",
   "metadata": {},
   "outputs": [],
   "source": [
    "predict_Customer_Score = pd.DataFrame(predict_Customer_Score) #change to Dataframe"
   ]
  },
  {
   "cell_type": "code",
   "execution_count": null,
   "id": "3ac2527d",
   "metadata": {},
   "outputs": [],
   "source": [
    "predict_Customer_Score.value_counts()"
   ]
  },
  {
   "cell_type": "markdown",
   "id": "d2fd73b5",
   "metadata": {},
   "source": [
    "In conclusion, the best model for predicting customers who are creditworthy and non-creditworthy in this project is \n",
    "Logistic Regression and it predicted that 406 customers are creditworthy while 94 are not."
   ]
  },
  {
   "cell_type": "code",
   "execution_count": null,
   "id": "35657e47",
   "metadata": {},
   "outputs": [],
   "source": []
  }
 ],
 "metadata": {
  "kernelspec": {
   "display_name": "Python 3",
   "language": "python",
   "name": "python3"
  },
  "language_info": {
   "codemirror_mode": {
    "name": "ipython",
    "version": 3
   },
   "file_extension": ".py",
   "mimetype": "text/x-python",
   "name": "python",
   "nbconvert_exporter": "python",
   "pygments_lexer": "ipython3",
   "version": "3.8.8"
  }
 },
 "nbformat": 4,
 "nbformat_minor": 5
}
