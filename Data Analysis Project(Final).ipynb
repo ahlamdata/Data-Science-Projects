{
  "nbformat": 4,
  "nbformat_minor": 0,
  "metadata": {
    "colab": {
      "name": "Group 2 Mid-Course Project (Data Analysis Project).ipynb",
      "provenance": [],
      "collapsed_sections": []
    },
    "kernelspec": {
      "display_name": "Python 3",
      "language": "python",
      "name": "python3"
    },
    "language_info": {
      "codemirror_mode": {
        "name": "ipython",
        "version": 3
      },
      "file_extension": ".py",
      "mimetype": "text/x-python",
      "name": "python",
      "nbconvert_exporter": "python",
      "pygments_lexer": "ipython3",
      "version": "3.7.5"
    }
  },
  "cells": [
    {
      "cell_type": "markdown",
      "metadata": {
        "id": "9Q9fMfBIuzGb"
      },
      "source": [
        "# Mid-Course Project\n",
        "\n",
        "\n",
        "\n",
        "### Problem Statement\n",
        "\n",
        "A multinational retail company decides to embark on a campaign called **'Operation  Increase Sales and Profit' (OISP)** which focuses on increasing the sales of the company and maximising profit. \n",
        "\n",
        "Before the management team of the company can take any actionable decision with regards to the campagn,they want to draw the necessary insight from their 'sitting data'.\n",
        "\n",
        "As their Data Analyst,you are presented with their four year daily sales records (**superstore data.csv**).\n",
        "\n",
        "#### Task\n",
        "Analyse the given  data and advise management on what to do to increase sales and profit as intended in the compaign.\n",
        "\n",
        "Kindly  outlay your analytical steps inline with CRISP-DM(Cross Industry Standard Process for Data Mining)steps, asking the nescessary questions and providing answers based on the data.\n",
        "\n",
        "\n",
        "Management expects statistical summaries of the key variables considering the aim of the campaign, visualizations and a report on your findings and your advice.\n",
        "\n",
        "**Use Powerpoint or any other presentation application for your presentation.**\n",
        "\n",
        "Good Luck !\n",
        "\n",
        "\n",
        "\n",
        "\n",
        "\n",
        "\n"
      ]
    },
    {
      "cell_type": "markdown",
      "metadata": {
        "id": "l365xZSmve5Y"
      },
      "source": [
        "# DATA ANALYSIS \n",
        "\n",
        "### **CRISP-DM Steps**\n",
        "\n",
        "#### Business Issue Understanding:\n",
        "\n",
        "* *Project Objective*: **'Operation Increase Sales and Profit' (OISP)** - increase the sales of the company and maximise profit.\n",
        "*   *Problem Definition*: Analyse the given data and advise management on what to do to increase sales and profit as intended in the compaign.\n",
        "\n",
        "\n",
        "#### Data Understanding:\n",
        "\n",
        "*   What data is needed?\n",
        "    - Sales data\n",
        "    - Customer data\n",
        "    - Company Expenditure\n",
        "\n",
        "*   What data is available?\n",
        "    - Sales data\n",
        "    - Customer data\n",
        "    - Product Data\n",
        "\n",
        "*   What are the important characteristics of the data?\n",
        "      - Data quality problems (missing values, duplicates, etc) = Null values(postal code,), No duplicate rows,\n",
        "      - First insights into the data\n",
        "            1. Many postal addresses fields = NULL\n",
        "            2. Postal Code is having over 40,000 missing values hence may be dropped.\n",
        "\n",
        "\n",
        "\n",
        "\n",
        "\n",
        "\n",
        "\n"
      ]
    },
    {
      "cell_type": "code",
      "metadata": {
        "id": "cA-krwuXuzGj"
      },
      "source": [
        "##Importing the necessary packages\n",
        "import pandas as pd\n",
        "import numpy as np\n",
        "import matplotlib.pyplot as plt\n",
        "\n",
        "import matplotlib.style as style\n",
        "import seaborn as sns\n",
        "import warnings\n",
        "import datetime as dt\n",
        "warnings.filterwarnings('ignore')\n",
        "\n",
        "%matplotlib inline\n",
        "pd.set_option('display.max_colwidth',None)\n",
        "pd.set_option('display.max_columns',None)\n"
      ],
      "execution_count": 1,
      "outputs": []
    },
    {
      "cell_type": "code",
      "metadata": {
        "id": "BNYJRIUxuzGn"
      },
      "source": [
        "#Reading the data\n",
        "#NB: Make sure you the data in your current working directory\n",
        "\n",
        "data = pd.read_csv('superstore data.csv',parse_dates = ['Order Date','Ship Date'],encoding = 'latin1')"
      ],
      "execution_count": 2,
      "outputs": []
    },
    {
      "cell_type": "code",
      "metadata": {
        "id": "0VyFKeqLuzGp",
        "colab": {
          "base_uri": "https://localhost:8080/",
          "height": 504
        },
        "outputId": "3e030be5-1db1-40c4-e683-c41e0c04b967"
      },
      "source": [
        "data.head(5)"
      ],
      "execution_count": 3,
      "outputs": [
        {
          "output_type": "execute_result",
          "data": {
            "text/html": [
              "<div>\n",
              "<style scoped>\n",
              "    .dataframe tbody tr th:only-of-type {\n",
              "        vertical-align: middle;\n",
              "    }\n",
              "\n",
              "    .dataframe tbody tr th {\n",
              "        vertical-align: top;\n",
              "    }\n",
              "\n",
              "    .dataframe thead th {\n",
              "        text-align: right;\n",
              "    }\n",
              "</style>\n",
              "<table border=\"1\" class=\"dataframe\">\n",
              "  <thead>\n",
              "    <tr style=\"text-align: right;\">\n",
              "      <th></th>\n",
              "      <th>Row ID</th>\n",
              "      <th>Order ID</th>\n",
              "      <th>Order Date</th>\n",
              "      <th>Ship Date</th>\n",
              "      <th>Ship Mode</th>\n",
              "      <th>Customer ID</th>\n",
              "      <th>Customer Name</th>\n",
              "      <th>Segment</th>\n",
              "      <th>City</th>\n",
              "      <th>State</th>\n",
              "      <th>Country</th>\n",
              "      <th>Postal Code</th>\n",
              "      <th>Market</th>\n",
              "      <th>Region</th>\n",
              "      <th>Product ID</th>\n",
              "      <th>Category</th>\n",
              "      <th>Sub-Category</th>\n",
              "      <th>Product Name</th>\n",
              "      <th>Sales</th>\n",
              "      <th>Quantity</th>\n",
              "      <th>Discount</th>\n",
              "      <th>Profit</th>\n",
              "      <th>Shipping Cost</th>\n",
              "      <th>Order Priority</th>\n",
              "    </tr>\n",
              "  </thead>\n",
              "  <tbody>\n",
              "    <tr>\n",
              "      <th>0</th>\n",
              "      <td>42433</td>\n",
              "      <td>AG-2011-2040</td>\n",
              "      <td>2011-01-01</td>\n",
              "      <td>2011-06-01</td>\n",
              "      <td>Standard Class</td>\n",
              "      <td>TB-11280</td>\n",
              "      <td>Toby Braunhardt</td>\n",
              "      <td>Consumer</td>\n",
              "      <td>Constantine</td>\n",
              "      <td>Constantine</td>\n",
              "      <td>Algeria</td>\n",
              "      <td>NaN</td>\n",
              "      <td>Africa</td>\n",
              "      <td>Africa</td>\n",
              "      <td>OFF-TEN-10000025</td>\n",
              "      <td>Office Supplies</td>\n",
              "      <td>Storage</td>\n",
              "      <td>Tenex Lockers, Blue</td>\n",
              "      <td>408.300</td>\n",
              "      <td>2</td>\n",
              "      <td>0.0</td>\n",
              "      <td>106.140</td>\n",
              "      <td>35.46</td>\n",
              "      <td>Medium</td>\n",
              "    </tr>\n",
              "    <tr>\n",
              "      <th>1</th>\n",
              "      <td>22253</td>\n",
              "      <td>IN-2011-47883</td>\n",
              "      <td>2011-01-01</td>\n",
              "      <td>2011-08-01</td>\n",
              "      <td>Standard Class</td>\n",
              "      <td>JH-15985</td>\n",
              "      <td>Joseph Holt</td>\n",
              "      <td>Consumer</td>\n",
              "      <td>Wagga Wagga</td>\n",
              "      <td>New South Wales</td>\n",
              "      <td>Australia</td>\n",
              "      <td>NaN</td>\n",
              "      <td>APAC</td>\n",
              "      <td>Oceania</td>\n",
              "      <td>OFF-SU-10000618</td>\n",
              "      <td>Office Supplies</td>\n",
              "      <td>Supplies</td>\n",
              "      <td>Acme Trimmer, High Speed</td>\n",
              "      <td>120.366</td>\n",
              "      <td>3</td>\n",
              "      <td>0.1</td>\n",
              "      <td>36.036</td>\n",
              "      <td>9.72</td>\n",
              "      <td>Medium</td>\n",
              "    </tr>\n",
              "    <tr>\n",
              "      <th>2</th>\n",
              "      <td>48883</td>\n",
              "      <td>HU-2011-1220</td>\n",
              "      <td>2011-01-01</td>\n",
              "      <td>2011-05-01</td>\n",
              "      <td>Second Class</td>\n",
              "      <td>AT-735</td>\n",
              "      <td>Annie Thurman</td>\n",
              "      <td>Consumer</td>\n",
              "      <td>Budapest</td>\n",
              "      <td>Budapest</td>\n",
              "      <td>Hungary</td>\n",
              "      <td>NaN</td>\n",
              "      <td>EMEA</td>\n",
              "      <td>EMEA</td>\n",
              "      <td>OFF-TEN-10001585</td>\n",
              "      <td>Office Supplies</td>\n",
              "      <td>Storage</td>\n",
              "      <td>Tenex Box, Single Width</td>\n",
              "      <td>66.120</td>\n",
              "      <td>4</td>\n",
              "      <td>0.0</td>\n",
              "      <td>29.640</td>\n",
              "      <td>8.17</td>\n",
              "      <td>High</td>\n",
              "    </tr>\n",
              "    <tr>\n",
              "      <th>3</th>\n",
              "      <td>11731</td>\n",
              "      <td>IT-2011-3647632</td>\n",
              "      <td>2011-01-01</td>\n",
              "      <td>2011-05-01</td>\n",
              "      <td>Second Class</td>\n",
              "      <td>EM-14140</td>\n",
              "      <td>Eugene Moren</td>\n",
              "      <td>Home Office</td>\n",
              "      <td>Stockholm</td>\n",
              "      <td>Stockholm</td>\n",
              "      <td>Sweden</td>\n",
              "      <td>NaN</td>\n",
              "      <td>EU</td>\n",
              "      <td>North</td>\n",
              "      <td>OFF-PA-10001492</td>\n",
              "      <td>Office Supplies</td>\n",
              "      <td>Paper</td>\n",
              "      <td>Enermax Note Cards, Premium</td>\n",
              "      <td>44.865</td>\n",
              "      <td>3</td>\n",
              "      <td>0.5</td>\n",
              "      <td>-26.055</td>\n",
              "      <td>4.82</td>\n",
              "      <td>High</td>\n",
              "    </tr>\n",
              "    <tr>\n",
              "      <th>4</th>\n",
              "      <td>22255</td>\n",
              "      <td>IN-2011-47883</td>\n",
              "      <td>2011-01-01</td>\n",
              "      <td>2011-08-01</td>\n",
              "      <td>Standard Class</td>\n",
              "      <td>JH-15985</td>\n",
              "      <td>Joseph Holt</td>\n",
              "      <td>Consumer</td>\n",
              "      <td>Wagga Wagga</td>\n",
              "      <td>New South Wales</td>\n",
              "      <td>Australia</td>\n",
              "      <td>NaN</td>\n",
              "      <td>APAC</td>\n",
              "      <td>Oceania</td>\n",
              "      <td>FUR-FU-10003447</td>\n",
              "      <td>Furniture</td>\n",
              "      <td>Furnishings</td>\n",
              "      <td>Eldon Light Bulb, Duo Pack</td>\n",
              "      <td>113.670</td>\n",
              "      <td>5</td>\n",
              "      <td>0.1</td>\n",
              "      <td>37.770</td>\n",
              "      <td>4.70</td>\n",
              "      <td>Medium</td>\n",
              "    </tr>\n",
              "  </tbody>\n",
              "</table>\n",
              "</div>"
            ],
            "text/plain": [
              "   Row ID         Order ID Order Date  Ship Date       Ship Mode Customer ID  \\\n",
              "0   42433     AG-2011-2040 2011-01-01 2011-06-01  Standard Class    TB-11280   \n",
              "1   22253    IN-2011-47883 2011-01-01 2011-08-01  Standard Class    JH-15985   \n",
              "2   48883     HU-2011-1220 2011-01-01 2011-05-01    Second Class      AT-735   \n",
              "3   11731  IT-2011-3647632 2011-01-01 2011-05-01    Second Class    EM-14140   \n",
              "4   22255    IN-2011-47883 2011-01-01 2011-08-01  Standard Class    JH-15985   \n",
              "\n",
              "     Customer Name      Segment         City            State    Country  \\\n",
              "0  Toby Braunhardt     Consumer  Constantine      Constantine    Algeria   \n",
              "1      Joseph Holt     Consumer  Wagga Wagga  New South Wales  Australia   \n",
              "2    Annie Thurman     Consumer     Budapest         Budapest    Hungary   \n",
              "3     Eugene Moren  Home Office    Stockholm        Stockholm     Sweden   \n",
              "4      Joseph Holt     Consumer  Wagga Wagga  New South Wales  Australia   \n",
              "\n",
              "   Postal Code  Market   Region        Product ID         Category  \\\n",
              "0          NaN  Africa   Africa  OFF-TEN-10000025  Office Supplies   \n",
              "1          NaN    APAC  Oceania   OFF-SU-10000618  Office Supplies   \n",
              "2          NaN    EMEA     EMEA  OFF-TEN-10001585  Office Supplies   \n",
              "3          NaN      EU    North   OFF-PA-10001492  Office Supplies   \n",
              "4          NaN    APAC  Oceania   FUR-FU-10003447        Furniture   \n",
              "\n",
              "  Sub-Category                 Product Name    Sales  Quantity  Discount  \\\n",
              "0      Storage          Tenex Lockers, Blue  408.300         2       0.0   \n",
              "1     Supplies     Acme Trimmer, High Speed  120.366         3       0.1   \n",
              "2      Storage      Tenex Box, Single Width   66.120         4       0.0   \n",
              "3        Paper  Enermax Note Cards, Premium   44.865         3       0.5   \n",
              "4  Furnishings   Eldon Light Bulb, Duo Pack  113.670         5       0.1   \n",
              "\n",
              "    Profit  Shipping Cost Order Priority  \n",
              "0  106.140          35.46         Medium  \n",
              "1   36.036           9.72         Medium  \n",
              "2   29.640           8.17           High  \n",
              "3  -26.055           4.82           High  \n",
              "4   37.770           4.70         Medium  "
            ]
          },
          "metadata": {},
          "execution_count": 3
        }
      ]
    },
    {
      "cell_type": "markdown",
      "metadata": {
        "id": "Dedd6cvx4x9T"
      },
      "source": [
        "### Exploratory Data Analysis (EDA)"
      ]
    },
    {
      "cell_type": "code",
      "metadata": {
        "id": "OFZFxDm5uzGq",
        "colab": {
          "base_uri": "https://localhost:8080/"
        },
        "outputId": "78f36f6c-4f9d-4585-9da5-79c74de85a6f"
      },
      "source": [
        "for col in data.columns:\n",
        "    print(col)"
      ],
      "execution_count": 4,
      "outputs": [
        {
          "output_type": "stream",
          "name": "stdout",
          "text": [
            "Row ID\n",
            "Order ID\n",
            "Order Date\n",
            "Ship Date\n",
            "Ship Mode\n",
            "Customer ID\n",
            "Customer Name\n",
            "Segment\n",
            "City\n",
            "State\n",
            "Country\n",
            "Postal Code\n",
            "Market\n",
            "Region\n",
            "Product ID\n",
            "Category\n",
            "Sub-Category\n",
            "Product Name\n",
            "Sales\n",
            "Quantity\n",
            "Discount\n",
            "Profit\n",
            "Shipping Cost\n",
            "Order Priority\n"
          ]
        }
      ]
    },
    {
      "cell_type": "code",
      "metadata": {
        "colab": {
          "base_uri": "https://localhost:8080/"
        },
        "id": "gxQp80r35xWj",
        "outputId": "1905cb6f-d5a3-4338-c967-4a361f2ad83d"
      },
      "source": [
        "data.info()"
      ],
      "execution_count": 5,
      "outputs": [
        {
          "output_type": "stream",
          "name": "stdout",
          "text": [
            "<class 'pandas.core.frame.DataFrame'>\n",
            "RangeIndex: 51290 entries, 0 to 51289\n",
            "Data columns (total 24 columns):\n",
            " #   Column          Non-Null Count  Dtype         \n",
            "---  ------          --------------  -----         \n",
            " 0   Row ID          51290 non-null  int64         \n",
            " 1   Order ID        51290 non-null  object        \n",
            " 2   Order Date      51290 non-null  datetime64[ns]\n",
            " 3   Ship Date       51290 non-null  datetime64[ns]\n",
            " 4   Ship Mode       51290 non-null  object        \n",
            " 5   Customer ID     51290 non-null  object        \n",
            " 6   Customer Name   51290 non-null  object        \n",
            " 7   Segment         51290 non-null  object        \n",
            " 8   City            51290 non-null  object        \n",
            " 9   State           51290 non-null  object        \n",
            " 10  Country         51290 non-null  object        \n",
            " 11  Postal Code     9994 non-null   float64       \n",
            " 12  Market          51290 non-null  object        \n",
            " 13  Region          51290 non-null  object        \n",
            " 14  Product ID      51290 non-null  object        \n",
            " 15  Category        51290 non-null  object        \n",
            " 16  Sub-Category    51290 non-null  object        \n",
            " 17  Product Name    51290 non-null  object        \n",
            " 18  Sales           51290 non-null  float64       \n",
            " 19  Quantity        51290 non-null  int64         \n",
            " 20  Discount        51290 non-null  float64       \n",
            " 21  Profit          51290 non-null  float64       \n",
            " 22  Shipping Cost   51290 non-null  float64       \n",
            " 23  Order Priority  51290 non-null  object        \n",
            "dtypes: datetime64[ns](2), float64(5), int64(2), object(15)\n",
            "memory usage: 9.4+ MB\n"
          ]
        }
      ]
    },
    {
      "cell_type": "code",
      "metadata": {
        "colab": {
          "base_uri": "https://localhost:8080/"
        },
        "id": "EQHl4kZr6xOW",
        "outputId": "c71bb225-e374-4f8c-dff0-77be84a0e731"
      },
      "source": [
        "data.isnull().sum()"
      ],
      "execution_count": 6,
      "outputs": [
        {
          "output_type": "execute_result",
          "data": {
            "text/plain": [
              "Row ID                0\n",
              "Order ID              0\n",
              "Order Date            0\n",
              "Ship Date             0\n",
              "Ship Mode             0\n",
              "Customer ID           0\n",
              "Customer Name         0\n",
              "Segment               0\n",
              "City                  0\n",
              "State                 0\n",
              "Country               0\n",
              "Postal Code       41296\n",
              "Market                0\n",
              "Region                0\n",
              "Product ID            0\n",
              "Category              0\n",
              "Sub-Category          0\n",
              "Product Name          0\n",
              "Sales                 0\n",
              "Quantity              0\n",
              "Discount              0\n",
              "Profit                0\n",
              "Shipping Cost         0\n",
              "Order Priority        0\n",
              "dtype: int64"
            ]
          },
          "metadata": {},
          "execution_count": 6
        }
      ]
    },
    {
      "cell_type": "markdown",
      "metadata": {
        "id": "Mms-SrE9KRVQ"
      },
      "source": [
        "##### The Postal ID Column has 41,296 null values out of 51,290 values. Hence may be dropped."
      ]
    },
    {
      "cell_type": "markdown",
      "metadata": {
        "id": "RarbEocmKAw5"
      },
      "source": [
        "### Are there any duplicates?"
      ]
    },
    {
      "cell_type": "code",
      "metadata": {
        "colab": {
          "base_uri": "https://localhost:8080/",
          "height": 86
        },
        "id": "lhyyLTjs-Mks",
        "outputId": "7e2ea47e-7443-4570-f436-8f3487304863"
      },
      "source": [
        "duplicate = data[data.duplicated()]\n",
        "duplicate"
      ],
      "execution_count": 7,
      "outputs": [
        {
          "output_type": "execute_result",
          "data": {
            "text/html": [
              "<div>\n",
              "<style scoped>\n",
              "    .dataframe tbody tr th:only-of-type {\n",
              "        vertical-align: middle;\n",
              "    }\n",
              "\n",
              "    .dataframe tbody tr th {\n",
              "        vertical-align: top;\n",
              "    }\n",
              "\n",
              "    .dataframe thead th {\n",
              "        text-align: right;\n",
              "    }\n",
              "</style>\n",
              "<table border=\"1\" class=\"dataframe\">\n",
              "  <thead>\n",
              "    <tr style=\"text-align: right;\">\n",
              "      <th></th>\n",
              "      <th>Row ID</th>\n",
              "      <th>Order ID</th>\n",
              "      <th>Order Date</th>\n",
              "      <th>Ship Date</th>\n",
              "      <th>Ship Mode</th>\n",
              "      <th>Customer ID</th>\n",
              "      <th>Customer Name</th>\n",
              "      <th>Segment</th>\n",
              "      <th>City</th>\n",
              "      <th>State</th>\n",
              "      <th>Country</th>\n",
              "      <th>Postal Code</th>\n",
              "      <th>Market</th>\n",
              "      <th>Region</th>\n",
              "      <th>Product ID</th>\n",
              "      <th>Category</th>\n",
              "      <th>Sub-Category</th>\n",
              "      <th>Product Name</th>\n",
              "      <th>Sales</th>\n",
              "      <th>Quantity</th>\n",
              "      <th>Discount</th>\n",
              "      <th>Profit</th>\n",
              "      <th>Shipping Cost</th>\n",
              "      <th>Order Priority</th>\n",
              "    </tr>\n",
              "  </thead>\n",
              "  <tbody>\n",
              "  </tbody>\n",
              "</table>\n",
              "</div>"
            ],
            "text/plain": [
              "Empty DataFrame\n",
              "Columns: [Row ID, Order ID, Order Date, Ship Date, Ship Mode, Customer ID, Customer Name, Segment, City, State, Country, Postal Code, Market, Region, Product ID, Category, Sub-Category, Product Name, Sales, Quantity, Discount, Profit, Shipping Cost, Order Priority]\n",
              "Index: []"
            ]
          },
          "metadata": {},
          "execution_count": 7
        }
      ]
    },
    {
      "cell_type": "markdown",
      "metadata": {
        "id": "uUOXeiJWOpJj"
      },
      "source": [
        "From the output above, there are no duplicates in this data."
      ]
    },
    {
      "cell_type": "code",
      "metadata": {
        "colab": {
          "base_uri": "https://localhost:8080/"
        },
        "id": "Ibxgm8RgAu_7",
        "outputId": "4a185e7d-82c3-4462-a223-5e2a981b9d63"
      },
      "source": [
        "data['Row ID'].nunique()"
      ],
      "execution_count": 8,
      "outputs": [
        {
          "output_type": "execute_result",
          "data": {
            "text/plain": [
              "51290"
            ]
          },
          "metadata": {},
          "execution_count": 8
        }
      ]
    },
    {
      "cell_type": "code",
      "metadata": {
        "colab": {
          "base_uri": "https://localhost:8080/"
        },
        "id": "s82pM3tFT3QT",
        "outputId": "1b2f7839-0b57-418d-85bf-75edf2ff8445"
      },
      "source": [
        "data.columns"
      ],
      "execution_count": 9,
      "outputs": [
        {
          "output_type": "execute_result",
          "data": {
            "text/plain": [
              "Index(['Row ID', 'Order ID', 'Order Date', 'Ship Date', 'Ship Mode',\n",
              "       'Customer ID', 'Customer Name', 'Segment', 'City', 'State', 'Country',\n",
              "       'Postal Code', 'Market', 'Region', 'Product ID', 'Category',\n",
              "       'Sub-Category', 'Product Name', 'Sales', 'Quantity', 'Discount',\n",
              "       'Profit', 'Shipping Cost', 'Order Priority'],\n",
              "      dtype='object')"
            ]
          },
          "metadata": {},
          "execution_count": 9
        }
      ]
    },
    {
      "cell_type": "markdown",
      "metadata": {
        "id": "MGpawVmOKgwx"
      },
      "source": [
        "### Creating Columns for Unit Price, Year, Month, Day and Order Delay between Order Date and Ship Date"
      ]
    },
    {
      "cell_type": "code",
      "metadata": {
        "id": "1FE1kqlniMYL"
      },
      "source": [
        "data['Unit Price'] = data['Sales'] / data['Quantity']\n",
        "data['Year'] = data['Order Date'].dt.year\n",
        "data['Month'] = data['Order Date'].dt.month_name()\n",
        "data['Day'] = data['Order Date'].dt.day_name()\n",
        "data['Order Delay'] = data['Ship Date'] - data['Order Date']"
      ],
      "execution_count": 10,
      "outputs": []
    },
    {
      "cell_type": "code",
      "metadata": {
        "colab": {
          "base_uri": "https://localhost:8080/"
        },
        "id": "M6--HIi-ixuZ",
        "outputId": "e957bdf0-ff90-48e3-93ba-c107bbefe233"
      },
      "source": [
        "data.columns"
      ],
      "execution_count": 11,
      "outputs": [
        {
          "output_type": "execute_result",
          "data": {
            "text/plain": [
              "Index(['Row ID', 'Order ID', 'Order Date', 'Ship Date', 'Ship Mode',\n",
              "       'Customer ID', 'Customer Name', 'Segment', 'City', 'State', 'Country',\n",
              "       'Postal Code', 'Market', 'Region', 'Product ID', 'Category',\n",
              "       'Sub-Category', 'Product Name', 'Sales', 'Quantity', 'Discount',\n",
              "       'Profit', 'Shipping Cost', 'Order Priority', 'Unit Price', 'Year',\n",
              "       'Month', 'Day', 'Order Delay'],\n",
              "      dtype='object')"
            ]
          },
          "metadata": {},
          "execution_count": 11
        }
      ]
    },
    {
      "cell_type": "markdown",
      "metadata": {
        "id": "B7V7qlS1SdbD"
      },
      "source": [
        "### Splitting the data into categorical and numerical variables\n",
        "This is done to make it easier to understand and clean the data."
      ]
    },
    {
      "cell_type": "code",
      "metadata": {
        "id": "b5rTzsrMSXku"
      },
      "source": [
        "numerical = data.select_dtypes(include= np.number)\n",
        "categorical = data.select_dtypes(include = 'object')"
      ],
      "execution_count": 12,
      "outputs": []
    },
    {
      "cell_type": "markdown",
      "metadata": {
        "id": "iqPPPxOLKxlV"
      },
      "source": [
        "## Descriptive Statistics on Numerical Data"
      ]
    },
    {
      "cell_type": "code",
      "metadata": {
        "colab": {
          "base_uri": "https://localhost:8080/",
          "height": 372
        },
        "id": "oZdO5f6Zn-J1",
        "outputId": "37ff7d6d-dc27-4603-c12e-31a55cc04acc"
      },
      "source": [
        "numerical.describe()"
      ],
      "execution_count": 13,
      "outputs": [
        {
          "output_type": "execute_result",
          "data": {
            "text/html": [
              "<div>\n",
              "<style scoped>\n",
              "    .dataframe tbody tr th:only-of-type {\n",
              "        vertical-align: middle;\n",
              "    }\n",
              "\n",
              "    .dataframe tbody tr th {\n",
              "        vertical-align: top;\n",
              "    }\n",
              "\n",
              "    .dataframe thead th {\n",
              "        text-align: right;\n",
              "    }\n",
              "</style>\n",
              "<table border=\"1\" class=\"dataframe\">\n",
              "  <thead>\n",
              "    <tr style=\"text-align: right;\">\n",
              "      <th></th>\n",
              "      <th>Row ID</th>\n",
              "      <th>Postal Code</th>\n",
              "      <th>Sales</th>\n",
              "      <th>Quantity</th>\n",
              "      <th>Discount</th>\n",
              "      <th>Profit</th>\n",
              "      <th>Shipping Cost</th>\n",
              "      <th>Unit Price</th>\n",
              "      <th>Year</th>\n",
              "      <th>Order Delay</th>\n",
              "    </tr>\n",
              "  </thead>\n",
              "  <tbody>\n",
              "    <tr>\n",
              "      <th>count</th>\n",
              "      <td>51290.00000</td>\n",
              "      <td>9994.000000</td>\n",
              "      <td>51290.000000</td>\n",
              "      <td>51290.000000</td>\n",
              "      <td>51290.000000</td>\n",
              "      <td>51290.000000</td>\n",
              "      <td>51290.000000</td>\n",
              "      <td>51290.000000</td>\n",
              "      <td>51290.000000</td>\n",
              "      <td>51290</td>\n",
              "    </tr>\n",
              "    <tr>\n",
              "      <th>mean</th>\n",
              "      <td>25645.50000</td>\n",
              "      <td>55190.379428</td>\n",
              "      <td>246.490581</td>\n",
              "      <td>3.476545</td>\n",
              "      <td>0.142908</td>\n",
              "      <td>28.610982</td>\n",
              "      <td>26.375915</td>\n",
              "      <td>71.657487</td>\n",
              "      <td>2012.777208</td>\n",
              "      <td>5 days 01:53:49.120686293</td>\n",
              "    </tr>\n",
              "    <tr>\n",
              "      <th>std</th>\n",
              "      <td>14806.29199</td>\n",
              "      <td>32063.693350</td>\n",
              "      <td>487.565361</td>\n",
              "      <td>2.278766</td>\n",
              "      <td>0.212280</td>\n",
              "      <td>174.340972</td>\n",
              "      <td>57.296804</td>\n",
              "      <td>113.581515</td>\n",
              "      <td>1.098931</td>\n",
              "      <td>97 days 18:30:57.003928096</td>\n",
              "    </tr>\n",
              "    <tr>\n",
              "      <th>min</th>\n",
              "      <td>1.00000</td>\n",
              "      <td>1040.000000</td>\n",
              "      <td>0.444000</td>\n",
              "      <td>1.000000</td>\n",
              "      <td>0.000000</td>\n",
              "      <td>-6599.978000</td>\n",
              "      <td>0.000000</td>\n",
              "      <td>0.336000</td>\n",
              "      <td>2011.000000</td>\n",
              "      <td>-322 days +00:00:00</td>\n",
              "    </tr>\n",
              "    <tr>\n",
              "      <th>25%</th>\n",
              "      <td>12823.25000</td>\n",
              "      <td>23223.000000</td>\n",
              "      <td>30.758625</td>\n",
              "      <td>2.000000</td>\n",
              "      <td>0.000000</td>\n",
              "      <td>0.000000</td>\n",
              "      <td>2.610000</td>\n",
              "      <td>11.799900</td>\n",
              "      <td>2012.000000</td>\n",
              "      <td>1 days 00:00:00</td>\n",
              "    </tr>\n",
              "    <tr>\n",
              "      <th>50%</th>\n",
              "      <td>25645.50000</td>\n",
              "      <td>56430.500000</td>\n",
              "      <td>85.053000</td>\n",
              "      <td>3.000000</td>\n",
              "      <td>0.000000</td>\n",
              "      <td>9.240000</td>\n",
              "      <td>7.790000</td>\n",
              "      <td>29.400000</td>\n",
              "      <td>2013.000000</td>\n",
              "      <td>4 days 00:00:00</td>\n",
              "    </tr>\n",
              "    <tr>\n",
              "      <th>75%</th>\n",
              "      <td>38467.75000</td>\n",
              "      <td>90008.000000</td>\n",
              "      <td>251.053200</td>\n",
              "      <td>5.000000</td>\n",
              "      <td>0.200000</td>\n",
              "      <td>36.810000</td>\n",
              "      <td>24.450000</td>\n",
              "      <td>82.160000</td>\n",
              "      <td>2014.000000</td>\n",
              "      <td>59 days 00:00:00</td>\n",
              "    </tr>\n",
              "    <tr>\n",
              "      <th>max</th>\n",
              "      <td>51290.00000</td>\n",
              "      <td>99301.000000</td>\n",
              "      <td>22638.480000</td>\n",
              "      <td>14.000000</td>\n",
              "      <td>0.850000</td>\n",
              "      <td>8399.976000</td>\n",
              "      <td>933.570000</td>\n",
              "      <td>3773.080000</td>\n",
              "      <td>2014.000000</td>\n",
              "      <td>214 days 00:00:00</td>\n",
              "    </tr>\n",
              "  </tbody>\n",
              "</table>\n",
              "</div>"
            ],
            "text/plain": [
              "            Row ID   Postal Code         Sales      Quantity      Discount  \\\n",
              "count  51290.00000   9994.000000  51290.000000  51290.000000  51290.000000   \n",
              "mean   25645.50000  55190.379428    246.490581      3.476545      0.142908   \n",
              "std    14806.29199  32063.693350    487.565361      2.278766      0.212280   \n",
              "min        1.00000   1040.000000      0.444000      1.000000      0.000000   \n",
              "25%    12823.25000  23223.000000     30.758625      2.000000      0.000000   \n",
              "50%    25645.50000  56430.500000     85.053000      3.000000      0.000000   \n",
              "75%    38467.75000  90008.000000    251.053200      5.000000      0.200000   \n",
              "max    51290.00000  99301.000000  22638.480000     14.000000      0.850000   \n",
              "\n",
              "             Profit  Shipping Cost    Unit Price          Year  \\\n",
              "count  51290.000000   51290.000000  51290.000000  51290.000000   \n",
              "mean      28.610982      26.375915     71.657487   2012.777208   \n",
              "std      174.340972      57.296804    113.581515      1.098931   \n",
              "min    -6599.978000       0.000000      0.336000   2011.000000   \n",
              "25%        0.000000       2.610000     11.799900   2012.000000   \n",
              "50%        9.240000       7.790000     29.400000   2013.000000   \n",
              "75%       36.810000      24.450000     82.160000   2014.000000   \n",
              "max     8399.976000     933.570000   3773.080000   2014.000000   \n",
              "\n",
              "                      Order Delay  \n",
              "count                       51290  \n",
              "mean    5 days 01:53:49.120686293  \n",
              "std    97 days 18:30:57.003928096  \n",
              "min           -322 days +00:00:00  \n",
              "25%               1 days 00:00:00  \n",
              "50%               4 days 00:00:00  \n",
              "75%              59 days 00:00:00  \n",
              "max             214 days 00:00:00  "
            ]
          },
          "metadata": {},
          "execution_count": 13
        }
      ]
    },
    {
      "cell_type": "code",
      "metadata": {
        "id": "bOxKpCVtTCr7"
      },
      "source": [
        "numerical.drop('Postal Code', axis=1, inplace=True)  "
      ],
      "execution_count": 14,
      "outputs": []
    },
    {
      "cell_type": "markdown",
      "metadata": {
        "id": "FnhraWgfWaP1"
      },
      "source": [
        "#### Highest sales"
      ]
    },
    {
      "cell_type": "code",
      "metadata": {
        "colab": {
          "base_uri": "https://localhost:8080/",
          "height": 187
        },
        "id": "gNBs0rJnobz0",
        "outputId": "6eca681c-f745-4f05-c911-2dcb2595909b"
      },
      "source": [
        "data[data['Sales'].isin([22638.480000])]"
      ],
      "execution_count": 15,
      "outputs": [
        {
          "output_type": "execute_result",
          "data": {
            "text/html": [
              "<div>\n",
              "<style scoped>\n",
              "    .dataframe tbody tr th:only-of-type {\n",
              "        vertical-align: middle;\n",
              "    }\n",
              "\n",
              "    .dataframe tbody tr th {\n",
              "        vertical-align: top;\n",
              "    }\n",
              "\n",
              "    .dataframe thead th {\n",
              "        text-align: right;\n",
              "    }\n",
              "</style>\n",
              "<table border=\"1\" class=\"dataframe\">\n",
              "  <thead>\n",
              "    <tr style=\"text-align: right;\">\n",
              "      <th></th>\n",
              "      <th>Row ID</th>\n",
              "      <th>Order ID</th>\n",
              "      <th>Order Date</th>\n",
              "      <th>Ship Date</th>\n",
              "      <th>Ship Mode</th>\n",
              "      <th>Customer ID</th>\n",
              "      <th>Customer Name</th>\n",
              "      <th>Segment</th>\n",
              "      <th>City</th>\n",
              "      <th>State</th>\n",
              "      <th>Country</th>\n",
              "      <th>Postal Code</th>\n",
              "      <th>Market</th>\n",
              "      <th>Region</th>\n",
              "      <th>Product ID</th>\n",
              "      <th>Category</th>\n",
              "      <th>Sub-Category</th>\n",
              "      <th>Product Name</th>\n",
              "      <th>Sales</th>\n",
              "      <th>Quantity</th>\n",
              "      <th>Discount</th>\n",
              "      <th>Profit</th>\n",
              "      <th>Shipping Cost</th>\n",
              "      <th>Order Priority</th>\n",
              "      <th>Unit Price</th>\n",
              "      <th>Year</th>\n",
              "      <th>Month</th>\n",
              "      <th>Day</th>\n",
              "      <th>Order Delay</th>\n",
              "    </tr>\n",
              "  </thead>\n",
              "  <tbody>\n",
              "    <tr>\n",
              "      <th>28612</th>\n",
              "      <td>33994</td>\n",
              "      <td>CA-2011-145317</td>\n",
              "      <td>2011-03-18</td>\n",
              "      <td>2011-03-23</td>\n",
              "      <td>Standard Class</td>\n",
              "      <td>SM-20320</td>\n",
              "      <td>Sean Miller</td>\n",
              "      <td>Home Office</td>\n",
              "      <td>Jacksonville</td>\n",
              "      <td>Florida</td>\n",
              "      <td>United States</td>\n",
              "      <td>32216.0</td>\n",
              "      <td>US</td>\n",
              "      <td>South</td>\n",
              "      <td>TEC-MA-10002412</td>\n",
              "      <td>Technology</td>\n",
              "      <td>Machines</td>\n",
              "      <td>Cisco TelePresence System EX90 Videoconferencing Unit</td>\n",
              "      <td>22638.48</td>\n",
              "      <td>6</td>\n",
              "      <td>0.5</td>\n",
              "      <td>-1811.0784</td>\n",
              "      <td>24.29</td>\n",
              "      <td>Medium</td>\n",
              "      <td>3773.08</td>\n",
              "      <td>2011</td>\n",
              "      <td>March</td>\n",
              "      <td>Friday</td>\n",
              "      <td>5 days</td>\n",
              "    </tr>\n",
              "  </tbody>\n",
              "</table>\n",
              "</div>"
            ],
            "text/plain": [
              "       Row ID        Order ID Order Date  Ship Date       Ship Mode  \\\n",
              "28612   33994  CA-2011-145317 2011-03-18 2011-03-23  Standard Class   \n",
              "\n",
              "      Customer ID Customer Name      Segment          City    State  \\\n",
              "28612    SM-20320   Sean Miller  Home Office  Jacksonville  Florida   \n",
              "\n",
              "             Country  Postal Code Market Region       Product ID    Category  \\\n",
              "28612  United States      32216.0     US  South  TEC-MA-10002412  Technology   \n",
              "\n",
              "      Sub-Category                                           Product Name  \\\n",
              "28612     Machines  Cisco TelePresence System EX90 Videoconferencing Unit   \n",
              "\n",
              "          Sales  Quantity  Discount     Profit  Shipping Cost Order Priority  \\\n",
              "28612  22638.48         6       0.5 -1811.0784          24.29         Medium   \n",
              "\n",
              "       Unit Price  Year  Month     Day Order Delay  \n",
              "28612     3773.08  2011  March  Friday      5 days  "
            ]
          },
          "metadata": {},
          "execution_count": 15
        }
      ]
    },
    {
      "cell_type": "markdown",
      "metadata": {
        "id": "geEONUHmbHjI"
      },
      "source": [
        "#### Lowest sales"
      ]
    },
    {
      "cell_type": "code",
      "metadata": {
        "colab": {
          "base_uri": "https://localhost:8080/",
          "height": 239
        },
        "id": "9Bqwr5O2K8z6",
        "outputId": "1fefcdc3-2870-47ee-9fa8-c95e78a9779c"
      },
      "source": [
        "data[data['Sales'].isin([0.444000])]"
      ],
      "execution_count": 16,
      "outputs": [
        {
          "output_type": "execute_result",
          "data": {
            "text/html": [
              "<div>\n",
              "<style scoped>\n",
              "    .dataframe tbody tr th:only-of-type {\n",
              "        vertical-align: middle;\n",
              "    }\n",
              "\n",
              "    .dataframe tbody tr th {\n",
              "        vertical-align: top;\n",
              "    }\n",
              "\n",
              "    .dataframe thead th {\n",
              "        text-align: right;\n",
              "    }\n",
              "</style>\n",
              "<table border=\"1\" class=\"dataframe\">\n",
              "  <thead>\n",
              "    <tr style=\"text-align: right;\">\n",
              "      <th></th>\n",
              "      <th>Row ID</th>\n",
              "      <th>Order ID</th>\n",
              "      <th>Order Date</th>\n",
              "      <th>Ship Date</th>\n",
              "      <th>Ship Mode</th>\n",
              "      <th>Customer ID</th>\n",
              "      <th>Customer Name</th>\n",
              "      <th>Segment</th>\n",
              "      <th>City</th>\n",
              "      <th>State</th>\n",
              "      <th>Country</th>\n",
              "      <th>Postal Code</th>\n",
              "      <th>Market</th>\n",
              "      <th>Region</th>\n",
              "      <th>Product ID</th>\n",
              "      <th>Category</th>\n",
              "      <th>Sub-Category</th>\n",
              "      <th>Product Name</th>\n",
              "      <th>Sales</th>\n",
              "      <th>Quantity</th>\n",
              "      <th>Discount</th>\n",
              "      <th>Profit</th>\n",
              "      <th>Shipping Cost</th>\n",
              "      <th>Order Priority</th>\n",
              "      <th>Unit Price</th>\n",
              "      <th>Year</th>\n",
              "      <th>Month</th>\n",
              "      <th>Day</th>\n",
              "      <th>Order Delay</th>\n",
              "    </tr>\n",
              "  </thead>\n",
              "  <tbody>\n",
              "    <tr>\n",
              "      <th>32580</th>\n",
              "      <td>35398</td>\n",
              "      <td>US-2014-102288</td>\n",
              "      <td>2014-06-20</td>\n",
              "      <td>2014-06-24</td>\n",
              "      <td>Standard Class</td>\n",
              "      <td>ZC-21910</td>\n",
              "      <td>Zuschuss Carroll</td>\n",
              "      <td>Consumer</td>\n",
              "      <td>Houston</td>\n",
              "      <td>Texas</td>\n",
              "      <td>United States</td>\n",
              "      <td>77095.0</td>\n",
              "      <td>US</td>\n",
              "      <td>Central</td>\n",
              "      <td>OFF-AP-10002906</td>\n",
              "      <td>Office Supplies</td>\n",
              "      <td>Appliances</td>\n",
              "      <td>Hoover Replacement Belt for Commercial Guardsman Heavy-Duty Upright Vacuum</td>\n",
              "      <td>0.444</td>\n",
              "      <td>1</td>\n",
              "      <td>0.8</td>\n",
              "      <td>-1.11</td>\n",
              "      <td>0.01</td>\n",
              "      <td>Medium</td>\n",
              "      <td>0.444</td>\n",
              "      <td>2014</td>\n",
              "      <td>June</td>\n",
              "      <td>Friday</td>\n",
              "      <td>4 days</td>\n",
              "    </tr>\n",
              "  </tbody>\n",
              "</table>\n",
              "</div>"
            ],
            "text/plain": [
              "       Row ID        Order ID Order Date  Ship Date       Ship Mode  \\\n",
              "32580   35398  US-2014-102288 2014-06-20 2014-06-24  Standard Class   \n",
              "\n",
              "      Customer ID     Customer Name   Segment     City  State        Country  \\\n",
              "32580    ZC-21910  Zuschuss Carroll  Consumer  Houston  Texas  United States   \n",
              "\n",
              "       Postal Code Market   Region       Product ID         Category  \\\n",
              "32580      77095.0     US  Central  OFF-AP-10002906  Office Supplies   \n",
              "\n",
              "      Sub-Category  \\\n",
              "32580   Appliances   \n",
              "\n",
              "                                                                     Product Name  \\\n",
              "32580  Hoover Replacement Belt for Commercial Guardsman Heavy-Duty Upright Vacuum   \n",
              "\n",
              "       Sales  Quantity  Discount  Profit  Shipping Cost Order Priority  \\\n",
              "32580  0.444         1       0.8   -1.11           0.01         Medium   \n",
              "\n",
              "       Unit Price  Year Month     Day Order Delay  \n",
              "32580       0.444  2014  June  Friday      4 days  "
            ]
          },
          "metadata": {},
          "execution_count": 16
        }
      ]
    },
    {
      "cell_type": "markdown",
      "metadata": {
        "id": "5UQfG8eiK9NP"
      },
      "source": [
        "#### Over all, highest sales was 22638.28 by a customer from United States in the South region of the US Market in 2011\n",
        "\n",
        "#### Overall, lowest sales was 0.444 by a customer from the United States in the Central region of the US Market in 2011\n"
      ]
    },
    {
      "cell_type": "markdown",
      "metadata": {
        "id": "QQbRzhETbUJ1"
      },
      "source": [
        "#### Highest profit"
      ]
    },
    {
      "cell_type": "code",
      "metadata": {
        "colab": {
          "base_uri": "https://localhost:8080/",
          "height": 187
        },
        "id": "QGO85KYCpJDF",
        "outputId": "30287b62-3dbd-46d3-e86d-15c54b2321f4"
      },
      "source": [
        "data[data['Profit'].isin([8399.976000])]"
      ],
      "execution_count": 17,
      "outputs": [
        {
          "output_type": "execute_result",
          "data": {
            "text/html": [
              "<div>\n",
              "<style scoped>\n",
              "    .dataframe tbody tr th:only-of-type {\n",
              "        vertical-align: middle;\n",
              "    }\n",
              "\n",
              "    .dataframe tbody tr th {\n",
              "        vertical-align: top;\n",
              "    }\n",
              "\n",
              "    .dataframe thead th {\n",
              "        text-align: right;\n",
              "    }\n",
              "</style>\n",
              "<table border=\"1\" class=\"dataframe\">\n",
              "  <thead>\n",
              "    <tr style=\"text-align: right;\">\n",
              "      <th></th>\n",
              "      <th>Row ID</th>\n",
              "      <th>Order ID</th>\n",
              "      <th>Order Date</th>\n",
              "      <th>Ship Date</th>\n",
              "      <th>Ship Mode</th>\n",
              "      <th>Customer ID</th>\n",
              "      <th>Customer Name</th>\n",
              "      <th>Segment</th>\n",
              "      <th>City</th>\n",
              "      <th>State</th>\n",
              "      <th>Country</th>\n",
              "      <th>Postal Code</th>\n",
              "      <th>Market</th>\n",
              "      <th>Region</th>\n",
              "      <th>Product ID</th>\n",
              "      <th>Category</th>\n",
              "      <th>Sub-Category</th>\n",
              "      <th>Product Name</th>\n",
              "      <th>Sales</th>\n",
              "      <th>Quantity</th>\n",
              "      <th>Discount</th>\n",
              "      <th>Profit</th>\n",
              "      <th>Shipping Cost</th>\n",
              "      <th>Order Priority</th>\n",
              "      <th>Unit Price</th>\n",
              "      <th>Year</th>\n",
              "      <th>Month</th>\n",
              "      <th>Day</th>\n",
              "      <th>Order Delay</th>\n",
              "    </tr>\n",
              "  </thead>\n",
              "  <tbody>\n",
              "    <tr>\n",
              "      <th>8898</th>\n",
              "      <td>38123</td>\n",
              "      <td>CA-2013-118689</td>\n",
              "      <td>2013-03-10</td>\n",
              "      <td>2013-10-10</td>\n",
              "      <td>Standard Class</td>\n",
              "      <td>TC-20980</td>\n",
              "      <td>Tamara Chand</td>\n",
              "      <td>Corporate</td>\n",
              "      <td>Lafayette</td>\n",
              "      <td>Indiana</td>\n",
              "      <td>United States</td>\n",
              "      <td>47905.0</td>\n",
              "      <td>US</td>\n",
              "      <td>Central</td>\n",
              "      <td>TEC-CO-10004722</td>\n",
              "      <td>Technology</td>\n",
              "      <td>Copiers</td>\n",
              "      <td>Canon imageCLASS 2200 Advanced Copier</td>\n",
              "      <td>17499.95</td>\n",
              "      <td>5</td>\n",
              "      <td>0.0</td>\n",
              "      <td>8399.976</td>\n",
              "      <td>349.07</td>\n",
              "      <td>Medium</td>\n",
              "      <td>3499.99</td>\n",
              "      <td>2013</td>\n",
              "      <td>March</td>\n",
              "      <td>Sunday</td>\n",
              "      <td>214 days</td>\n",
              "    </tr>\n",
              "  </tbody>\n",
              "</table>\n",
              "</div>"
            ],
            "text/plain": [
              "      Row ID        Order ID Order Date  Ship Date       Ship Mode  \\\n",
              "8898   38123  CA-2013-118689 2013-03-10 2013-10-10  Standard Class   \n",
              "\n",
              "     Customer ID Customer Name    Segment       City    State        Country  \\\n",
              "8898    TC-20980  Tamara Chand  Corporate  Lafayette  Indiana  United States   \n",
              "\n",
              "      Postal Code Market   Region       Product ID    Category Sub-Category  \\\n",
              "8898      47905.0     US  Central  TEC-CO-10004722  Technology      Copiers   \n",
              "\n",
              "                               Product Name     Sales  Quantity  Discount  \\\n",
              "8898  Canon imageCLASS 2200 Advanced Copier  17499.95         5       0.0   \n",
              "\n",
              "        Profit  Shipping Cost Order Priority  Unit Price  Year  Month     Day  \\\n",
              "8898  8399.976         349.07         Medium     3499.99  2013  March  Sunday   \n",
              "\n",
              "     Order Delay  \n",
              "8898    214 days  "
            ]
          },
          "metadata": {},
          "execution_count": 17
        }
      ]
    },
    {
      "cell_type": "markdown",
      "metadata": {
        "id": "_OzOKHHebY6J"
      },
      "source": [
        "#### Lowest Profit"
      ]
    },
    {
      "cell_type": "code",
      "metadata": {
        "colab": {
          "base_uri": "https://localhost:8080/",
          "height": 222
        },
        "id": "ajvn84GELYA5",
        "outputId": "8d00e939-1cc0-4813-92f1-7ad505a617da"
      },
      "source": [
        "data[data['Profit'].isin([-6599.978000])]"
      ],
      "execution_count": 18,
      "outputs": [
        {
          "output_type": "execute_result",
          "data": {
            "text/html": [
              "<div>\n",
              "<style scoped>\n",
              "    .dataframe tbody tr th:only-of-type {\n",
              "        vertical-align: middle;\n",
              "    }\n",
              "\n",
              "    .dataframe tbody tr th {\n",
              "        vertical-align: top;\n",
              "    }\n",
              "\n",
              "    .dataframe thead th {\n",
              "        text-align: right;\n",
              "    }\n",
              "</style>\n",
              "<table border=\"1\" class=\"dataframe\">\n",
              "  <thead>\n",
              "    <tr style=\"text-align: right;\">\n",
              "      <th></th>\n",
              "      <th>Row ID</th>\n",
              "      <th>Order ID</th>\n",
              "      <th>Order Date</th>\n",
              "      <th>Ship Date</th>\n",
              "      <th>Ship Mode</th>\n",
              "      <th>Customer ID</th>\n",
              "      <th>Customer Name</th>\n",
              "      <th>Segment</th>\n",
              "      <th>City</th>\n",
              "      <th>State</th>\n",
              "      <th>Country</th>\n",
              "      <th>Postal Code</th>\n",
              "      <th>Market</th>\n",
              "      <th>Region</th>\n",
              "      <th>Product ID</th>\n",
              "      <th>Category</th>\n",
              "      <th>Sub-Category</th>\n",
              "      <th>Product Name</th>\n",
              "      <th>Sales</th>\n",
              "      <th>Quantity</th>\n",
              "      <th>Discount</th>\n",
              "      <th>Profit</th>\n",
              "      <th>Shipping Cost</th>\n",
              "      <th>Order Priority</th>\n",
              "      <th>Unit Price</th>\n",
              "      <th>Year</th>\n",
              "      <th>Month</th>\n",
              "      <th>Day</th>\n",
              "      <th>Order Delay</th>\n",
              "    </tr>\n",
              "  </thead>\n",
              "  <tbody>\n",
              "    <tr>\n",
              "      <th>43453</th>\n",
              "      <td>39069</td>\n",
              "      <td>CA-2013-108196</td>\n",
              "      <td>2013-11-26</td>\n",
              "      <td>2013-03-12</td>\n",
              "      <td>Standard Class</td>\n",
              "      <td>CS-12505</td>\n",
              "      <td>Cindy Stewart</td>\n",
              "      <td>Consumer</td>\n",
              "      <td>Lancaster</td>\n",
              "      <td>Ohio</td>\n",
              "      <td>United States</td>\n",
              "      <td>43130.0</td>\n",
              "      <td>US</td>\n",
              "      <td>East</td>\n",
              "      <td>TEC-MA-10000418</td>\n",
              "      <td>Technology</td>\n",
              "      <td>Machines</td>\n",
              "      <td>Cubify CubeX 3D Printer Double Head Print</td>\n",
              "      <td>4499.985</td>\n",
              "      <td>5</td>\n",
              "      <td>0.7</td>\n",
              "      <td>-6599.978</td>\n",
              "      <td>451.63</td>\n",
              "      <td>Low</td>\n",
              "      <td>899.997</td>\n",
              "      <td>2013</td>\n",
              "      <td>November</td>\n",
              "      <td>Tuesday</td>\n",
              "      <td>-259 days</td>\n",
              "    </tr>\n",
              "  </tbody>\n",
              "</table>\n",
              "</div>"
            ],
            "text/plain": [
              "       Row ID        Order ID Order Date  Ship Date       Ship Mode  \\\n",
              "43453   39069  CA-2013-108196 2013-11-26 2013-03-12  Standard Class   \n",
              "\n",
              "      Customer ID  Customer Name   Segment       City State        Country  \\\n",
              "43453    CS-12505  Cindy Stewart  Consumer  Lancaster  Ohio  United States   \n",
              "\n",
              "       Postal Code Market Region       Product ID    Category Sub-Category  \\\n",
              "43453      43130.0     US   East  TEC-MA-10000418  Technology     Machines   \n",
              "\n",
              "                                    Product Name     Sales  Quantity  \\\n",
              "43453  Cubify CubeX 3D Printer Double Head Print  4499.985         5   \n",
              "\n",
              "       Discount    Profit  Shipping Cost Order Priority  Unit Price  Year  \\\n",
              "43453       0.7 -6599.978         451.63            Low     899.997  2013   \n",
              "\n",
              "          Month      Day Order Delay  \n",
              "43453  November  Tuesday   -259 days  "
            ]
          },
          "metadata": {},
          "execution_count": 18
        }
      ]
    },
    {
      "cell_type": "markdown",
      "metadata": {
        "id": "LurMTWYULYat"
      },
      "source": [
        "### Overall, highest profit was 8399.976 by a customer from the United States in the Central region in the US Market in 2013\n",
        "\n",
        "### Overall, lowest profit was -6599.978 by a customer from the United States in the East region in the US Market in 2013"
      ]
    },
    {
      "cell_type": "markdown",
      "metadata": {
        "id": "ba8tTZnwig5U"
      },
      "source": [
        ""
      ]
    },
    {
      "cell_type": "code",
      "metadata": {
        "colab": {
          "base_uri": "https://localhost:8080/",
          "height": 239
        },
        "id": "Q3cJEjVPqBtt",
        "outputId": "dbadea0e-f7ea-466c-ef24-160651df0698"
      },
      "source": [
        "data[data['Shipping Cost'].isin([933.570000])]"
      ],
      "execution_count": 19,
      "outputs": [
        {
          "output_type": "execute_result",
          "data": {
            "text/html": [
              "<div>\n",
              "<style scoped>\n",
              "    .dataframe tbody tr th:only-of-type {\n",
              "        vertical-align: middle;\n",
              "    }\n",
              "\n",
              "    .dataframe tbody tr th {\n",
              "        vertical-align: top;\n",
              "    }\n",
              "\n",
              "    .dataframe thead th {\n",
              "        text-align: right;\n",
              "    }\n",
              "</style>\n",
              "<table border=\"1\" class=\"dataframe\">\n",
              "  <thead>\n",
              "    <tr style=\"text-align: right;\">\n",
              "      <th></th>\n",
              "      <th>Row ID</th>\n",
              "      <th>Order ID</th>\n",
              "      <th>Order Date</th>\n",
              "      <th>Ship Date</th>\n",
              "      <th>Ship Mode</th>\n",
              "      <th>Customer ID</th>\n",
              "      <th>Customer Name</th>\n",
              "      <th>Segment</th>\n",
              "      <th>City</th>\n",
              "      <th>State</th>\n",
              "      <th>Country</th>\n",
              "      <th>Postal Code</th>\n",
              "      <th>Market</th>\n",
              "      <th>Region</th>\n",
              "      <th>Product ID</th>\n",
              "      <th>Category</th>\n",
              "      <th>Sub-Category</th>\n",
              "      <th>Product Name</th>\n",
              "      <th>Sales</th>\n",
              "      <th>Quantity</th>\n",
              "      <th>Discount</th>\n",
              "      <th>Profit</th>\n",
              "      <th>Shipping Cost</th>\n",
              "      <th>Order Priority</th>\n",
              "      <th>Unit Price</th>\n",
              "      <th>Year</th>\n",
              "      <th>Month</th>\n",
              "      <th>Day</th>\n",
              "      <th>Order Delay</th>\n",
              "    </tr>\n",
              "  </thead>\n",
              "  <tbody>\n",
              "    <tr>\n",
              "      <th>50688</th>\n",
              "      <td>32298</td>\n",
              "      <td>CA-2012-124891</td>\n",
              "      <td>2012-07-31</td>\n",
              "      <td>2012-07-31</td>\n",
              "      <td>Same Day</td>\n",
              "      <td>RH-19495</td>\n",
              "      <td>Rick Hansen</td>\n",
              "      <td>Consumer</td>\n",
              "      <td>New York City</td>\n",
              "      <td>New York</td>\n",
              "      <td>United States</td>\n",
              "      <td>10024.0</td>\n",
              "      <td>US</td>\n",
              "      <td>East</td>\n",
              "      <td>TEC-AC-10003033</td>\n",
              "      <td>Technology</td>\n",
              "      <td>Accessories</td>\n",
              "      <td>Plantronics CS510 - Over-the-Head monaural Wireless Headset System</td>\n",
              "      <td>2309.65</td>\n",
              "      <td>7</td>\n",
              "      <td>0.0</td>\n",
              "      <td>762.1845</td>\n",
              "      <td>933.57</td>\n",
              "      <td>Critical</td>\n",
              "      <td>329.95</td>\n",
              "      <td>2012</td>\n",
              "      <td>July</td>\n",
              "      <td>Tuesday</td>\n",
              "      <td>0 days</td>\n",
              "    </tr>\n",
              "  </tbody>\n",
              "</table>\n",
              "</div>"
            ],
            "text/plain": [
              "       Row ID        Order ID Order Date  Ship Date Ship Mode Customer ID  \\\n",
              "50688   32298  CA-2012-124891 2012-07-31 2012-07-31  Same Day    RH-19495   \n",
              "\n",
              "      Customer Name   Segment           City     State        Country  \\\n",
              "50688   Rick Hansen  Consumer  New York City  New York  United States   \n",
              "\n",
              "       Postal Code Market Region       Product ID    Category Sub-Category  \\\n",
              "50688      10024.0     US   East  TEC-AC-10003033  Technology  Accessories   \n",
              "\n",
              "                                                             Product Name  \\\n",
              "50688  Plantronics CS510 - Over-the-Head monaural Wireless Headset System   \n",
              "\n",
              "         Sales  Quantity  Discount    Profit  Shipping Cost Order Priority  \\\n",
              "50688  2309.65         7       0.0  762.1845         933.57       Critical   \n",
              "\n",
              "       Unit Price  Year Month      Day Order Delay  \n",
              "50688      329.95  2012  July  Tuesday      0 days  "
            ]
          },
          "metadata": {},
          "execution_count": 19
        }
      ]
    },
    {
      "cell_type": "markdown",
      "metadata": {
        "id": "ntTpnXAXTVQa"
      },
      "source": [
        "### Finding the Correlation Between Numerical Variables"
      ]
    },
    {
      "cell_type": "code",
      "metadata": {
        "colab": {
          "base_uri": "https://localhost:8080/",
          "height": 342
        },
        "id": "L86294XbTQUP",
        "outputId": "2bd7528f-10cb-473f-8572-1c81678e4a49"
      },
      "source": [
        "corrMatrix=numerical.corr()\n",
        "plt.figure(figsize=(12,5))\n",
        "sns.heatmap(data=corrMatrix,annot=True,fmt='.3g',linewidths=3, cmap = 'vlag') "
      ],
      "execution_count": 20,
      "outputs": [
        {
          "output_type": "execute_result",
          "data": {
            "text/plain": [
              "<matplotlib.axes._subplots.AxesSubplot at 0x7f4f47d3bb90>"
            ]
          },
          "metadata": {},
          "execution_count": 20
        },
        {
          "output_type": "display_data",
          "data": {
            "image/png": "[encoded data removed]",
            "text/plain": [
              "<Figure size 864x360 with 2 Axes>"
            ]
          },
          "metadata": {
            "needs_background": "light"
          }
        }
      ]
    },
    {
      "cell_type": "markdown",
      "metadata": {
        "id": "_7JR58gYTi1y"
      },
      "source": [
        "1. The correlation between discount and sales is -0.0867. This shows an inverse relationship between these two variables. As discount increases, sales turn to drop since part of the sales values would have to be reduced.\n",
        "\n",
        "2. The correlation between shipping cost and sales is 0.768. This shows a positive direct relationship. As sales increase, shipping cost also turn to increase because customers would have bought more and hence need to pay more.  \n",
        "\n",
        "3. The correlation between quantity and profit is 0.104. This shows a positive relationship between quantity and prfit. As more quantities are sold out, they will be more profit for the company.\n",
        "\n",
        "4. The correlation between shipping cost and profit is 0.354. This also shows a positive relationship between the two variables. More shipping cost implies more sales, which will also result into more profit. "
      ]
    },
    {
      "cell_type": "markdown",
      "metadata": {
        "id": "z66ygbWlNepV"
      },
      "source": [
        "### Descriptive Statistics on Market Sales and Profit"
      ]
    },
    {
      "cell_type": "code",
      "metadata": {
        "colab": {
          "base_uri": "https://localhost:8080/",
          "height": 351
        },
        "id": "77cxv6eQliGh",
        "outputId": "02a5e1c6-93ce-4a93-a226-21e93b7c6d8b"
      },
      "source": [
        "data[['Market', 'Sales', 'Profit']].groupby('Market').describe()"
      ],
      "execution_count": 21,
      "outputs": [
        {
          "output_type": "execute_result",
          "data": {
            "text/html": [
              "<div>\n",
              "<style scoped>\n",
              "    .dataframe tbody tr th:only-of-type {\n",
              "        vertical-align: middle;\n",
              "    }\n",
              "\n",
              "    .dataframe tbody tr th {\n",
              "        vertical-align: top;\n",
              "    }\n",
              "\n",
              "    .dataframe thead tr th {\n",
              "        text-align: left;\n",
              "    }\n",
              "\n",
              "    .dataframe thead tr:last-of-type th {\n",
              "        text-align: right;\n",
              "    }\n",
              "</style>\n",
              "<table border=\"1\" class=\"dataframe\">\n",
              "  <thead>\n",
              "    <tr>\n",
              "      <th></th>\n",
              "      <th colspan=\"8\" halign=\"left\">Sales</th>\n",
              "      <th colspan=\"8\" halign=\"left\">Profit</th>\n",
              "    </tr>\n",
              "    <tr>\n",
              "      <th></th>\n",
              "      <th>count</th>\n",
              "      <th>mean</th>\n",
              "      <th>std</th>\n",
              "      <th>min</th>\n",
              "      <th>25%</th>\n",
              "      <th>50%</th>\n",
              "      <th>75%</th>\n",
              "      <th>max</th>\n",
              "      <th>count</th>\n",
              "      <th>mean</th>\n",
              "      <th>std</th>\n",
              "      <th>min</th>\n",
              "      <th>25%</th>\n",
              "      <th>50%</th>\n",
              "      <th>75%</th>\n",
              "      <th>max</th>\n",
              "    </tr>\n",
              "    <tr>\n",
              "      <th>Market</th>\n",
              "      <th></th>\n",
              "      <th></th>\n",
              "      <th></th>\n",
              "      <th></th>\n",
              "      <th></th>\n",
              "      <th></th>\n",
              "      <th></th>\n",
              "      <th></th>\n",
              "      <th></th>\n",
              "      <th></th>\n",
              "      <th></th>\n",
              "      <th></th>\n",
              "      <th></th>\n",
              "      <th></th>\n",
              "      <th></th>\n",
              "      <th></th>\n",
              "    </tr>\n",
              "  </thead>\n",
              "  <tbody>\n",
              "    <tr>\n",
              "      <th>APAC</th>\n",
              "      <td>11002.0</td>\n",
              "      <td>325.917481</td>\n",
              "      <td>551.633646</td>\n",
              "      <td>2.880</td>\n",
              "      <td>47.083875</td>\n",
              "      <td>122.697</td>\n",
              "      <td>347.869425</td>\n",
              "      <td>6998.64</td>\n",
              "      <td>11002.0</td>\n",
              "      <td>39.629163</td>\n",
              "      <td>170.519576</td>\n",
              "      <td>-3009.435</td>\n",
              "      <td>-2.99850</td>\n",
              "      <td>10.88625</td>\n",
              "      <td>48.360</td>\n",
              "      <td>2939.310</td>\n",
              "    </tr>\n",
              "    <tr>\n",
              "      <th>Africa</th>\n",
              "      <td>4587.0</td>\n",
              "      <td>170.868370</td>\n",
              "      <td>359.395167</td>\n",
              "      <td>1.161</td>\n",
              "      <td>20.425500</td>\n",
              "      <td>52.440</td>\n",
              "      <td>162.540000</td>\n",
              "      <td>5301.24</td>\n",
              "      <td>4587.0</td>\n",
              "      <td>19.374674</td>\n",
              "      <td>146.530457</td>\n",
              "      <td>-1576.824</td>\n",
              "      <td>0.39000</td>\n",
              "      <td>7.56000</td>\n",
              "      <td>28.305</td>\n",
              "      <td>2597.280</td>\n",
              "    </tr>\n",
              "    <tr>\n",
              "      <th>Canada</th>\n",
              "      <td>384.0</td>\n",
              "      <td>174.292109</td>\n",
              "      <td>332.848799</td>\n",
              "      <td>3.990</td>\n",
              "      <td>26.302500</td>\n",
              "      <td>60.030</td>\n",
              "      <td>170.820000</td>\n",
              "      <td>3863.88</td>\n",
              "      <td>384.0</td>\n",
              "      <td>46.399453</td>\n",
              "      <td>115.439881</td>\n",
              "      <td>0.000</td>\n",
              "      <td>4.53000</td>\n",
              "      <td>12.34500</td>\n",
              "      <td>33.045</td>\n",
              "      <td>1159.020</td>\n",
              "    </tr>\n",
              "    <tr>\n",
              "      <th>EMEA</th>\n",
              "      <td>5029.0</td>\n",
              "      <td>160.302508</td>\n",
              "      <td>327.192343</td>\n",
              "      <td>1.440</td>\n",
              "      <td>19.608000</td>\n",
              "      <td>51.780</td>\n",
              "      <td>151.932000</td>\n",
              "      <td>5211.12</td>\n",
              "      <td>5029.0</td>\n",
              "      <td>8.728966</td>\n",
              "      <td>154.196926</td>\n",
              "      <td>-4088.376</td>\n",
              "      <td>-7.58400</td>\n",
              "      <td>5.04000</td>\n",
              "      <td>24.840</td>\n",
              "      <td>1622.880</td>\n",
              "    </tr>\n",
              "    <tr>\n",
              "      <th>EU</th>\n",
              "      <td>10000.0</td>\n",
              "      <td>293.808906</td>\n",
              "      <td>486.055635</td>\n",
              "      <td>2.955</td>\n",
              "      <td>49.462500</td>\n",
              "      <td>119.355</td>\n",
              "      <td>320.708625</td>\n",
              "      <td>7958.58</td>\n",
              "      <td>10000.0</td>\n",
              "      <td>37.282974</td>\n",
              "      <td>178.100384</td>\n",
              "      <td>-3059.820</td>\n",
              "      <td>1.32000</td>\n",
              "      <td>14.22000</td>\n",
              "      <td>48.510</td>\n",
              "      <td>3979.080</td>\n",
              "    </tr>\n",
              "    <tr>\n",
              "      <th>LATAM</th>\n",
              "      <td>10294.0</td>\n",
              "      <td>210.278334</td>\n",
              "      <td>349.073157</td>\n",
              "      <td>1.566</td>\n",
              "      <td>32.880000</td>\n",
              "      <td>80.356</td>\n",
              "      <td>227.790000</td>\n",
              "      <td>3474.08</td>\n",
              "      <td>10294.0</td>\n",
              "      <td>21.531328</td>\n",
              "      <td>118.795371</td>\n",
              "      <td>-1806.240</td>\n",
              "      <td>-0.76800</td>\n",
              "      <td>8.00000</td>\n",
              "      <td>32.640</td>\n",
              "      <td>1313.280</td>\n",
              "    </tr>\n",
              "    <tr>\n",
              "      <th>US</th>\n",
              "      <td>9994.0</td>\n",
              "      <td>229.858001</td>\n",
              "      <td>623.245101</td>\n",
              "      <td>0.444</td>\n",
              "      <td>17.280000</td>\n",
              "      <td>54.490</td>\n",
              "      <td>209.940000</td>\n",
              "      <td>22638.48</td>\n",
              "      <td>9994.0</td>\n",
              "      <td>28.656896</td>\n",
              "      <td>234.260108</td>\n",
              "      <td>-6599.978</td>\n",
              "      <td>1.72875</td>\n",
              "      <td>8.66650</td>\n",
              "      <td>29.364</td>\n",
              "      <td>8399.976</td>\n",
              "    </tr>\n",
              "  </tbody>\n",
              "</table>\n",
              "</div>"
            ],
            "text/plain": [
              "          Sales                                                     \\\n",
              "          count        mean         std    min        25%      50%   \n",
              "Market                                                               \n",
              "APAC    11002.0  325.917481  551.633646  2.880  47.083875  122.697   \n",
              "Africa   4587.0  170.868370  359.395167  1.161  20.425500   52.440   \n",
              "Canada    384.0  174.292109  332.848799  3.990  26.302500   60.030   \n",
              "EMEA     5029.0  160.302508  327.192343  1.440  19.608000   51.780   \n",
              "EU      10000.0  293.808906  486.055635  2.955  49.462500  119.355   \n",
              "LATAM   10294.0  210.278334  349.073157  1.566  32.880000   80.356   \n",
              "US       9994.0  229.858001  623.245101  0.444  17.280000   54.490   \n",
              "\n",
              "                               Profit                                   \\\n",
              "               75%       max    count       mean         std       min   \n",
              "Market                                                                   \n",
              "APAC    347.869425   6998.64  11002.0  39.629163  170.519576 -3009.435   \n",
              "Africa  162.540000   5301.24   4587.0  19.374674  146.530457 -1576.824   \n",
              "Canada  170.820000   3863.88    384.0  46.399453  115.439881     0.000   \n",
              "EMEA    151.932000   5211.12   5029.0   8.728966  154.196926 -4088.376   \n",
              "EU      320.708625   7958.58  10000.0  37.282974  178.100384 -3059.820   \n",
              "LATAM   227.790000   3474.08  10294.0  21.531328  118.795371 -1806.240   \n",
              "US      209.940000  22638.48   9994.0  28.656896  234.260108 -6599.978   \n",
              "\n",
              "                                             \n",
              "            25%       50%     75%       max  \n",
              "Market                                       \n",
              "APAC   -2.99850  10.88625  48.360  2939.310  \n",
              "Africa  0.39000   7.56000  28.305  2597.280  \n",
              "Canada  4.53000  12.34500  33.045  1159.020  \n",
              "EMEA   -7.58400   5.04000  24.840  1622.880  \n",
              "EU      1.32000  14.22000  48.510  3979.080  \n",
              "LATAM  -0.76800   8.00000  32.640  1313.280  \n",
              "US      1.72875   8.66650  29.364  8399.976  "
            ]
          },
          "metadata": {},
          "execution_count": 21
        }
      ]
    },
    {
      "cell_type": "markdown",
      "metadata": {
        "id": "wdMNBpxLOOeI"
      },
      "source": [
        "#### There are 7 markets - APAC, Africa, Canada, EMEA, EU, LATAM and US\n",
        "\n",
        "1. APAC made the **overall highest number of sales** (11,002) and **average sales** (325.92)\n",
        "2. Canada made the **overall best average profit** of 39.63 but **lowest sales count** of 384\n",
        "3. EMEA made the **lowest average sales** of 160 as well as **lowest profit** of 8.73"
      ]
    },
    {
      "cell_type": "markdown",
      "metadata": {
        "id": "Nifzz2FiXY6V"
      },
      "source": [
        "#### Sales and Profit per Market"
      ]
    },
    {
      "cell_type": "code",
      "metadata": {
        "colab": {
          "base_uri": "https://localhost:8080/"
        },
        "id": "LJMnj2bQPdxf",
        "outputId": "994156a5-58bc-49d0-ef80-701e2566f397"
      },
      "source": [
        "markets = data['Market'].unique()\n",
        "\n",
        "print('Market','\\t\\t','Total Sales', '\\t\\t','Total Profit \\n')\n",
        "\n",
        "for market in markets:\n",
        "  total_sales = data[data['Market'] == market]['Sales'].sum().round(2)\n",
        "  total_profit = data[data['Market'] == market]['Profit'].sum().round(2)\n",
        "  print(market,'\\t\\t', total_sales, '\\t\\t', total_profit)"
      ],
      "execution_count": 22,
      "outputs": [
        {
          "output_type": "stream",
          "name": "stdout",
          "text": [
            "Market \t\t Total Sales \t\t Total Profit \n",
            "\n",
            "Africa \t\t 783773.21 \t\t 88871.63\n",
            "APAC \t\t 3585744.13 \t\t 436000.05\n",
            "EMEA \t\t 806161.31 \t\t 43897.97\n",
            "EU \t\t 2938089.06 \t\t 372829.74\n",
            "US \t\t 2297200.86 \t\t 286397.02\n",
            "LATAM \t\t 2164605.17 \t\t 221643.49\n",
            "Canada \t\t 66928.17 \t\t 17817.39\n"
          ]
        }
      ]
    },
    {
      "cell_type": "markdown",
      "metadata": {
        "id": "ghug48lBlPXr"
      },
      "source": [
        "Sales By Market"
      ]
    },
    {
      "cell_type": "code",
      "metadata": {
        "colab": {
          "base_uri": "https://localhost:8080/",
          "height": 411
        },
        "id": "mL4QYIMOSjCi",
        "outputId": "0ca24412-25e0-4335-f29d-a47c556e06db"
      },
      "source": [
        "#bar chart of the different market sales\n",
        "data.groupby('Market')['Sales'].mean().sort_values().\\\n",
        "plot.barh(color='gray')"
      ],
      "execution_count": 81,
      "outputs": [
        {
          "output_type": "execute_result",
          "data": {
            "text/plain": [
              "<matplotlib.axes._subplots.AxesSubplot at 0x7f4f3cddfb90>"
            ]
          },
          "metadata": {},
          "execution_count": 81
        },
        {
          "output_type": "display_data",
          "data": {
            "image/png": "[encoded data removed]",
            "text/plain": [
              "<Figure size 720x432 with 1 Axes>"
            ]
          },
          "metadata": {}
        }
      ]
    },
    {
      "cell_type": "markdown",
      "metadata": {
        "id": "F8kU2XcqELSH"
      },
      "source": [
        "On average, APAC market brings in more sales to Superstore than all other markets."
      ]
    },
    {
      "cell_type": "code",
      "metadata": {
        "colab": {
          "base_uri": "https://localhost:8080/",
          "height": 411
        },
        "id": "MJYWp0h4DtvW",
        "outputId": "0f1ef960-d072-4029-e843-8f8e57167d9d"
      },
      "source": [
        "#bar chart of the different market sales\n",
        "data.groupby('Market')['Profit'].mean().sort_values().\\\n",
        "plot.barh(color='gray')"
      ],
      "execution_count": 80,
      "outputs": [
        {
          "output_type": "execute_result",
          "data": {
            "text/plain": [
              "<matplotlib.axes._subplots.AxesSubplot at 0x7f4f3dac00d0>"
            ]
          },
          "metadata": {},
          "execution_count": 80
        },
        {
          "output_type": "display_data",
          "data": {
            "image/png": "[encoded data removed]",
            "text/plain": [
              "<Figure size 720x432 with 1 Axes>"
            ]
          },
          "metadata": {}
        }
      ]
    },
    {
      "cell_type": "markdown",
      "metadata": {
        "id": "DHRRMImFEjVR"
      },
      "source": [
        "However, in terms of profit, the Canada market brings in more profit compared to the other markets. "
      ]
    },
    {
      "cell_type": "markdown",
      "metadata": {
        "id": "bRwQ5Sn6PeKv"
      },
      "source": [
        "\n",
        "\n",
        "### Descriptive Statistics of Country Sales Data"
      ]
    },
    {
      "cell_type": "code",
      "metadata": {
        "colab": {
          "base_uri": "https://localhost:8080/",
          "height": 506
        },
        "id": "0rc7IyhWlvsv",
        "outputId": "94037dcb-6a13-469b-a2a2-afb3fac22dbf"
      },
      "source": [
        "data[['Country', 'Sales', 'Profit']].groupby('Country').describe()"
      ],
      "execution_count": 24,
      "outputs": [
        {
          "output_type": "execute_result",
          "data": {
            "text/html": [
              "<div>\n",
              "<style scoped>\n",
              "    .dataframe tbody tr th:only-of-type {\n",
              "        vertical-align: middle;\n",
              "    }\n",
              "\n",
              "    .dataframe tbody tr th {\n",
              "        vertical-align: top;\n",
              "    }\n",
              "\n",
              "    .dataframe thead tr th {\n",
              "        text-align: left;\n",
              "    }\n",
              "\n",
              "    .dataframe thead tr:last-of-type th {\n",
              "        text-align: right;\n",
              "    }\n",
              "</style>\n",
              "<table border=\"1\" class=\"dataframe\">\n",
              "  <thead>\n",
              "    <tr>\n",
              "      <th></th>\n",
              "      <th colspan=\"8\" halign=\"left\">Sales</th>\n",
              "      <th colspan=\"8\" halign=\"left\">Profit</th>\n",
              "    </tr>\n",
              "    <tr>\n",
              "      <th></th>\n",
              "      <th>count</th>\n",
              "      <th>mean</th>\n",
              "      <th>std</th>\n",
              "      <th>min</th>\n",
              "      <th>25%</th>\n",
              "      <th>50%</th>\n",
              "      <th>75%</th>\n",
              "      <th>max</th>\n",
              "      <th>count</th>\n",
              "      <th>mean</th>\n",
              "      <th>std</th>\n",
              "      <th>min</th>\n",
              "      <th>25%</th>\n",
              "      <th>50%</th>\n",
              "      <th>75%</th>\n",
              "      <th>max</th>\n",
              "    </tr>\n",
              "    <tr>\n",
              "      <th>Country</th>\n",
              "      <th></th>\n",
              "      <th></th>\n",
              "      <th></th>\n",
              "      <th></th>\n",
              "      <th></th>\n",
              "      <th></th>\n",
              "      <th></th>\n",
              "      <th></th>\n",
              "      <th></th>\n",
              "      <th></th>\n",
              "      <th></th>\n",
              "      <th></th>\n",
              "      <th></th>\n",
              "      <th></th>\n",
              "      <th></th>\n",
              "      <th></th>\n",
              "    </tr>\n",
              "  </thead>\n",
              "  <tbody>\n",
              "    <tr>\n",
              "      <th>Afghanistan</th>\n",
              "      <td>55.0</td>\n",
              "      <td>394.060364</td>\n",
              "      <td>714.459065</td>\n",
              "      <td>13.260</td>\n",
              "      <td>79.0650</td>\n",
              "      <td>155.8800</td>\n",
              "      <td>379.63500</td>\n",
              "      <td>4626.150</td>\n",
              "      <td>55.0</td>\n",
              "      <td>99.278182</td>\n",
              "      <td>182.794551</td>\n",
              "      <td>0.7200</td>\n",
              "      <td>8.1600</td>\n",
              "      <td>24.3600</td>\n",
              "      <td>73.6650</td>\n",
              "      <td>848.7000</td>\n",
              "    </tr>\n",
              "    <tr>\n",
              "      <th>Albania</th>\n",
              "      <td>16.0</td>\n",
              "      <td>243.007500</td>\n",
              "      <td>401.901971</td>\n",
              "      <td>6.450</td>\n",
              "      <td>25.8600</td>\n",
              "      <td>95.4900</td>\n",
              "      <td>255.00750</td>\n",
              "      <td>1619.100</td>\n",
              "      <td>16.0</td>\n",
              "      <td>44.332500</td>\n",
              "      <td>75.716710</td>\n",
              "      <td>0.0000</td>\n",
              "      <td>1.9350</td>\n",
              "      <td>15.3450</td>\n",
              "      <td>40.8675</td>\n",
              "      <td>258.9000</td>\n",
              "    </tr>\n",
              "    <tr>\n",
              "      <th>Algeria</th>\n",
              "      <td>196.0</td>\n",
              "      <td>184.140765</td>\n",
              "      <td>300.701543</td>\n",
              "      <td>4.800</td>\n",
              "      <td>26.5950</td>\n",
              "      <td>59.8800</td>\n",
              "      <td>197.25750</td>\n",
              "      <td>1908.720</td>\n",
              "      <td>196.0</td>\n",
              "      <td>46.461735</td>\n",
              "      <td>91.054675</td>\n",
              "      <td>0.0000</td>\n",
              "      <td>5.9850</td>\n",
              "      <td>11.4300</td>\n",
              "      <td>39.7650</td>\n",
              "      <td>560.5200</td>\n",
              "    </tr>\n",
              "    <tr>\n",
              "      <th>Angola</th>\n",
              "      <td>122.0</td>\n",
              "      <td>209.459016</td>\n",
              "      <td>371.583794</td>\n",
              "      <td>4.800</td>\n",
              "      <td>30.5475</td>\n",
              "      <td>56.2500</td>\n",
              "      <td>207.09750</td>\n",
              "      <td>2478.600</td>\n",
              "      <td>122.0</td>\n",
              "      <td>53.237459</td>\n",
              "      <td>99.269180</td>\n",
              "      <td>0.0000</td>\n",
              "      <td>5.9175</td>\n",
              "      <td>15.9000</td>\n",
              "      <td>49.5450</td>\n",
              "      <td>592.2000</td>\n",
              "    </tr>\n",
              "    <tr>\n",
              "      <th>Argentina</th>\n",
              "      <td>390.0</td>\n",
              "      <td>147.466111</td>\n",
              "      <td>240.245062</td>\n",
              "      <td>1.566</td>\n",
              "      <td>21.8790</td>\n",
              "      <td>63.6240</td>\n",
              "      <td>173.45700</td>\n",
              "      <td>2300.616</td>\n",
              "      <td>390.0</td>\n",
              "      <td>-47.932812</td>\n",
              "      <td>117.518207</td>\n",
              "      <td>-890.1780</td>\n",
              "      <td>-41.3230</td>\n",
              "      <td>-11.9040</td>\n",
              "      <td>-2.0750</td>\n",
              "      <td>68.2360</td>\n",
              "    </tr>\n",
              "    <tr>\n",
              "      <th>...</th>\n",
              "      <td>...</td>\n",
              "      <td>...</td>\n",
              "      <td>...</td>\n",
              "      <td>...</td>\n",
              "      <td>...</td>\n",
              "      <td>...</td>\n",
              "      <td>...</td>\n",
              "      <td>...</td>\n",
              "      <td>...</td>\n",
              "      <td>...</td>\n",
              "      <td>...</td>\n",
              "      <td>...</td>\n",
              "      <td>...</td>\n",
              "      <td>...</td>\n",
              "      <td>...</td>\n",
              "      <td>...</td>\n",
              "    </tr>\n",
              "    <tr>\n",
              "      <th>Venezuela</th>\n",
              "      <td>194.0</td>\n",
              "      <td>137.050668</td>\n",
              "      <td>187.523508</td>\n",
              "      <td>1.956</td>\n",
              "      <td>30.3120</td>\n",
              "      <td>60.0660</td>\n",
              "      <td>160.79400</td>\n",
              "      <td>1054.020</td>\n",
              "      <td>194.0</td>\n",
              "      <td>-57.849023</td>\n",
              "      <td>141.444524</td>\n",
              "      <td>-890.1780</td>\n",
              "      <td>-37.5150</td>\n",
              "      <td>-9.9300</td>\n",
              "      <td>-0.8040</td>\n",
              "      <td>32.6600</td>\n",
              "    </tr>\n",
              "    <tr>\n",
              "      <th>Vietnam</th>\n",
              "      <td>265.0</td>\n",
              "      <td>248.302639</td>\n",
              "      <td>369.558869</td>\n",
              "      <td>7.968</td>\n",
              "      <td>50.7960</td>\n",
              "      <td>121.3128</td>\n",
              "      <td>286.02630</td>\n",
              "      <td>2672.517</td>\n",
              "      <td>265.0</td>\n",
              "      <td>-7.057474</td>\n",
              "      <td>130.927121</td>\n",
              "      <td>-692.9388</td>\n",
              "      <td>-10.3851</td>\n",
              "      <td>3.3924</td>\n",
              "      <td>20.1894</td>\n",
              "      <td>836.1225</td>\n",
              "    </tr>\n",
              "    <tr>\n",
              "      <th>Yemen</th>\n",
              "      <td>30.0</td>\n",
              "      <td>82.190400</td>\n",
              "      <td>140.229052</td>\n",
              "      <td>3.438</td>\n",
              "      <td>14.6160</td>\n",
              "      <td>27.7380</td>\n",
              "      <td>72.62325</td>\n",
              "      <td>645.948</td>\n",
              "      <td>30.0</td>\n",
              "      <td>-123.548600</td>\n",
              "      <td>182.539824</td>\n",
              "      <td>-727.7520</td>\n",
              "      <td>-119.9010</td>\n",
              "      <td>-52.6275</td>\n",
              "      <td>-21.5535</td>\n",
              "      <td>-5.0520</td>\n",
              "    </tr>\n",
              "    <tr>\n",
              "      <th>Zambia</th>\n",
              "      <td>102.0</td>\n",
              "      <td>255.250000</td>\n",
              "      <td>403.181687</td>\n",
              "      <td>5.910</td>\n",
              "      <td>42.5250</td>\n",
              "      <td>125.4300</td>\n",
              "      <td>285.45000</td>\n",
              "      <td>2180.340</td>\n",
              "      <td>102.0</td>\n",
              "      <td>68.644412</td>\n",
              "      <td>143.950669</td>\n",
              "      <td>0.0000</td>\n",
              "      <td>4.6275</td>\n",
              "      <td>25.3050</td>\n",
              "      <td>62.8725</td>\n",
              "      <td>959.2200</td>\n",
              "    </tr>\n",
              "    <tr>\n",
              "      <th>Zimbabwe</th>\n",
              "      <td>80.0</td>\n",
              "      <td>47.063813</td>\n",
              "      <td>90.088755</td>\n",
              "      <td>1.161</td>\n",
              "      <td>7.0875</td>\n",
              "      <td>16.4745</td>\n",
              "      <td>56.36700</td>\n",
              "      <td>627.228</td>\n",
              "      <td>80.0</td>\n",
              "      <td>-67.859812</td>\n",
              "      <td>135.871779</td>\n",
              "      <td>-1087.2120</td>\n",
              "      <td>-74.6130</td>\n",
              "      <td>-27.8670</td>\n",
              "      <td>-9.3975</td>\n",
              "      <td>-0.9210</td>\n",
              "    </tr>\n",
              "  </tbody>\n",
              "</table>\n",
              "<p>147 rows × 16 columns</p>\n",
              "</div>"
            ],
            "text/plain": [
              "             Sales                                                     \\\n",
              "             count        mean         std     min      25%       50%   \n",
              "Country                                                                 \n",
              "Afghanistan   55.0  394.060364  714.459065  13.260  79.0650  155.8800   \n",
              "Albania       16.0  243.007500  401.901971   6.450  25.8600   95.4900   \n",
              "Algeria      196.0  184.140765  300.701543   4.800  26.5950   59.8800   \n",
              "Angola       122.0  209.459016  371.583794   4.800  30.5475   56.2500   \n",
              "Argentina    390.0  147.466111  240.245062   1.566  21.8790   63.6240   \n",
              "...            ...         ...         ...     ...      ...       ...   \n",
              "Venezuela    194.0  137.050668  187.523508   1.956  30.3120   60.0660   \n",
              "Vietnam      265.0  248.302639  369.558869   7.968  50.7960  121.3128   \n",
              "Yemen         30.0   82.190400  140.229052   3.438  14.6160   27.7380   \n",
              "Zambia       102.0  255.250000  403.181687   5.910  42.5250  125.4300   \n",
              "Zimbabwe      80.0   47.063813   90.088755   1.161   7.0875   16.4745   \n",
              "\n",
              "                                 Profit                                     \\\n",
              "                   75%       max  count        mean         std        min   \n",
              "Country                                                                      \n",
              "Afghanistan  379.63500  4626.150   55.0   99.278182  182.794551     0.7200   \n",
              "Albania      255.00750  1619.100   16.0   44.332500   75.716710     0.0000   \n",
              "Algeria      197.25750  1908.720  196.0   46.461735   91.054675     0.0000   \n",
              "Angola       207.09750  2478.600  122.0   53.237459   99.269180     0.0000   \n",
              "Argentina    173.45700  2300.616  390.0  -47.932812  117.518207  -890.1780   \n",
              "...                ...       ...    ...         ...         ...        ...   \n",
              "Venezuela    160.79400  1054.020  194.0  -57.849023  141.444524  -890.1780   \n",
              "Vietnam      286.02630  2672.517  265.0   -7.057474  130.927121  -692.9388   \n",
              "Yemen         72.62325   645.948   30.0 -123.548600  182.539824  -727.7520   \n",
              "Zambia       285.45000  2180.340  102.0   68.644412  143.950669     0.0000   \n",
              "Zimbabwe      56.36700   627.228   80.0  -67.859812  135.871779 -1087.2120   \n",
              "\n",
              "                                                   \n",
              "                  25%      50%      75%       max  \n",
              "Country                                            \n",
              "Afghanistan    8.1600  24.3600  73.6650  848.7000  \n",
              "Albania        1.9350  15.3450  40.8675  258.9000  \n",
              "Algeria        5.9850  11.4300  39.7650  560.5200  \n",
              "Angola         5.9175  15.9000  49.5450  592.2000  \n",
              "Argentina    -41.3230 -11.9040  -2.0750   68.2360  \n",
              "...               ...      ...      ...       ...  \n",
              "Venezuela    -37.5150  -9.9300  -0.8040   32.6600  \n",
              "Vietnam      -10.3851   3.3924  20.1894  836.1225  \n",
              "Yemen       -119.9010 -52.6275 -21.5535   -5.0520  \n",
              "Zambia         4.6275  25.3050  62.8725  959.2200  \n",
              "Zimbabwe     -74.6130 -27.8670  -9.3975   -0.9210  \n",
              "\n",
              "[147 rows x 16 columns]"
            ]
          },
          "metadata": {},
          "execution_count": 24
        }
      ]
    },
    {
      "cell_type": "code",
      "metadata": {
        "colab": {
          "base_uri": "https://localhost:8080/",
          "height": 455
        },
        "id": "4FPXbLNpSDfn",
        "outputId": "258dab66-9e8f-47b4-eb82-d32f2a2629e6"
      },
      "source": [
        "data[['Market', 'Country','Sales', 'Profit', 'Shipping Cost', 'Unit Price']].groupby(['Market', 'Country']).mean()"
      ],
      "execution_count": 25,
      "outputs": [
        {
          "output_type": "execute_result",
          "data": {
            "text/html": [
              "<div>\n",
              "<style scoped>\n",
              "    .dataframe tbody tr th:only-of-type {\n",
              "        vertical-align: middle;\n",
              "    }\n",
              "\n",
              "    .dataframe tbody tr th {\n",
              "        vertical-align: top;\n",
              "    }\n",
              "\n",
              "    .dataframe thead th {\n",
              "        text-align: right;\n",
              "    }\n",
              "</style>\n",
              "<table border=\"1\" class=\"dataframe\">\n",
              "  <thead>\n",
              "    <tr style=\"text-align: right;\">\n",
              "      <th></th>\n",
              "      <th></th>\n",
              "      <th>Sales</th>\n",
              "      <th>Profit</th>\n",
              "      <th>Shipping Cost</th>\n",
              "      <th>Unit Price</th>\n",
              "    </tr>\n",
              "    <tr>\n",
              "      <th>Market</th>\n",
              "      <th>Country</th>\n",
              "      <th></th>\n",
              "      <th></th>\n",
              "      <th></th>\n",
              "      <th></th>\n",
              "    </tr>\n",
              "  </thead>\n",
              "  <tbody>\n",
              "    <tr>\n",
              "      <th rowspan=\"5\" valign=\"top\">APAC</th>\n",
              "      <th>Afghanistan</th>\n",
              "      <td>394.060364</td>\n",
              "      <td>99.278182</td>\n",
              "      <td>41.822364</td>\n",
              "      <td>96.915818</td>\n",
              "    </tr>\n",
              "    <tr>\n",
              "      <th>Australia</th>\n",
              "      <td>326.131778</td>\n",
              "      <td>36.625814</td>\n",
              "      <td>35.375051</td>\n",
              "      <td>84.487646</td>\n",
              "    </tr>\n",
              "    <tr>\n",
              "      <th>Bangladesh</th>\n",
              "      <td>480.101043</td>\n",
              "      <td>119.207914</td>\n",
              "      <td>46.402883</td>\n",
              "      <td>112.216380</td>\n",
              "    </tr>\n",
              "    <tr>\n",
              "      <th>Cambodia</th>\n",
              "      <td>388.356000</td>\n",
              "      <td>99.478667</td>\n",
              "      <td>40.483111</td>\n",
              "      <td>113.792000</td>\n",
              "    </tr>\n",
              "    <tr>\n",
              "      <th>China</th>\n",
              "      <td>372.639375</td>\n",
              "      <td>80.150577</td>\n",
              "      <td>41.998415</td>\n",
              "      <td>99.006120</td>\n",
              "    </tr>\n",
              "    <tr>\n",
              "      <th>...</th>\n",
              "      <th>...</th>\n",
              "      <td>...</td>\n",
              "      <td>...</td>\n",
              "      <td>...</td>\n",
              "      <td>...</td>\n",
              "    </tr>\n",
              "    <tr>\n",
              "      <th rowspan=\"4\" valign=\"top\">LATAM</th>\n",
              "      <th>Peru</th>\n",
              "      <td>110.081381</td>\n",
              "      <td>-33.999236</td>\n",
              "      <td>12.210679</td>\n",
              "      <td>33.096666</td>\n",
              "    </tr>\n",
              "    <tr>\n",
              "      <th>Trinidad and Tobago</th>\n",
              "      <td>229.372149</td>\n",
              "      <td>76.682816</td>\n",
              "      <td>21.812000</td>\n",
              "      <td>52.796835</td>\n",
              "    </tr>\n",
              "    <tr>\n",
              "      <th>Uruguay</th>\n",
              "      <td>404.689333</td>\n",
              "      <td>70.389333</td>\n",
              "      <td>45.229583</td>\n",
              "      <td>90.128167</td>\n",
              "    </tr>\n",
              "    <tr>\n",
              "      <th>Venezuela</th>\n",
              "      <td>137.050668</td>\n",
              "      <td>-57.849023</td>\n",
              "      <td>14.484845</td>\n",
              "      <td>39.116871</td>\n",
              "    </tr>\n",
              "    <tr>\n",
              "      <th>US</th>\n",
              "      <th>United States</th>\n",
              "      <td>229.858001</td>\n",
              "      <td>28.656896</td>\n",
              "      <td>23.831678</td>\n",
              "      <td>60.919569</td>\n",
              "    </tr>\n",
              "  </tbody>\n",
              "</table>\n",
              "<p>149 rows × 4 columns</p>\n",
              "</div>"
            ],
            "text/plain": [
              "                                 Sales      Profit  Shipping Cost  Unit Price\n",
              "Market Country                                                               \n",
              "APAC   Afghanistan          394.060364   99.278182      41.822364   96.915818\n",
              "       Australia            326.131778   36.625814      35.375051   84.487646\n",
              "       Bangladesh           480.101043  119.207914      46.402883  112.216380\n",
              "       Cambodia             388.356000   99.478667      40.483111  113.792000\n",
              "       China                372.639375   80.150577      41.998415   99.006120\n",
              "...                                ...         ...            ...         ...\n",
              "LATAM  Peru                 110.081381  -33.999236      12.210679   33.096666\n",
              "       Trinidad and Tobago  229.372149   76.682816      21.812000   52.796835\n",
              "       Uruguay              404.689333   70.389333      45.229583   90.128167\n",
              "       Venezuela            137.050668  -57.849023      14.484845   39.116871\n",
              "US     United States        229.858001   28.656896      23.831678   60.919569\n",
              "\n",
              "[149 rows x 4 columns]"
            ]
          },
          "metadata": {},
          "execution_count": 25
        }
      ]
    },
    {
      "cell_type": "code",
      "metadata": {
        "colab": {
          "base_uri": "https://localhost:8080/"
        },
        "id": "uV94Zap_RKsJ",
        "outputId": "0da13e74-1b9b-4410-f631-a664d32f4754"
      },
      "source": [
        "data[['Market', 'Country']].value_counts()"
      ],
      "execution_count": 26,
      "outputs": [
        {
          "output_type": "execute_result",
          "data": {
            "text/plain": [
              "Market  Country      \n",
              "US      United States    9994\n",
              "APAC    Australia        2837\n",
              "EU      France           2827\n",
              "LATAM   Mexico           2644\n",
              "EU      Germany          2065\n",
              "                         ... \n",
              "Africa  Burundi             2\n",
              "        Chad                2\n",
              "        Swaziland           2\n",
              "        Eritrea             2\n",
              "APAC    Mongolia            1\n",
              "Length: 149, dtype: int64"
            ]
          },
          "metadata": {},
          "execution_count": 26
        }
      ]
    },
    {
      "cell_type": "code",
      "metadata": {
        "colab": {
          "base_uri": "https://localhost:8080/",
          "height": 174
        },
        "id": "OvQaZs_HPnsj",
        "outputId": "d34ba630-98ac-4cef-8453-0497bb370764"
      },
      "source": [
        "data[['Country', 'City']].describe()"
      ],
      "execution_count": 27,
      "outputs": [
        {
          "output_type": "execute_result",
          "data": {
            "text/html": [
              "<div>\n",
              "<style scoped>\n",
              "    .dataframe tbody tr th:only-of-type {\n",
              "        vertical-align: middle;\n",
              "    }\n",
              "\n",
              "    .dataframe tbody tr th {\n",
              "        vertical-align: top;\n",
              "    }\n",
              "\n",
              "    .dataframe thead th {\n",
              "        text-align: right;\n",
              "    }\n",
              "</style>\n",
              "<table border=\"1\" class=\"dataframe\">\n",
              "  <thead>\n",
              "    <tr style=\"text-align: right;\">\n",
              "      <th></th>\n",
              "      <th>Country</th>\n",
              "      <th>City</th>\n",
              "    </tr>\n",
              "  </thead>\n",
              "  <tbody>\n",
              "    <tr>\n",
              "      <th>count</th>\n",
              "      <td>51290</td>\n",
              "      <td>51290</td>\n",
              "    </tr>\n",
              "    <tr>\n",
              "      <th>unique</th>\n",
              "      <td>147</td>\n",
              "      <td>3636</td>\n",
              "    </tr>\n",
              "    <tr>\n",
              "      <th>top</th>\n",
              "      <td>United States</td>\n",
              "      <td>New York City</td>\n",
              "    </tr>\n",
              "    <tr>\n",
              "      <th>freq</th>\n",
              "      <td>9994</td>\n",
              "      <td>915</td>\n",
              "    </tr>\n",
              "  </tbody>\n",
              "</table>\n",
              "</div>"
            ],
            "text/plain": [
              "              Country           City\n",
              "count           51290          51290\n",
              "unique            147           3636\n",
              "top     United States  New York City\n",
              "freq             9994            915"
            ]
          },
          "metadata": {},
          "execution_count": 27
        }
      ]
    },
    {
      "cell_type": "markdown",
      "metadata": {
        "id": "ZPf3P7B8PodQ"
      },
      "source": [
        "### Descriptive Statistics of Product Category Sales Data "
      ]
    },
    {
      "cell_type": "code",
      "metadata": {
        "colab": {
          "base_uri": "https://localhost:8080/",
          "height": 206
        },
        "id": "BM8LLzRamjB2",
        "outputId": "2980ed2f-6a28-422e-d25f-203b9faa31a2"
      },
      "source": [
        "data[['Category', 'Sales', 'Profit']].groupby('Category').agg([np.mean, min, max])"
      ],
      "execution_count": 28,
      "outputs": [
        {
          "output_type": "execute_result",
          "data": {
            "text/html": [
              "<div>\n",
              "<style scoped>\n",
              "    .dataframe tbody tr th:only-of-type {\n",
              "        vertical-align: middle;\n",
              "    }\n",
              "\n",
              "    .dataframe tbody tr th {\n",
              "        vertical-align: top;\n",
              "    }\n",
              "\n",
              "    .dataframe thead tr th {\n",
              "        text-align: left;\n",
              "    }\n",
              "\n",
              "    .dataframe thead tr:last-of-type th {\n",
              "        text-align: right;\n",
              "    }\n",
              "</style>\n",
              "<table border=\"1\" class=\"dataframe\">\n",
              "  <thead>\n",
              "    <tr>\n",
              "      <th></th>\n",
              "      <th colspan=\"3\" halign=\"left\">Sales</th>\n",
              "      <th colspan=\"3\" halign=\"left\">Profit</th>\n",
              "    </tr>\n",
              "    <tr>\n",
              "      <th></th>\n",
              "      <th>mean</th>\n",
              "      <th>min</th>\n",
              "      <th>max</th>\n",
              "      <th>mean</th>\n",
              "      <th>min</th>\n",
              "      <th>max</th>\n",
              "    </tr>\n",
              "    <tr>\n",
              "      <th>Category</th>\n",
              "      <th></th>\n",
              "      <th></th>\n",
              "      <th></th>\n",
              "      <th></th>\n",
              "      <th></th>\n",
              "      <th></th>\n",
              "    </tr>\n",
              "  </thead>\n",
              "  <tbody>\n",
              "    <tr>\n",
              "      <th>Furniture</th>\n",
              "      <td>416.248905</td>\n",
              "      <td>1.892</td>\n",
              "      <td>5759.964</td>\n",
              "      <td>28.878567</td>\n",
              "      <td>-2750.2800</td>\n",
              "      <td>2316.510</td>\n",
              "    </tr>\n",
              "    <tr>\n",
              "      <th>Office Supplies</th>\n",
              "      <td>121.097120</td>\n",
              "      <td>0.444</td>\n",
              "      <td>9892.740</td>\n",
              "      <td>16.578961</td>\n",
              "      <td>-3701.8928</td>\n",
              "      <td>4946.370</td>\n",
              "    </tr>\n",
              "    <tr>\n",
              "      <th>Technology</th>\n",
              "      <td>467.858939</td>\n",
              "      <td>0.990</td>\n",
              "      <td>22638.480</td>\n",
              "      <td>65.454958</td>\n",
              "      <td>-6599.9780</td>\n",
              "      <td>8399.976</td>\n",
              "    </tr>\n",
              "  </tbody>\n",
              "</table>\n",
              "</div>"
            ],
            "text/plain": [
              "                      Sales                       Profit                     \n",
              "                       mean    min        max       mean        min       max\n",
              "Category                                                                     \n",
              "Furniture        416.248905  1.892   5759.964  28.878567 -2750.2800  2316.510\n",
              "Office Supplies  121.097120  0.444   9892.740  16.578961 -3701.8928  4946.370\n",
              "Technology       467.858939  0.990  22638.480  65.454958 -6599.9780  8399.976"
            ]
          },
          "metadata": {},
          "execution_count": 28
        }
      ]
    },
    {
      "cell_type": "code",
      "metadata": {
        "colab": {
          "base_uri": "https://localhost:8080/",
          "height": 645
        },
        "id": "nX6AgtuMm4xh",
        "outputId": "83e1d4b6-108a-408e-c75d-093487cf31e1"
      },
      "source": [
        "data[['Category', 'Sub-Category', 'Sales', 'Profit']].groupby(['Category', 'Sub-Category']).agg([np.mean, min, max])"
      ],
      "execution_count": 29,
      "outputs": [
        {
          "output_type": "execute_result",
          "data": {
            "text/html": [
              "<div>\n",
              "<style scoped>\n",
              "    .dataframe tbody tr th:only-of-type {\n",
              "        vertical-align: middle;\n",
              "    }\n",
              "\n",
              "    .dataframe tbody tr th {\n",
              "        vertical-align: top;\n",
              "    }\n",
              "\n",
              "    .dataframe thead tr th {\n",
              "        text-align: left;\n",
              "    }\n",
              "\n",
              "    .dataframe thead tr:last-of-type th {\n",
              "        text-align: right;\n",
              "    }\n",
              "</style>\n",
              "<table border=\"1\" class=\"dataframe\">\n",
              "  <thead>\n",
              "    <tr>\n",
              "      <th></th>\n",
              "      <th></th>\n",
              "      <th colspan=\"3\" halign=\"left\">Sales</th>\n",
              "      <th colspan=\"3\" halign=\"left\">Profit</th>\n",
              "    </tr>\n",
              "    <tr>\n",
              "      <th></th>\n",
              "      <th></th>\n",
              "      <th>mean</th>\n",
              "      <th>min</th>\n",
              "      <th>max</th>\n",
              "      <th>mean</th>\n",
              "      <th>min</th>\n",
              "      <th>max</th>\n",
              "    </tr>\n",
              "    <tr>\n",
              "      <th>Category</th>\n",
              "      <th>Sub-Category</th>\n",
              "      <th></th>\n",
              "      <th></th>\n",
              "      <th></th>\n",
              "      <th></th>\n",
              "      <th></th>\n",
              "      <th></th>\n",
              "    </tr>\n",
              "  </thead>\n",
              "  <tbody>\n",
              "    <tr>\n",
              "      <th rowspan=\"4\" valign=\"top\">Furniture</th>\n",
              "      <th>Bookcases</th>\n",
              "      <td>608.283800</td>\n",
              "      <td>35.490</td>\n",
              "      <td>5667.870</td>\n",
              "      <td>67.160688</td>\n",
              "      <td>-1981.3950</td>\n",
              "      <td>2316.5100</td>\n",
              "    </tr>\n",
              "    <tr>\n",
              "      <th>Chairs</th>\n",
              "      <td>437.298126</td>\n",
              "      <td>13.545</td>\n",
              "      <td>5759.964</td>\n",
              "      <td>40.884178</td>\n",
              "      <td>-2211.1650</td>\n",
              "      <td>1868.1300</td>\n",
              "    </tr>\n",
              "    <tr>\n",
              "      <th>Furnishings</th>\n",
              "      <td>121.633519</td>\n",
              "      <td>1.892</td>\n",
              "      <td>1519.140</td>\n",
              "      <td>14.816223</td>\n",
              "      <td>-446.4000</td>\n",
              "      <td>561.9600</td>\n",
              "    </tr>\n",
              "    <tr>\n",
              "      <th>Tables</th>\n",
              "      <td>879.258913</td>\n",
              "      <td>24.368</td>\n",
              "      <td>5451.300</td>\n",
              "      <td>-74.429023</td>\n",
              "      <td>-2750.2800</td>\n",
              "      <td>2071.4400</td>\n",
              "    </tr>\n",
              "    <tr>\n",
              "      <th rowspan=\"9\" valign=\"top\">Office Supplies</th>\n",
              "      <th>Appliances</th>\n",
              "      <td>576.105017</td>\n",
              "      <td>0.444</td>\n",
              "      <td>7958.580</td>\n",
              "      <td>80.729681</td>\n",
              "      <td>-3059.8200</td>\n",
              "      <td>3979.0800</td>\n",
              "    </tr>\n",
              "    <tr>\n",
              "      <th>Art</th>\n",
              "      <td>76.201508</td>\n",
              "      <td>1.344</td>\n",
              "      <td>1113.024</td>\n",
              "      <td>11.868505</td>\n",
              "      <td>-371.2320</td>\n",
              "      <td>269.2200</td>\n",
              "    </tr>\n",
              "    <tr>\n",
              "      <th>Binders</th>\n",
              "      <td>75.083145</td>\n",
              "      <td>0.556</td>\n",
              "      <td>9892.740</td>\n",
              "      <td>11.776633</td>\n",
              "      <td>-3701.8928</td>\n",
              "      <td>4946.3700</td>\n",
              "    </tr>\n",
              "    <tr>\n",
              "      <th>Envelopes</th>\n",
              "      <td>70.186571</td>\n",
              "      <td>1.632</td>\n",
              "      <td>604.656</td>\n",
              "      <td>12.156516</td>\n",
              "      <td>-173.2920</td>\n",
              "      <td>279.3600</td>\n",
              "    </tr>\n",
              "    <tr>\n",
              "      <th>Fasteners</th>\n",
              "      <td>34.397651</td>\n",
              "      <td>1.240</td>\n",
              "      <td>271.320</td>\n",
              "      <td>4.762572</td>\n",
              "      <td>-121.2960</td>\n",
              "      <td>127.2600</td>\n",
              "    </tr>\n",
              "    <tr>\n",
              "      <th>Labels</th>\n",
              "      <td>28.167318</td>\n",
              "      <td>1.668</td>\n",
              "      <td>786.480</td>\n",
              "      <td>5.759982</td>\n",
              "      <td>-63.5400</td>\n",
              "      <td>385.3752</td>\n",
              "    </tr>\n",
              "    <tr>\n",
              "      <th>Paper</th>\n",
              "      <td>69.047970</td>\n",
              "      <td>3.380</td>\n",
              "      <td>733.950</td>\n",
              "      <td>16.734789</td>\n",
              "      <td>-191.4660</td>\n",
              "      <td>352.2960</td>\n",
              "    </tr>\n",
              "    <tr>\n",
              "      <th>Storage</th>\n",
              "      <td>222.788271</td>\n",
              "      <td>2.799</td>\n",
              "      <td>2962.680</td>\n",
              "      <td>21.439314</td>\n",
              "      <td>-800.0640</td>\n",
              "      <td>802.1700</td>\n",
              "    </tr>\n",
              "    <tr>\n",
              "      <th>Supplies</th>\n",
              "      <td>100.236792</td>\n",
              "      <td>1.744</td>\n",
              "      <td>8187.650</td>\n",
              "      <td>9.312686</td>\n",
              "      <td>-1049.3406</td>\n",
              "      <td>327.5060</td>\n",
              "    </tr>\n",
              "    <tr>\n",
              "      <th rowspan=\"4\" valign=\"top\">Technology</th>\n",
              "      <th>Accessories</th>\n",
              "      <td>243.654315</td>\n",
              "      <td>0.990</td>\n",
              "      <td>3449.880</td>\n",
              "      <td>42.154896</td>\n",
              "      <td>-1345.5000</td>\n",
              "      <td>1216.0200</td>\n",
              "    </tr>\n",
              "    <tr>\n",
              "      <th>Copiers</th>\n",
              "      <td>679.008670</td>\n",
              "      <td>35.460</td>\n",
              "      <td>17499.950</td>\n",
              "      <td>116.314687</td>\n",
              "      <td>-1672.5000</td>\n",
              "      <td>8399.9760</td>\n",
              "    </tr>\n",
              "    <tr>\n",
              "      <th>Machines</th>\n",
              "      <td>524.266532</td>\n",
              "      <td>11.511</td>\n",
              "      <td>22638.480</td>\n",
              "      <td>39.614989</td>\n",
              "      <td>-6599.9780</td>\n",
              "      <td>2799.9840</td>\n",
              "    </tr>\n",
              "    <tr>\n",
              "      <th>Phones</th>\n",
              "      <td>508.437337</td>\n",
              "      <td>2.970</td>\n",
              "      <td>6998.640</td>\n",
              "      <td>64.556749</td>\n",
              "      <td>-4088.3760</td>\n",
              "      <td>2939.3100</td>\n",
              "    </tr>\n",
              "  </tbody>\n",
              "</table>\n",
              "</div>"
            ],
            "text/plain": [
              "                                   Sales                         Profit  \\\n",
              "                                    mean     min        max        mean   \n",
              "Category        Sub-Category                                              \n",
              "Furniture       Bookcases     608.283800  35.490   5667.870   67.160688   \n",
              "                Chairs        437.298126  13.545   5759.964   40.884178   \n",
              "                Furnishings   121.633519   1.892   1519.140   14.816223   \n",
              "                Tables        879.258913  24.368   5451.300  -74.429023   \n",
              "Office Supplies Appliances    576.105017   0.444   7958.580   80.729681   \n",
              "                Art            76.201508   1.344   1113.024   11.868505   \n",
              "                Binders        75.083145   0.556   9892.740   11.776633   \n",
              "                Envelopes      70.186571   1.632    604.656   12.156516   \n",
              "                Fasteners      34.397651   1.240    271.320    4.762572   \n",
              "                Labels         28.167318   1.668    786.480    5.759982   \n",
              "                Paper          69.047970   3.380    733.950   16.734789   \n",
              "                Storage       222.788271   2.799   2962.680   21.439314   \n",
              "                Supplies      100.236792   1.744   8187.650    9.312686   \n",
              "Technology      Accessories   243.654315   0.990   3449.880   42.154896   \n",
              "                Copiers       679.008670  35.460  17499.950  116.314687   \n",
              "                Machines      524.266532  11.511  22638.480   39.614989   \n",
              "                Phones        508.437337   2.970   6998.640   64.556749   \n",
              "\n",
              "                                                    \n",
              "                                    min        max  \n",
              "Category        Sub-Category                        \n",
              "Furniture       Bookcases    -1981.3950  2316.5100  \n",
              "                Chairs       -2211.1650  1868.1300  \n",
              "                Furnishings   -446.4000   561.9600  \n",
              "                Tables       -2750.2800  2071.4400  \n",
              "Office Supplies Appliances   -3059.8200  3979.0800  \n",
              "                Art           -371.2320   269.2200  \n",
              "                Binders      -3701.8928  4946.3700  \n",
              "                Envelopes     -173.2920   279.3600  \n",
              "                Fasteners     -121.2960   127.2600  \n",
              "                Labels         -63.5400   385.3752  \n",
              "                Paper         -191.4660   352.2960  \n",
              "                Storage       -800.0640   802.1700  \n",
              "                Supplies     -1049.3406   327.5060  \n",
              "Technology      Accessories  -1345.5000  1216.0200  \n",
              "                Copiers      -1672.5000  8399.9760  \n",
              "                Machines     -6599.9780  2799.9840  \n",
              "                Phones       -4088.3760  2939.3100  "
            ]
          },
          "metadata": {},
          "execution_count": 29
        }
      ]
    },
    {
      "cell_type": "code",
      "metadata": {
        "colab": {
          "base_uri": "https://localhost:8080/",
          "height": 296
        },
        "id": "lY_2j4s8prgs",
        "outputId": "1fdf8968-9ae7-4568-9158-17aa790116a7"
      },
      "source": [
        "data.groupby('Category')['Sales'].mean().plot.bar(rot = 360)\n"
      ],
      "execution_count": 30,
      "outputs": [
        {
          "output_type": "execute_result",
          "data": {
            "text/plain": [
              "<matplotlib.axes._subplots.AxesSubplot at 0x7f4f3d4d05d0>"
            ]
          },
          "metadata": {},
          "execution_count": 30
        },
        {
          "output_type": "display_data",
          "data": {
            "image/png": "[encoded data removed]",
            "text/plain": [
              "<Figure size 432x288 with 1 Axes>"
            ]
          },
          "metadata": {
            "needs_background": "light"
          }
        }
      ]
    },
    {
      "cell_type": "code",
      "metadata": {
        "colab": {
          "base_uri": "https://localhost:8080/",
          "height": 206
        },
        "id": "FScSl9nXNB7J",
        "outputId": "a39783a9-f403-40e8-fe83-264cecb32fb9"
      },
      "source": [
        "data[['City', 'Category']].groupby('Category').describe()"
      ],
      "execution_count": 31,
      "outputs": [
        {
          "output_type": "execute_result",
          "data": {
            "text/html": [
              "<div>\n",
              "<style scoped>\n",
              "    .dataframe tbody tr th:only-of-type {\n",
              "        vertical-align: middle;\n",
              "    }\n",
              "\n",
              "    .dataframe tbody tr th {\n",
              "        vertical-align: top;\n",
              "    }\n",
              "\n",
              "    .dataframe thead tr th {\n",
              "        text-align: left;\n",
              "    }\n",
              "\n",
              "    .dataframe thead tr:last-of-type th {\n",
              "        text-align: right;\n",
              "    }\n",
              "</style>\n",
              "<table border=\"1\" class=\"dataframe\">\n",
              "  <thead>\n",
              "    <tr>\n",
              "      <th></th>\n",
              "      <th colspan=\"4\" halign=\"left\">City</th>\n",
              "    </tr>\n",
              "    <tr>\n",
              "      <th></th>\n",
              "      <th>count</th>\n",
              "      <th>unique</th>\n",
              "      <th>top</th>\n",
              "      <th>freq</th>\n",
              "    </tr>\n",
              "    <tr>\n",
              "      <th>Category</th>\n",
              "      <th></th>\n",
              "      <th></th>\n",
              "      <th></th>\n",
              "      <th></th>\n",
              "    </tr>\n",
              "  </thead>\n",
              "  <tbody>\n",
              "    <tr>\n",
              "      <th>Furniture</th>\n",
              "      <td>9876</td>\n",
              "      <td>2339</td>\n",
              "      <td>New York City</td>\n",
              "      <td>192</td>\n",
              "    </tr>\n",
              "    <tr>\n",
              "      <th>Office Supplies</th>\n",
              "      <td>31273</td>\n",
              "      <td>3343</td>\n",
              "      <td>New York City</td>\n",
              "      <td>552</td>\n",
              "    </tr>\n",
              "    <tr>\n",
              "      <th>Technology</th>\n",
              "      <td>10141</td>\n",
              "      <td>2397</td>\n",
              "      <td>New York City</td>\n",
              "      <td>171</td>\n",
              "    </tr>\n",
              "  </tbody>\n",
              "</table>\n",
              "</div>"
            ],
            "text/plain": [
              "                  City                           \n",
              "                 count unique            top freq\n",
              "Category                                         \n",
              "Furniture         9876   2339  New York City  192\n",
              "Office Supplies  31273   3343  New York City  552\n",
              "Technology       10141   2397  New York City  171"
            ]
          },
          "metadata": {},
          "execution_count": 31
        }
      ]
    },
    {
      "cell_type": "code",
      "metadata": {
        "colab": {
          "base_uri": "https://localhost:8080/",
          "height": 247
        },
        "id": "vIuZ1PooZDVa",
        "outputId": "8d5a9444-869a-475b-bc98-5611e197c2e4"
      },
      "source": [
        "data.describe(include='object')"
      ],
      "execution_count": 32,
      "outputs": [
        {
          "output_type": "execute_result",
          "data": {
            "text/html": [
              "<div>\n",
              "<style scoped>\n",
              "    .dataframe tbody tr th:only-of-type {\n",
              "        vertical-align: middle;\n",
              "    }\n",
              "\n",
              "    .dataframe tbody tr th {\n",
              "        vertical-align: top;\n",
              "    }\n",
              "\n",
              "    .dataframe thead th {\n",
              "        text-align: right;\n",
              "    }\n",
              "</style>\n",
              "<table border=\"1\" class=\"dataframe\">\n",
              "  <thead>\n",
              "    <tr style=\"text-align: right;\">\n",
              "      <th></th>\n",
              "      <th>Order ID</th>\n",
              "      <th>Ship Mode</th>\n",
              "      <th>Customer ID</th>\n",
              "      <th>Customer Name</th>\n",
              "      <th>Segment</th>\n",
              "      <th>City</th>\n",
              "      <th>State</th>\n",
              "      <th>Country</th>\n",
              "      <th>Market</th>\n",
              "      <th>Region</th>\n",
              "      <th>Product ID</th>\n",
              "      <th>Category</th>\n",
              "      <th>Sub-Category</th>\n",
              "      <th>Product Name</th>\n",
              "      <th>Order Priority</th>\n",
              "      <th>Month</th>\n",
              "      <th>Day</th>\n",
              "    </tr>\n",
              "  </thead>\n",
              "  <tbody>\n",
              "    <tr>\n",
              "      <th>count</th>\n",
              "      <td>51290</td>\n",
              "      <td>51290</td>\n",
              "      <td>51290</td>\n",
              "      <td>51290</td>\n",
              "      <td>51290</td>\n",
              "      <td>51290</td>\n",
              "      <td>51290</td>\n",
              "      <td>51290</td>\n",
              "      <td>51290</td>\n",
              "      <td>51290</td>\n",
              "      <td>51290</td>\n",
              "      <td>51290</td>\n",
              "      <td>51290</td>\n",
              "      <td>51290</td>\n",
              "      <td>51290</td>\n",
              "      <td>51290</td>\n",
              "      <td>51290</td>\n",
              "    </tr>\n",
              "    <tr>\n",
              "      <th>unique</th>\n",
              "      <td>25035</td>\n",
              "      <td>4</td>\n",
              "      <td>1590</td>\n",
              "      <td>795</td>\n",
              "      <td>3</td>\n",
              "      <td>3636</td>\n",
              "      <td>1094</td>\n",
              "      <td>147</td>\n",
              "      <td>7</td>\n",
              "      <td>13</td>\n",
              "      <td>10292</td>\n",
              "      <td>3</td>\n",
              "      <td>17</td>\n",
              "      <td>3788</td>\n",
              "      <td>4</td>\n",
              "      <td>12</td>\n",
              "      <td>7</td>\n",
              "    </tr>\n",
              "    <tr>\n",
              "      <th>top</th>\n",
              "      <td>CA-2014-100111</td>\n",
              "      <td>Standard Class</td>\n",
              "      <td>PO-18850</td>\n",
              "      <td>Muhammed Yedwab</td>\n",
              "      <td>Consumer</td>\n",
              "      <td>New York City</td>\n",
              "      <td>California</td>\n",
              "      <td>United States</td>\n",
              "      <td>APAC</td>\n",
              "      <td>Central</td>\n",
              "      <td>OFF-AR-10003651</td>\n",
              "      <td>Office Supplies</td>\n",
              "      <td>Binders</td>\n",
              "      <td>Staples</td>\n",
              "      <td>Medium</td>\n",
              "      <td>November</td>\n",
              "      <td>Friday</td>\n",
              "    </tr>\n",
              "    <tr>\n",
              "      <th>freq</th>\n",
              "      <td>14</td>\n",
              "      <td>30775</td>\n",
              "      <td>97</td>\n",
              "      <td>108</td>\n",
              "      <td>26518</td>\n",
              "      <td>915</td>\n",
              "      <td>2001</td>\n",
              "      <td>9994</td>\n",
              "      <td>11002</td>\n",
              "      <td>11117</td>\n",
              "      <td>35</td>\n",
              "      <td>31273</td>\n",
              "      <td>6152</td>\n",
              "      <td>227</td>\n",
              "      <td>29433</td>\n",
              "      <td>5660</td>\n",
              "      <td>8745</td>\n",
              "    </tr>\n",
              "  </tbody>\n",
              "</table>\n",
              "</div>"
            ],
            "text/plain": [
              "              Order ID       Ship Mode Customer ID    Customer Name   Segment  \\\n",
              "count            51290           51290       51290            51290     51290   \n",
              "unique           25035               4        1590              795         3   \n",
              "top     CA-2014-100111  Standard Class    PO-18850  Muhammed Yedwab  Consumer   \n",
              "freq                14           30775          97              108     26518   \n",
              "\n",
              "                 City       State        Country Market   Region  \\\n",
              "count           51290       51290          51290  51290    51290   \n",
              "unique           3636        1094            147      7       13   \n",
              "top     New York City  California  United States   APAC  Central   \n",
              "freq              915        2001           9994  11002    11117   \n",
              "\n",
              "             Product ID         Category Sub-Category Product Name  \\\n",
              "count             51290            51290        51290        51290   \n",
              "unique            10292                3           17         3788   \n",
              "top     OFF-AR-10003651  Office Supplies      Binders      Staples   \n",
              "freq                 35            31273         6152          227   \n",
              "\n",
              "       Order Priority     Month     Day  \n",
              "count           51290     51290   51290  \n",
              "unique              4        12       7  \n",
              "top            Medium  November  Friday  \n",
              "freq            29433      5660    8745  "
            ]
          },
          "metadata": {},
          "execution_count": 32
        }
      ]
    },
    {
      "cell_type": "markdown",
      "metadata": {
        "id": "bAbq1ecIPz-i"
      },
      "source": [
        "### Descriptive Statistics of Shipping Data"
      ]
    },
    {
      "cell_type": "code",
      "metadata": {
        "colab": {
          "base_uri": "https://localhost:8080/",
          "height": 331
        },
        "id": "uLG62PRhP4cy",
        "outputId": "b80ff37f-3b5a-4645-de3c-deb23b104e72"
      },
      "source": [
        "data[['Market', 'Shipping Cost']].groupby('Market').describe()"
      ],
      "execution_count": 33,
      "outputs": [
        {
          "output_type": "execute_result",
          "data": {
            "text/html": [
              "<div>\n",
              "<style scoped>\n",
              "    .dataframe tbody tr th:only-of-type {\n",
              "        vertical-align: middle;\n",
              "    }\n",
              "\n",
              "    .dataframe tbody tr th {\n",
              "        vertical-align: top;\n",
              "    }\n",
              "\n",
              "    .dataframe thead tr th {\n",
              "        text-align: left;\n",
              "    }\n",
              "\n",
              "    .dataframe thead tr:last-of-type th {\n",
              "        text-align: right;\n",
              "    }\n",
              "</style>\n",
              "<table border=\"1\" class=\"dataframe\">\n",
              "  <thead>\n",
              "    <tr>\n",
              "      <th></th>\n",
              "      <th colspan=\"8\" halign=\"left\">Shipping Cost</th>\n",
              "    </tr>\n",
              "    <tr>\n",
              "      <th></th>\n",
              "      <th>count</th>\n",
              "      <th>mean</th>\n",
              "      <th>std</th>\n",
              "      <th>min</th>\n",
              "      <th>25%</th>\n",
              "      <th>50%</th>\n",
              "      <th>75%</th>\n",
              "      <th>max</th>\n",
              "    </tr>\n",
              "    <tr>\n",
              "      <th>Market</th>\n",
              "      <th></th>\n",
              "      <th></th>\n",
              "      <th></th>\n",
              "      <th></th>\n",
              "      <th></th>\n",
              "      <th></th>\n",
              "      <th></th>\n",
              "      <th></th>\n",
              "    </tr>\n",
              "  </thead>\n",
              "  <tbody>\n",
              "    <tr>\n",
              "      <th>APAC</th>\n",
              "      <td>11002.0</td>\n",
              "      <td>35.190430</td>\n",
              "      <td>70.262351</td>\n",
              "      <td>0.01</td>\n",
              "      <td>3.9600</td>\n",
              "      <td>11.19</td>\n",
              "      <td>33.3950</td>\n",
              "      <td>923.63</td>\n",
              "    </tr>\n",
              "    <tr>\n",
              "      <th>Africa</th>\n",
              "      <td>4587.0</td>\n",
              "      <td>19.215058</td>\n",
              "      <td>47.749214</td>\n",
              "      <td>0.02</td>\n",
              "      <td>1.8200</td>\n",
              "      <td>5.15</td>\n",
              "      <td>16.0850</td>\n",
              "      <td>903.04</td>\n",
              "    </tr>\n",
              "    <tr>\n",
              "      <th>Canada</th>\n",
              "      <td>384.0</td>\n",
              "      <td>19.285495</td>\n",
              "      <td>43.966498</td>\n",
              "      <td>0.04</td>\n",
              "      <td>2.2175</td>\n",
              "      <td>6.27</td>\n",
              "      <td>15.8975</td>\n",
              "      <td>546.56</td>\n",
              "    </tr>\n",
              "    <tr>\n",
              "      <th>EMEA</th>\n",
              "      <td>5029.0</td>\n",
              "      <td>17.573221</td>\n",
              "      <td>42.762282</td>\n",
              "      <td>0.02</td>\n",
              "      <td>1.7400</td>\n",
              "      <td>5.07</td>\n",
              "      <td>15.3500</td>\n",
              "      <td>832.41</td>\n",
              "    </tr>\n",
              "    <tr>\n",
              "      <th>EU</th>\n",
              "      <td>10000.0</td>\n",
              "      <td>30.942235</td>\n",
              "      <td>59.452945</td>\n",
              "      <td>0.02</td>\n",
              "      <td>4.2300</td>\n",
              "      <td>11.28</td>\n",
              "      <td>31.0625</td>\n",
              "      <td>910.16</td>\n",
              "    </tr>\n",
              "    <tr>\n",
              "      <th>LATAM</th>\n",
              "      <td>10294.0</td>\n",
              "      <td>22.745153</td>\n",
              "      <td>45.899338</td>\n",
              "      <td>0.00</td>\n",
              "      <td>2.7800</td>\n",
              "      <td>7.47</td>\n",
              "      <td>22.4075</td>\n",
              "      <td>810.25</td>\n",
              "    </tr>\n",
              "    <tr>\n",
              "      <th>US</th>\n",
              "      <td>9994.0</td>\n",
              "      <td>23.831678</td>\n",
              "      <td>58.962848</td>\n",
              "      <td>0.01</td>\n",
              "      <td>1.4900</td>\n",
              "      <td>5.10</td>\n",
              "      <td>19.9850</td>\n",
              "      <td>933.57</td>\n",
              "    </tr>\n",
              "  </tbody>\n",
              "</table>\n",
              "</div>"
            ],
            "text/plain": [
              "       Shipping Cost                                                      \\\n",
              "               count       mean        std   min     25%    50%      75%   \n",
              "Market                                                                     \n",
              "APAC         11002.0  35.190430  70.262351  0.01  3.9600  11.19  33.3950   \n",
              "Africa        4587.0  19.215058  47.749214  0.02  1.8200   5.15  16.0850   \n",
              "Canada         384.0  19.285495  43.966498  0.04  2.2175   6.27  15.8975   \n",
              "EMEA          5029.0  17.573221  42.762282  0.02  1.7400   5.07  15.3500   \n",
              "EU           10000.0  30.942235  59.452945  0.02  4.2300  11.28  31.0625   \n",
              "LATAM        10294.0  22.745153  45.899338  0.00  2.7800   7.47  22.4075   \n",
              "US            9994.0  23.831678  58.962848  0.01  1.4900   5.10  19.9850   \n",
              "\n",
              "                \n",
              "           max  \n",
              "Market          \n",
              "APAC    923.63  \n",
              "Africa  903.04  \n",
              "Canada  546.56  \n",
              "EMEA    832.41  \n",
              "EU      910.16  \n",
              "LATAM   810.25  \n",
              "US      933.57  "
            ]
          },
          "metadata": {},
          "execution_count": 33
        }
      ]
    },
    {
      "cell_type": "code",
      "metadata": {
        "colab": {
          "base_uri": "https://localhost:8080/",
          "height": 238
        },
        "id": "hBkuhkvfQopJ",
        "outputId": "3ad76139-cb84-48ff-e833-47c9ffd4ef8f"
      },
      "source": [
        "data[['Ship Mode', 'Shipping Cost']].groupby('Ship Mode').describe()"
      ],
      "execution_count": 34,
      "outputs": [
        {
          "output_type": "execute_result",
          "data": {
            "text/html": [
              "<div>\n",
              "<style scoped>\n",
              "    .dataframe tbody tr th:only-of-type {\n",
              "        vertical-align: middle;\n",
              "    }\n",
              "\n",
              "    .dataframe tbody tr th {\n",
              "        vertical-align: top;\n",
              "    }\n",
              "\n",
              "    .dataframe thead tr th {\n",
              "        text-align: left;\n",
              "    }\n",
              "\n",
              "    .dataframe thead tr:last-of-type th {\n",
              "        text-align: right;\n",
              "    }\n",
              "</style>\n",
              "<table border=\"1\" class=\"dataframe\">\n",
              "  <thead>\n",
              "    <tr>\n",
              "      <th></th>\n",
              "      <th colspan=\"8\" halign=\"left\">Shipping Cost</th>\n",
              "    </tr>\n",
              "    <tr>\n",
              "      <th></th>\n",
              "      <th>count</th>\n",
              "      <th>mean</th>\n",
              "      <th>std</th>\n",
              "      <th>min</th>\n",
              "      <th>25%</th>\n",
              "      <th>50%</th>\n",
              "      <th>75%</th>\n",
              "      <th>max</th>\n",
              "    </tr>\n",
              "    <tr>\n",
              "      <th>Ship Mode</th>\n",
              "      <th></th>\n",
              "      <th></th>\n",
              "      <th></th>\n",
              "      <th></th>\n",
              "      <th></th>\n",
              "      <th></th>\n",
              "      <th></th>\n",
              "      <th></th>\n",
              "    </tr>\n",
              "  </thead>\n",
              "  <tbody>\n",
              "    <tr>\n",
              "      <th>First Class</th>\n",
              "      <td>7505.0</td>\n",
              "      <td>41.053065</td>\n",
              "      <td>80.581359</td>\n",
              "      <td>0.01</td>\n",
              "      <td>4.28</td>\n",
              "      <td>12.82</td>\n",
              "      <td>38.91</td>\n",
              "      <td>915.49</td>\n",
              "    </tr>\n",
              "    <tr>\n",
              "      <th>Same Day</th>\n",
              "      <td>2701.0</td>\n",
              "      <td>42.937453</td>\n",
              "      <td>85.998260</td>\n",
              "      <td>0.01</td>\n",
              "      <td>4.26</td>\n",
              "      <td>12.34</td>\n",
              "      <td>39.90</td>\n",
              "      <td>933.57</td>\n",
              "    </tr>\n",
              "    <tr>\n",
              "      <th>Second Class</th>\n",
              "      <td>10309.0</td>\n",
              "      <td>30.469747</td>\n",
              "      <td>64.997072</td>\n",
              "      <td>0.00</td>\n",
              "      <td>3.08</td>\n",
              "      <td>8.95</td>\n",
              "      <td>28.18</td>\n",
              "      <td>923.63</td>\n",
              "    </tr>\n",
              "    <tr>\n",
              "      <th>Standard Class</th>\n",
              "      <td>30775.0</td>\n",
              "      <td>19.971755</td>\n",
              "      <td>41.241951</td>\n",
              "      <td>0.00</td>\n",
              "      <td>2.18</td>\n",
              "      <td>6.34</td>\n",
              "      <td>19.45</td>\n",
              "      <td>878.38</td>\n",
              "    </tr>\n",
              "  </tbody>\n",
              "</table>\n",
              "</div>"
            ],
            "text/plain": [
              "               Shipping Cost                                                  \\\n",
              "                       count       mean        std   min   25%    50%    75%   \n",
              "Ship Mode                                                                      \n",
              "First Class           7505.0  41.053065  80.581359  0.01  4.28  12.82  38.91   \n",
              "Same Day              2701.0  42.937453  85.998260  0.01  4.26  12.34  39.90   \n",
              "Second Class         10309.0  30.469747  64.997072  0.00  3.08   8.95  28.18   \n",
              "Standard Class       30775.0  19.971755  41.241951  0.00  2.18   6.34  19.45   \n",
              "\n",
              "                        \n",
              "                   max  \n",
              "Ship Mode               \n",
              "First Class     915.49  \n",
              "Same Day        933.57  \n",
              "Second Class    923.63  \n",
              "Standard Class  878.38  "
            ]
          },
          "metadata": {},
          "execution_count": 34
        }
      ]
    },
    {
      "cell_type": "code",
      "metadata": {
        "colab": {
          "base_uri": "https://localhost:8080/",
          "height": 296
        },
        "id": "F_YJ7ygPS4F3",
        "outputId": "b05538f6-9382-42ac-fc1d-e23fc43a84d4"
      },
      "source": [
        "sns.countplot('Ship Mode', data=data)"
      ],
      "execution_count": 35,
      "outputs": [
        {
          "output_type": "execute_result",
          "data": {
            "text/plain": [
              "<matplotlib.axes._subplots.AxesSubplot at 0x7f4f3d461810>"
            ]
          },
          "metadata": {},
          "execution_count": 35
        },
        {
          "output_type": "display_data",
          "data": {
            "image/png": "[encoded data removed]",
            "text/plain": [
              "<Figure size 432x288 with 1 Axes>"
            ]
          },
          "metadata": {
            "needs_background": "light"
          }
        }
      ]
    },
    {
      "cell_type": "markdown",
      "metadata": {
        "id": "0isg8rWuczcn"
      },
      "source": [
        "### Maximum Sales and Profit Per Market"
      ]
    },
    {
      "cell_type": "code",
      "metadata": {
        "colab": {
          "base_uri": "https://localhost:8080/",
          "height": 300
        },
        "id": "GRuuc4aYcqng",
        "outputId": "4beb4c7c-8186-4690-d778-9220b92351bc"
      },
      "source": [
        "data.groupby('Market')['Sales', 'Profit'].max().sort_values(['Sales', 'Profit'], ascending = False)"
      ],
      "execution_count": 36,
      "outputs": [
        {
          "output_type": "execute_result",
          "data": {
            "text/html": [
              "<div>\n",
              "<style scoped>\n",
              "    .dataframe tbody tr th:only-of-type {\n",
              "        vertical-align: middle;\n",
              "    }\n",
              "\n",
              "    .dataframe tbody tr th {\n",
              "        vertical-align: top;\n",
              "    }\n",
              "\n",
              "    .dataframe thead th {\n",
              "        text-align: right;\n",
              "    }\n",
              "</style>\n",
              "<table border=\"1\" class=\"dataframe\">\n",
              "  <thead>\n",
              "    <tr style=\"text-align: right;\">\n",
              "      <th></th>\n",
              "      <th>Sales</th>\n",
              "      <th>Profit</th>\n",
              "    </tr>\n",
              "    <tr>\n",
              "      <th>Market</th>\n",
              "      <th></th>\n",
              "      <th></th>\n",
              "    </tr>\n",
              "  </thead>\n",
              "  <tbody>\n",
              "    <tr>\n",
              "      <th>US</th>\n",
              "      <td>22638.48</td>\n",
              "      <td>8399.976</td>\n",
              "    </tr>\n",
              "    <tr>\n",
              "      <th>EU</th>\n",
              "      <td>7958.58</td>\n",
              "      <td>3979.080</td>\n",
              "    </tr>\n",
              "    <tr>\n",
              "      <th>APAC</th>\n",
              "      <td>6998.64</td>\n",
              "      <td>2939.310</td>\n",
              "    </tr>\n",
              "    <tr>\n",
              "      <th>Africa</th>\n",
              "      <td>5301.24</td>\n",
              "      <td>2597.280</td>\n",
              "    </tr>\n",
              "    <tr>\n",
              "      <th>EMEA</th>\n",
              "      <td>5211.12</td>\n",
              "      <td>1622.880</td>\n",
              "    </tr>\n",
              "    <tr>\n",
              "      <th>Canada</th>\n",
              "      <td>3863.88</td>\n",
              "      <td>1159.020</td>\n",
              "    </tr>\n",
              "    <tr>\n",
              "      <th>LATAM</th>\n",
              "      <td>3474.08</td>\n",
              "      <td>1313.280</td>\n",
              "    </tr>\n",
              "  </tbody>\n",
              "</table>\n",
              "</div>"
            ],
            "text/plain": [
              "           Sales    Profit\n",
              "Market                    \n",
              "US      22638.48  8399.976\n",
              "EU       7958.58  3979.080\n",
              "APAC     6998.64  2939.310\n",
              "Africa   5301.24  2597.280\n",
              "EMEA     5211.12  1622.880\n",
              "Canada   3863.88  1159.020\n",
              "LATAM    3474.08  1313.280"
            ]
          },
          "metadata": {},
          "execution_count": 36
        }
      ]
    },
    {
      "cell_type": "markdown",
      "metadata": {
        "id": "ZIHda3j1dG_i"
      },
      "source": [
        "### Minimum Sales and Profit Per Market"
      ]
    },
    {
      "cell_type": "code",
      "metadata": {
        "colab": {
          "base_uri": "https://localhost:8080/",
          "height": 300
        },
        "id": "nZ2gSdWpc77Z",
        "outputId": "73f72431-d310-4649-e211-e64a9686a788"
      },
      "source": [
        "data.groupby('Market')['Sales', 'Profit'].min().sort_values(['Sales', 'Profit'], ascending = False)"
      ],
      "execution_count": 82,
      "outputs": [
        {
          "output_type": "execute_result",
          "data": {
            "text/html": [
              "<div>\n",
              "<style scoped>\n",
              "    .dataframe tbody tr th:only-of-type {\n",
              "        vertical-align: middle;\n",
              "    }\n",
              "\n",
              "    .dataframe tbody tr th {\n",
              "        vertical-align: top;\n",
              "    }\n",
              "\n",
              "    .dataframe thead th {\n",
              "        text-align: right;\n",
              "    }\n",
              "</style>\n",
              "<table border=\"1\" class=\"dataframe\">\n",
              "  <thead>\n",
              "    <tr style=\"text-align: right;\">\n",
              "      <th></th>\n",
              "      <th>Sales</th>\n",
              "      <th>Profit</th>\n",
              "    </tr>\n",
              "    <tr>\n",
              "      <th>Market</th>\n",
              "      <th></th>\n",
              "      <th></th>\n",
              "    </tr>\n",
              "  </thead>\n",
              "  <tbody>\n",
              "    <tr>\n",
              "      <th>Canada</th>\n",
              "      <td>3.990</td>\n",
              "      <td>0.000</td>\n",
              "    </tr>\n",
              "    <tr>\n",
              "      <th>EU</th>\n",
              "      <td>2.955</td>\n",
              "      <td>-3059.820</td>\n",
              "    </tr>\n",
              "    <tr>\n",
              "      <th>APAC</th>\n",
              "      <td>2.880</td>\n",
              "      <td>-3009.435</td>\n",
              "    </tr>\n",
              "    <tr>\n",
              "      <th>LATAM</th>\n",
              "      <td>1.566</td>\n",
              "      <td>-1806.240</td>\n",
              "    </tr>\n",
              "    <tr>\n",
              "      <th>EMEA</th>\n",
              "      <td>1.440</td>\n",
              "      <td>-4088.376</td>\n",
              "    </tr>\n",
              "    <tr>\n",
              "      <th>Africa</th>\n",
              "      <td>1.161</td>\n",
              "      <td>-1576.824</td>\n",
              "    </tr>\n",
              "    <tr>\n",
              "      <th>US</th>\n",
              "      <td>0.444</td>\n",
              "      <td>-6599.978</td>\n",
              "    </tr>\n",
              "  </tbody>\n",
              "</table>\n",
              "</div>"
            ],
            "text/plain": [
              "        Sales    Profit\n",
              "Market                 \n",
              "Canada  3.990     0.000\n",
              "EU      2.955 -3059.820\n",
              "APAC    2.880 -3009.435\n",
              "LATAM   1.566 -1806.240\n",
              "EMEA    1.440 -4088.376\n",
              "Africa  1.161 -1576.824\n",
              "US      0.444 -6599.978"
            ]
          },
          "metadata": {},
          "execution_count": 82
        }
      ]
    },
    {
      "cell_type": "markdown",
      "metadata": {
        "id": "-BX12i0gdfjp"
      },
      "source": [
        "#### The product Category that Brings the Most Sales"
      ]
    },
    {
      "cell_type": "code",
      "metadata": {
        "colab": {
          "base_uri": "https://localhost:8080/"
        },
        "id": "aXwvqqvTdPY8",
        "outputId": "5ed36da5-fb76-4ad8-d0f1-d5b49cbb5aa0"
      },
      "source": [
        "category_most_sales = data.pivot_table(values = 'Sales', index = 'Product Name', columns = 'Category')\n",
        "category_most_sales.max().sort_values(ascending = False) "
      ],
      "execution_count": 38,
      "outputs": [
        {
          "output_type": "execute_result",
          "data": {
            "text/plain": [
              "Category\n",
              "Technology         22638.480000\n",
              "Office Supplies     5676.770667\n",
              "Furniture           4021.044000\n",
              "dtype: float64"
            ]
          },
          "metadata": {},
          "execution_count": 38
        }
      ]
    },
    {
      "cell_type": "markdown",
      "metadata": {
        "id": "-cGW2NQMecvt"
      },
      "source": [
        "The product Category that Brings the Most Profit"
      ]
    },
    {
      "cell_type": "code",
      "metadata": {
        "colab": {
          "base_uri": "https://localhost:8080/"
        },
        "id": "R3ZM1oNbeiLH",
        "outputId": "c355f894-d69e-4d16-bb50-c6ef40afa255"
      },
      "source": [
        "category_most_profit = data.pivot_table(values = 'Profit', index = 'Product Name', columns = 'Category')\n",
        "category_most_profit.max().sort_values(ascending = False) "
      ],
      "execution_count": 39,
      "outputs": [
        {
          "output_type": "execute_result",
          "data": {
            "text/plain": [
              "Category\n",
              "Technology         5039.985600\n",
              "Office Supplies    1115.094100\n",
              "Furniture           500.821077\n",
              "dtype: float64"
            ]
          },
          "metadata": {},
          "execution_count": 39
        }
      ]
    },
    {
      "cell_type": "markdown",
      "metadata": {
        "id": "_2MAwGdVgD_d"
      },
      "source": [
        "#### Dorminant Product Category Per Market"
      ]
    },
    {
      "cell_type": "code",
      "metadata": {
        "colab": {
          "base_uri": "https://localhost:8080/",
          "height": 300
        },
        "id": "CDXh9Lrkf4Tt",
        "outputId": "3c12da1c-51f6-4b06-f9e7-8f88566f6787"
      },
      "source": [
        "dominant_prod_cat = data.pivot_table(values = 'Sales', index = 'Market', columns = 'Category')\n",
        "\n",
        "dominant_prod_cat.sort_values('Market', ascending = False)"
      ],
      "execution_count": 40,
      "outputs": [
        {
          "output_type": "execute_result",
          "data": {
            "text/html": [
              "<div>\n",
              "<style scoped>\n",
              "    .dataframe tbody tr th:only-of-type {\n",
              "        vertical-align: middle;\n",
              "    }\n",
              "\n",
              "    .dataframe tbody tr th {\n",
              "        vertical-align: top;\n",
              "    }\n",
              "\n",
              "    .dataframe thead th {\n",
              "        text-align: right;\n",
              "    }\n",
              "</style>\n",
              "<table border=\"1\" class=\"dataframe\">\n",
              "  <thead>\n",
              "    <tr style=\"text-align: right;\">\n",
              "      <th>Category</th>\n",
              "      <th>Furniture</th>\n",
              "      <th>Office Supplies</th>\n",
              "      <th>Technology</th>\n",
              "    </tr>\n",
              "    <tr>\n",
              "      <th>Market</th>\n",
              "      <th></th>\n",
              "      <th></th>\n",
              "      <th></th>\n",
              "    </tr>\n",
              "  </thead>\n",
              "  <tbody>\n",
              "    <tr>\n",
              "      <th>US</th>\n",
              "      <td>349.834887</td>\n",
              "      <td>119.324101</td>\n",
              "      <td>452.709276</td>\n",
              "    </tr>\n",
              "    <tr>\n",
              "      <th>LATAM</th>\n",
              "      <td>340.877674</td>\n",
              "      <td>96.199374</td>\n",
              "      <td>384.738446</td>\n",
              "    </tr>\n",
              "    <tr>\n",
              "      <th>EU</th>\n",
              "      <td>519.055996</td>\n",
              "      <td>158.796027</td>\n",
              "      <td>582.554444</td>\n",
              "    </tr>\n",
              "    <tr>\n",
              "      <th>EMEA</th>\n",
              "      <td>296.910047</td>\n",
              "      <td>83.920531</td>\n",
              "      <td>312.738652</td>\n",
              "    </tr>\n",
              "    <tr>\n",
              "      <th>Canada</th>\n",
              "      <td>252.268571</td>\n",
              "      <td>108.426282</td>\n",
              "      <td>404.597077</td>\n",
              "    </tr>\n",
              "    <tr>\n",
              "      <th>Africa</th>\n",
              "      <td>308.479612</td>\n",
              "      <td>87.604444</td>\n",
              "      <td>353.860640</td>\n",
              "    </tr>\n",
              "    <tr>\n",
              "      <th>APAC</th>\n",
              "      <td>553.286978</td>\n",
              "      <td>143.163321</td>\n",
              "      <td>566.565203</td>\n",
              "    </tr>\n",
              "  </tbody>\n",
              "</table>\n",
              "</div>"
            ],
            "text/plain": [
              "Category   Furniture  Office Supplies  Technology\n",
              "Market                                           \n",
              "US        349.834887       119.324101  452.709276\n",
              "LATAM     340.877674        96.199374  384.738446\n",
              "EU        519.055996       158.796027  582.554444\n",
              "EMEA      296.910047        83.920531  312.738652\n",
              "Canada    252.268571       108.426282  404.597077\n",
              "Africa    308.479612        87.604444  353.860640\n",
              "APAC      553.286978       143.163321  566.565203"
            ]
          },
          "metadata": {},
          "execution_count": 40
        }
      ]
    },
    {
      "cell_type": "code",
      "metadata": {
        "colab": {
          "base_uri": "https://localhost:8080/",
          "height": 692
        },
        "id": "HrQgAPOGrzJu",
        "outputId": "e65174c0-971b-49b3-f14c-36a69b211e8e"
      },
      "source": [
        "style.use('seaborn-white')\n",
        "dominant_prod_cat.plot.bar(color={\"Furniture\": \"Blue\", \"Office Supplies\": \"green\", \"Technology\": \"Violet\"}, figsize = (12,10))"
      ],
      "execution_count": 83,
      "outputs": [
        {
          "output_type": "execute_result",
          "data": {
            "text/plain": [
              "<matplotlib.axes._subplots.AxesSubplot at 0x7f4f3cbb9850>"
            ]
          },
          "metadata": {},
          "execution_count": 83
        },
        {
          "output_type": "display_data",
          "data": {
            "image/png": "[encoded data removed]",
            "text/plain": [
              "<Figure size 864x720 with 1 Axes>"
            ]
          },
          "metadata": {}
        }
      ]
    },
    {
      "cell_type": "code",
      "metadata": {
        "colab": {
          "base_uri": "https://localhost:8080/"
        },
        "id": "RoN_uzwDhyij",
        "outputId": "f720dd82-943a-443a-ef40-b65ec88f1f3f"
      },
      "source": [
        "#City with most orders for a given product category\n",
        "city_with_most_orders = data.groupby(['City', 'Category'])['Order ID'].count().sort_values(ascending = False)\n",
        "city_with_most_orders.head(10)"
      ],
      "execution_count": 42,
      "outputs": [
        {
          "output_type": "execute_result",
          "data": {
            "text/plain": [
              "City           Category       \n",
              "New York City  Office Supplies    552\n",
              "Los Angeles    Office Supplies    443\n",
              "San Francisco  Office Supplies    322\n",
              "Philadelphia   Office Supplies    312\n",
              "Santo Domingo  Office Supplies    250\n",
              "Seattle        Office Supplies    249\n",
              "Houston        Office Supplies    231\n",
              "Manila         Office Supplies    227\n",
              "Lagos          Office Supplies    213\n",
              "Tegucigalpa    Office Supplies    207\n",
              "Name: Order ID, dtype: int64"
            ]
          },
          "metadata": {},
          "execution_count": 42
        }
      ]
    },
    {
      "cell_type": "markdown",
      "metadata": {
        "id": "I5UpszUcQ-Fs"
      },
      "source": [
        "### Descriptive Statistics by Date"
      ]
    },
    {
      "cell_type": "code",
      "metadata": {
        "colab": {
          "base_uri": "https://localhost:8080/"
        },
        "id": "kflMd6VZg3TZ",
        "outputId": "c350f56d-5222-46b8-83bb-c478027efaad"
      },
      "source": [
        "more_sales_year = data.groupby('Year')['Sales'].max().sort_values(ascending = False)\n",
        "more_sales_year       #year the company records more sales"
      ],
      "execution_count": 43,
      "outputs": [
        {
          "output_type": "execute_result",
          "data": {
            "text/plain": [
              "Year\n",
              "2011    22638.48\n",
              "2013    17499.95\n",
              "2014    13999.96\n",
              "2012     6354.95\n",
              "Name: Sales, dtype: float64"
            ]
          },
          "metadata": {},
          "execution_count": 43
        }
      ]
    },
    {
      "cell_type": "code",
      "metadata": {
        "colab": {
          "base_uri": "https://localhost:8080/"
        },
        "id": "rVPmpM4pg51e",
        "outputId": "8d51c3b8-2992-49db-a56c-93c4730bb8de"
      },
      "source": [
        "more_sales_month = data.groupby('Month')['Sales'].max().sort_values(ascending = False)\n",
        "more_sales_month       #month the company records more sales"
      ],
      "execution_count": 44,
      "outputs": [
        {
          "output_type": "execute_result",
          "data": {
            "text/plain": [
              "Month\n",
              "March        22638.480\n",
              "October      11199.968\n",
              "November     10499.970\n",
              "December      9892.740\n",
              "September     9449.950\n",
              "April         9099.930\n",
              "February      8749.950\n",
              "May           8399.976\n",
              "July          8187.650\n",
              "August        8159.952\n",
              "June          5486.670\n",
              "January       5451.300\n",
              "Name: Sales, dtype: float64"
            ]
          },
          "metadata": {},
          "execution_count": 44
        }
      ]
    },
    {
      "cell_type": "code",
      "metadata": {
        "colab": {
          "base_uri": "https://localhost:8080/"
        },
        "id": "JMUflE4pn0Lk",
        "outputId": "3fa9e6ff-9681-4d3e-9400-ca84a362c33f"
      },
      "source": [
        "more_sales_month_year = data.groupby(['Year', 'Month'])['Sales'].max().sort_values(ascending = False)\n",
        "more_sales_month_year       #month and year the company records more sales"
      ],
      "execution_count": 45,
      "outputs": [
        {
          "output_type": "execute_result",
          "data": {
            "text/plain": [
              "Year  Month    \n",
              "2011  March        22638.4800\n",
              "2013  March        17499.9500\n",
              "2014  March        13999.9600\n",
              "      October      11199.9680\n",
              "      November     10499.9700\n",
              "2013  December      9892.7400\n",
              "2011  September     9449.9500\n",
              "2013  April         9099.9300\n",
              "      February      8749.9500\n",
              "      May           8399.9760\n",
              "2011  July          8187.6500\n",
              "      August        8159.9520\n",
              "2014  May           7999.9800\n",
              "      August        7958.5800\n",
              "2011  December      6999.9600\n",
              "      October       6998.6400\n",
              "2012  March         6354.9500\n",
              "      December      5785.0200\n",
              "      February      5759.9640\n",
              "      August        5737.5000\n",
              "2011  November      5725.3500\n",
              "2012  May           5724.5400\n",
              "2014  September     5667.8700\n",
              "      June          5486.6700\n",
              "2013  January       5451.3000\n",
              "2014  January       5443.9600\n",
              "2012  April         5244.8400\n",
              "2013  July          5211.1200\n",
              "      October       5175.1710\n",
              "2014  December      4864.3200\n",
              "      February      4799.9840\n",
              "2013  November      4618.2150\n",
              "2011  February      4544.1000\n",
              "2013  June          4476.8000\n",
              "2011  May           4448.8320\n",
              "2014  April         4363.3500\n",
              "2012  January       4297.6440\n",
              "      October       4242.3624\n",
              "      September     4228.7040\n",
              "2014  July          4001.0400\n",
              "2013  August        3999.9500\n",
              "2011  April         3991.9800\n",
              "      June          3694.6800\n",
              "2012  November      3637.6020\n",
              "2013  September     3499.1550\n",
              "2012  June          3068.3610\n",
              "      July          2944.0800\n",
              "2011  January       2807.8400\n",
              "Name: Sales, dtype: float64"
            ]
          },
          "metadata": {},
          "execution_count": 45
        }
      ]
    },
    {
      "cell_type": "code",
      "metadata": {
        "id": "fuxqzMMooJF5"
      },
      "source": [
        "more_sales_month_year = pd.DataFrame(more_sales_month_year)"
      ],
      "execution_count": 46,
      "outputs": []
    },
    {
      "cell_type": "code",
      "metadata": {
        "colab": {
          "base_uri": "https://localhost:8080/"
        },
        "id": "yQQJMI7knowq",
        "outputId": "63653837-2271-4fac-f720-a51d71686c4f"
      },
      "source": [
        "more_profit_month_year = data.groupby(['Month', 'Year'])['Profit'].max().sort_values(ascending = False)\n",
        "more_profit_month_year #more profit per month and year"
      ],
      "execution_count": 47,
      "outputs": [
        {
          "output_type": "execute_result",
          "data": {
            "text/plain": [
              "Month      Year\n",
              "March      2013    8399.9760\n",
              "           2014    6719.9808\n",
              "November   2014    5039.9856\n",
              "December   2013    4946.3700\n",
              "September  2011    4630.4755\n",
              "August     2014    3979.0800\n",
              "October    2014    3919.9888\n",
              "March      2012    3177.4750\n",
              "October    2011    2939.3100\n",
              "February   2013    2799.9840\n",
              "May        2013    2591.9568\n",
              "January    2014    2504.2216\n",
              "August     2011    2476.4400\n",
              "May        2012    2461.3200\n",
              "April      2013    2365.9818\n",
              "June       2014    2316.5100\n",
              "December   2012    2302.9671\n",
              "           2011    2239.9872\n",
              "August     2012    2229.0240\n",
              "September  2014    2097.0300\n",
              "January    2013    2071.4400\n",
              "April      2011    1995.9900\n",
              "August     2013    1989.5400\n",
              "January    2012    1989.5400\n",
              "April      2012    1906.4850\n",
              "February   2011    1868.1300\n",
              "October    2013    1644.2913\n",
              "July       2011    1644.0300\n",
              "June       2011    1622.8800\n",
              "November   2011    1602.9900\n",
              "April      2014    1563.4800\n",
              "May        2011    1517.7120\n",
              "November   2013    1470.2100\n",
              "July       2013    1465.2000\n",
              "           2014    1440.2400\n",
              "December   2014    1439.4480\n",
              "May        2014    1423.4400\n",
              "June       2013    1383.9000\n",
              "March      2011    1364.2380\n",
              "February   2012    1270.9900\n",
              "October    2012    1245.8400\n",
              "June       2012    1143.8910\n",
              "September  2012    1114.5120\n",
              "July       2012    1112.1300\n",
              "September  2013    1046.1600\n",
              "February   2014     978.8400\n",
              "November   2012     874.1670\n",
              "January    2011     843.9900\n",
              "Name: Profit, dtype: float64"
            ]
          },
          "metadata": {},
          "execution_count": 47
        }
      ]
    },
    {
      "cell_type": "code",
      "metadata": {
        "id": "q4RMxbDICGJw"
      },
      "source": [
        "more_profit_month_year = pd.DataFrame(more_profit_month_year)"
      ],
      "execution_count": 78,
      "outputs": []
    },
    {
      "cell_type": "code",
      "metadata": {
        "colab": {
          "base_uri": "https://localhost:8080/",
          "height": 482
        },
        "id": "GpM3ph33my4t",
        "outputId": "67e367ab-374c-4408-c093-dd47c2c02d06"
      },
      "source": [
        "style.use('fivethirtyeight')\n",
        "more_sales_month_year.plot.line(figsize=(12,3))\n",
        "more_profit_month_year.plot.line(figsize=(12,3))"
      ],
      "execution_count": 79,
      "outputs": [
        {
          "output_type": "execute_result",
          "data": {
            "text/plain": [
              "<matplotlib.axes._subplots.AxesSubplot at 0x7f4f3d4a8d50>"
            ]
          },
          "metadata": {},
          "execution_count": 79
        },
        {
          "output_type": "display_data",
          "data": {
            "image/png": "[encoded data removed]",
            "text/plain": [
              "<Figure size 864x216 with 1 Axes>"
            ]
          },
          "metadata": {}
        },
        {
          "output_type": "display_data",
          "data": {
            "image/png": "[encoded data removed]",
            "text/plain": [
              "<Figure size 864x216 with 1 Axes>"
            ]
          },
          "metadata": {}
        }
      ]
    },
    {
      "cell_type": "markdown",
      "metadata": {
        "id": "1eW1-al1Ci7A"
      },
      "source": [
        "The highest sales and profit were recorded in March 2011 and March 2013 respectively for the four year period.  "
      ]
    },
    {
      "cell_type": "code",
      "metadata": {
        "colab": {
          "base_uri": "https://localhost:8080/",
          "height": 238
        },
        "id": "_Z5d9duyUB_I",
        "outputId": "6cad9358-f698-471c-d197-cd385360dc08"
      },
      "source": [
        "data[['Year', 'Sales']].groupby('Year').describe()"
      ],
      "execution_count": 49,
      "outputs": [
        {
          "output_type": "execute_result",
          "data": {
            "text/html": [
              "<div>\n",
              "<style scoped>\n",
              "    .dataframe tbody tr th:only-of-type {\n",
              "        vertical-align: middle;\n",
              "    }\n",
              "\n",
              "    .dataframe tbody tr th {\n",
              "        vertical-align: top;\n",
              "    }\n",
              "\n",
              "    .dataframe thead tr th {\n",
              "        text-align: left;\n",
              "    }\n",
              "\n",
              "    .dataframe thead tr:last-of-type th {\n",
              "        text-align: right;\n",
              "    }\n",
              "</style>\n",
              "<table border=\"1\" class=\"dataframe\">\n",
              "  <thead>\n",
              "    <tr>\n",
              "      <th></th>\n",
              "      <th colspan=\"8\" halign=\"left\">Sales</th>\n",
              "    </tr>\n",
              "    <tr>\n",
              "      <th></th>\n",
              "      <th>count</th>\n",
              "      <th>mean</th>\n",
              "      <th>std</th>\n",
              "      <th>min</th>\n",
              "      <th>25%</th>\n",
              "      <th>50%</th>\n",
              "      <th>75%</th>\n",
              "      <th>max</th>\n",
              "    </tr>\n",
              "    <tr>\n",
              "      <th>Year</th>\n",
              "      <th></th>\n",
              "      <th></th>\n",
              "      <th></th>\n",
              "      <th></th>\n",
              "      <th></th>\n",
              "      <th></th>\n",
              "      <th></th>\n",
              "      <th></th>\n",
              "    </tr>\n",
              "  </thead>\n",
              "  <tbody>\n",
              "    <tr>\n",
              "      <th>2011</th>\n",
              "      <td>8998.0</td>\n",
              "      <td>251.105901</td>\n",
              "      <td>536.893640</td>\n",
              "      <td>0.852</td>\n",
              "      <td>30.405</td>\n",
              "      <td>84.266</td>\n",
              "      <td>253.8630</td>\n",
              "      <td>22638.48</td>\n",
              "    </tr>\n",
              "    <tr>\n",
              "      <th>2012</th>\n",
              "      <td>10962.0</td>\n",
              "      <td>244.247281</td>\n",
              "      <td>450.299914</td>\n",
              "      <td>0.984</td>\n",
              "      <td>31.620</td>\n",
              "      <td>87.138</td>\n",
              "      <td>250.0125</td>\n",
              "      <td>6354.95</td>\n",
              "    </tr>\n",
              "    <tr>\n",
              "      <th>2013</th>\n",
              "      <td>13799.0</td>\n",
              "      <td>246.811106</td>\n",
              "      <td>494.719419</td>\n",
              "      <td>0.836</td>\n",
              "      <td>30.816</td>\n",
              "      <td>85.232</td>\n",
              "      <td>249.7200</td>\n",
              "      <td>17499.95</td>\n",
              "    </tr>\n",
              "    <tr>\n",
              "      <th>2014</th>\n",
              "      <td>17531.0</td>\n",
              "      <td>245.272139</td>\n",
              "      <td>477.630355</td>\n",
              "      <td>0.444</td>\n",
              "      <td>30.354</td>\n",
              "      <td>84.480</td>\n",
              "      <td>251.1300</td>\n",
              "      <td>13999.96</td>\n",
              "    </tr>\n",
              "  </tbody>\n",
              "</table>\n",
              "</div>"
            ],
            "text/plain": [
              "        Sales                                                           \\\n",
              "        count        mean         std    min     25%     50%       75%   \n",
              "Year                                                                     \n",
              "2011   8998.0  251.105901  536.893640  0.852  30.405  84.266  253.8630   \n",
              "2012  10962.0  244.247281  450.299914  0.984  31.620  87.138  250.0125   \n",
              "2013  13799.0  246.811106  494.719419  0.836  30.816  85.232  249.7200   \n",
              "2014  17531.0  245.272139  477.630355  0.444  30.354  84.480  251.1300   \n",
              "\n",
              "                \n",
              "           max  \n",
              "Year            \n",
              "2011  22638.48  \n",
              "2012   6354.95  \n",
              "2013  17499.95  \n",
              "2014  13999.96  "
            ]
          },
          "metadata": {},
          "execution_count": 49
        }
      ]
    },
    {
      "cell_type": "code",
      "metadata": {
        "colab": {
          "base_uri": "https://localhost:8080/",
          "height": 318
        },
        "id": "LasrSlyASBbW",
        "outputId": "065464e3-9fdf-4acc-ca2d-58da77d08a02"
      },
      "source": [
        "sns.barplot(x=data['Year'], y=data['Sales'], ci = None)"
      ],
      "execution_count": 50,
      "outputs": [
        {
          "output_type": "execute_result",
          "data": {
            "text/plain": [
              "<matplotlib.axes._subplots.AxesSubplot at 0x7f4f3d2f9190>"
            ]
          },
          "metadata": {},
          "execution_count": 50
        },
        {
          "output_type": "display_data",
          "data": {
            "image/png": "[encoded data removed]",
            "text/plain": [
              "<Figure size 432x288 with 1 Axes>"
            ]
          },
          "metadata": {}
        }
      ]
    },
    {
      "cell_type": "code",
      "metadata": {
        "colab": {
          "base_uri": "https://localhost:8080/",
          "height": 318
        },
        "id": "EIrQlsJQSNoz",
        "outputId": "d046ede1-9a3c-4e49-e427-d65dc5a5b505"
      },
      "source": [
        "sns.barplot(x=data['Year'], y=data['Profit'], ci = None)"
      ],
      "execution_count": 51,
      "outputs": [
        {
          "output_type": "execute_result",
          "data": {
            "text/plain": [
              "<matplotlib.axes._subplots.AxesSubplot at 0x7f4f3d20f410>"
            ]
          },
          "metadata": {},
          "execution_count": 51
        },
        {
          "output_type": "display_data",
          "data": {
            "image/png": "[encoded data removed]",
            "text/plain": [
              "<Figure size 432x288 with 1 Axes>"
            ]
          },
          "metadata": {}
        }
      ]
    },
    {
      "cell_type": "code",
      "metadata": {
        "colab": {
          "base_uri": "https://localhost:8080/",
          "height": 318
        },
        "id": "k_oD4ApEXKAs",
        "outputId": "683847b3-92ea-4b10-faf8-d837211bedea"
      },
      "source": [
        "sns.lineplot(x= data.groupby(data.Year).mean().index, \n",
        "             y = data.groupby(data.Year).mean()['Sales'])"
      ],
      "execution_count": 54,
      "outputs": [
        {
          "output_type": "execute_result",
          "data": {
            "text/plain": [
              "<matplotlib.axes._subplots.AxesSubplot at 0x7f4f3d1b3b10>"
            ]
          },
          "metadata": {},
          "execution_count": 54
        },
        {
          "output_type": "display_data",
          "data": {
            "image/png": "[encoded data removed]",
            "text/plain": [
              "<Figure size 432x288 with 1 Axes>"
            ]
          },
          "metadata": {}
        }
      ]
    },
    {
      "cell_type": "code",
      "metadata": {
        "colab": {
          "base_uri": "https://localhost:8080/",
          "height": 318
        },
        "id": "ZC0t3gsPYYB0",
        "outputId": "4ca5e831-53b3-4849-e849-8a01eaedc9ad"
      },
      "source": [
        "sns.lineplot(x= data.groupby(data.Year).mean().index, \n",
        "             y = data.groupby(data.Year).mean()['Profit'])"
      ],
      "execution_count": 55,
      "outputs": [
        {
          "output_type": "execute_result",
          "data": {
            "text/plain": [
              "<matplotlib.axes._subplots.AxesSubplot at 0x7f4f3d0fa2d0>"
            ]
          },
          "metadata": {},
          "execution_count": 55
        },
        {
          "output_type": "display_data",
          "data": {
            "image/png": "[encoded data removed]",
            "text/plain": [
              "<Figure size 432x288 with 1 Axes>"
            ]
          },
          "metadata": {}
        }
      ]
    },
    {
      "cell_type": "code",
      "metadata": {
        "colab": {
          "base_uri": "https://localhost:8080/"
        },
        "id": "vQFKNZemdio0",
        "outputId": "9f67a047-328c-4744-ea47-16ab6b9564ed"
      },
      "source": [
        "data['Year'].value_counts()"
      ],
      "execution_count": 56,
      "outputs": [
        {
          "output_type": "execute_result",
          "data": {
            "text/plain": [
              "2014    17531\n",
              "2013    13799\n",
              "2012    10962\n",
              "2011     8998\n",
              "Name: Year, dtype: int64"
            ]
          },
          "metadata": {},
          "execution_count": 56
        }
      ]
    },
    {
      "cell_type": "code",
      "metadata": {
        "id": "WuIiJr7DYe3V"
      },
      "source": [
        "years = [2011, 2012, 2013, 2014]\n",
        "colors = ['blue', 'green', 'red', 'orange']\n"
      ],
      "execution_count": 57,
      "outputs": []
    },
    {
      "cell_type": "markdown",
      "metadata": {
        "id": "vsCjyC37ZYCh"
      },
      "source": [
        "##### Sales by Months"
      ]
    },
    {
      "cell_type": "code",
      "metadata": {
        "colab": {
          "base_uri": "https://localhost:8080/",
          "height": 1000
        },
        "id": "T5qs8zXNY0s-",
        "outputId": "a6af08a9-29eb-4fd4-f735-b5b4d51d2e97"
      },
      "source": [
        "for i in range(len(years)):\n",
        "  sns.set( rc={\"figure.figsize\":(10,6)} )\n",
        "  sns.lineplot(data = data[data['Year'] == years[i]], y ='Sales', x='Month', color=colors[i])\n",
        "  plt.title(years[i])\n",
        "  plt.show()"
      ],
      "execution_count": 58,
      "outputs": [
        {
          "output_type": "display_data",
          "data": {
            "image/png": "[encoded data removed]",
            "text/plain": [
              "<Figure size 720x432 with 1 Axes>"
            ]
          },
          "metadata": {}
        },
        {
          "output_type": "display_data",
          "data": {
            "image/png": "[encoded data removed]",
            "text/plain": [
              "<Figure size 720x432 with 1 Axes>"
            ]
          },
          "metadata": {}
        },
        {
          "output_type": "display_data",
          "data": {
            "image/png": "[encoded data removed]",
            "text/plain": [
              "<Figure size 720x432 with 1 Axes>"
            ]
          },
          "metadata": {}
        },
        {
          "output_type": "display_data",
          "data": {
            "image/png": "[encoded data removed]",
            "text/plain": [
              "<Figure size 720x432 with 1 Axes>"
            ]
          },
          "metadata": {}
        }
      ]
    },
    {
      "cell_type": "code",
      "metadata": {
        "id": "ha3rHzvJwksH"
      },
      "source": [
        ""
      ],
      "execution_count": null,
      "outputs": []
    },
    {
      "cell_type": "markdown",
      "metadata": {
        "id": "ixeXwC8NwkBw"
      },
      "source": [
        ""
      ]
    },
    {
      "cell_type": "markdown",
      "metadata": {
        "id": "NkVvmDzIZgMX"
      },
      "source": [
        "##### Profits by Month"
      ]
    },
    {
      "cell_type": "code",
      "metadata": {
        "colab": {
          "base_uri": "https://localhost:8080/",
          "height": 1000
        },
        "id": "20OTdlUUZkM0",
        "outputId": "c3a41421-bcb3-4d39-e7a9-b349e5cc9d43"
      },
      "source": [
        "for i in range(len(years)):\n",
        "  sns.barplot(data = data[data['Year'] == years[i]], y ='Month', x='Profit', color=colors[i], ci=None)\n",
        "  plt.title(years[i])\n",
        "  plt.show()"
      ],
      "execution_count": 59,
      "outputs": [
        {
          "output_type": "display_data",
          "data": {
            "image/png": "[encoded data removed]",
            "text/plain": [
              "<Figure size 720x432 with 1 Axes>"
            ]
          },
          "metadata": {}
        },
        {
          "output_type": "display_data",
          "data": {
            "image/png": "[encoded data removed]",
            "text/plain": [
              "<Figure size 720x432 with 1 Axes>"
            ]
          },
          "metadata": {}
        },
        {
          "output_type": "display_data",
          "data": {
            "image/png": "[encoded data removed]",
            "text/plain": [
              "<Figure size 720x432 with 1 Axes>"
            ]
          },
          "metadata": {}
        },
        {
          "output_type": "display_data",
          "data": {
            "image/png": "[encoded data removed]",
            "text/plain": [
              "<Figure size 720x432 with 1 Axes>"
            ]
          },
          "metadata": {}
        }
      ]
    },
    {
      "cell_type": "code",
      "metadata": {
        "colab": {
          "base_uri": "https://localhost:8080/"
        },
        "id": "boKlRs7oiNSl",
        "outputId": "14f650d0-618d-49f2-c1aa-4a9f1ebbaaed"
      },
      "source": [
        "data['Order Delay'].value_counts()"
      ],
      "execution_count": 60,
      "outputs": [
        {
          "output_type": "execute_result",
          "data": {
            "text/plain": [
              "4 days       7166\n",
              "5 days       5459\n",
              "2 days       4007\n",
              "6 days       2836\n",
              "3 days       2635\n",
              "             ... \n",
              "-29 days        5\n",
              "-21 days        3\n",
              "-147 days       3\n",
              "-50 days        2\n",
              "-294 days       2\n",
              "Name: Order Delay, Length: 152, dtype: int64"
            ]
          },
          "metadata": {},
          "execution_count": 60
        }
      ]
    },
    {
      "cell_type": "markdown",
      "metadata": {
        "id": "5xRK0f2AXEZd"
      },
      "source": [
        "### Visualizations"
      ]
    },
    {
      "cell_type": "code",
      "metadata": {
        "id": "Z4nP7361I0yq",
        "colab": {
          "base_uri": "https://localhost:8080/",
          "height": 434
        },
        "outputId": "8e67592b-4fb7-47b6-86cc-8c1eceec3553"
      },
      "source": [
        "sns.barplot(x='Ship Mode', y='Profit', data=data, ci = None)"
      ],
      "execution_count": 63,
      "outputs": [
        {
          "output_type": "execute_result",
          "data": {
            "text/plain": [
              "<matplotlib.axes._subplots.AxesSubplot at 0x7f4f3cc2d810>"
            ]
          },
          "metadata": {},
          "execution_count": 63
        },
        {
          "output_type": "display_data",
          "data": {
            "image/png": "[encoded data removed]",
            "text/plain": [
              "<Figure size 720x432 with 1 Axes>"
            ]
          },
          "metadata": {}
        }
      ]
    },
    {
      "cell_type": "markdown",
      "metadata": {
        "id": "OwFrutc0kOlw"
      },
      "source": [
        "### Products Making Losses"
      ]
    },
    {
      "cell_type": "code",
      "metadata": {
        "colab": {
          "base_uri": "https://localhost:8080/"
        },
        "id": "ceZE2G0OkJpB",
        "outputId": "abfeff54-f69e-4436-d14a-8880aceba808"
      },
      "source": [
        "prod_making_loss = data.groupby('Category')['Profit'].min().sort_values(ascending = False)\n",
        "prod_making_loss"
      ],
      "execution_count": 64,
      "outputs": [
        {
          "output_type": "execute_result",
          "data": {
            "text/plain": [
              "Category\n",
              "Furniture         -2750.2800\n",
              "Office Supplies   -3701.8928\n",
              "Technology        -6599.9780\n",
              "Name: Profit, dtype: float64"
            ]
          },
          "metadata": {},
          "execution_count": 64
        }
      ]
    },
    {
      "cell_type": "markdown",
      "metadata": {
        "id": "o0VYUATIOWLZ"
      },
      "source": [
        "Overall, technology seems to be making more profit and causing more losses at the same time, hence there is the need to strategise in order to make more sales and profit from this category. "
      ]
    },
    {
      "cell_type": "markdown",
      "metadata": {
        "id": "FwSnS6PhkfD5"
      },
      "source": [
        "### Segment Making More Profit\n"
      ]
    },
    {
      "cell_type": "code",
      "metadata": {
        "colab": {
          "base_uri": "https://localhost:8080/"
        },
        "id": "wZGZbIrskWdh",
        "outputId": "88ae53a7-8b81-4202-fd82-9087692aa956"
      },
      "source": [
        "segment_making_more_profit = data.groupby('Segment')['Profit'].max().sort_values(ascending = False)\n",
        "segment_making_more_profit"
      ],
      "execution_count": 65,
      "outputs": [
        {
          "output_type": "execute_result",
          "data": {
            "text/plain": [
              "Segment\n",
              "Corporate      8399.9760\n",
              "Consumer       6719.9808\n",
              "Home Office    3919.9888\n",
              "Name: Profit, dtype: float64"
            ]
          },
          "metadata": {},
          "execution_count": 65
        }
      ]
    },
    {
      "cell_type": "markdown",
      "metadata": {
        "id": "wdGMg_-jPA5h"
      },
      "source": [
        "Overall, the segment making more profit from the output above is corporate, followed by consumer and then home office. "
      ]
    },
    {
      "cell_type": "markdown",
      "metadata": {
        "id": "TLl3ZgLqkwRQ"
      },
      "source": [
        "### Order Priority Yielding More Sales"
      ]
    },
    {
      "cell_type": "code",
      "metadata": {
        "colab": {
          "base_uri": "https://localhost:8080/"
        },
        "id": "AW7z9LimkviL",
        "outputId": "27ae0697-12f6-407b-edaa-6fa65ba62f19"
      },
      "source": [
        "order_priority_more_sales = data.groupby('Order Priority')['Sales'].max().sort_values(ascending = False)\n",
        "order_priority_more_sales"
      ],
      "execution_count": 66,
      "outputs": [
        {
          "output_type": "execute_result",
          "data": {
            "text/plain": [
              "Order Priority\n",
              "Medium      22638.480\n",
              "High        11199.968\n",
              "Critical     8749.950\n",
              "Low          7958.580\n",
              "Name: Sales, dtype: float64"
            ]
          },
          "metadata": {},
          "execution_count": 66
        }
      ]
    },
    {
      "cell_type": "code",
      "metadata": {
        "colab": {
          "base_uri": "https://localhost:8080/"
        },
        "id": "eibnD-cMlEd5",
        "outputId": "0d9a3b3a-1fee-4689-9470-7f9552a6f8b2"
      },
      "source": [
        "order_priority_more_sales.index"
      ],
      "execution_count": 67,
      "outputs": [
        {
          "output_type": "execute_result",
          "data": {
            "text/plain": [
              "Index(['Medium', 'High', 'Critical', 'Low'], dtype='object', name='Order Priority')"
            ]
          },
          "metadata": {},
          "execution_count": 67
        }
      ]
    },
    {
      "cell_type": "code",
      "metadata": {
        "colab": {
          "base_uri": "https://localhost:8080/",
          "height": 439
        },
        "id": "7RKU7lcvlI_H",
        "outputId": "cafa20b3-eadf-4501-836d-a5d46333dfb2"
      },
      "source": [
        "colors_list=['gold','violet','lightcoral','pink']\n",
        "explode_list= [0,0.5,0,0]\n",
        "order_priority_more_sales.plot(kind='pie',\n",
        "                            figsize=(15,6),\n",
        "                            autopct='%1.1f%%',\n",
        "                            startangle = 90,\n",
        "                            shadow=True,\n",
        "                            labels=None,\n",
        "                            pctdistance=1.12,\n",
        "                            colors=colors_list,\n",
        "                            explode=explode_list) \n",
        "plt.title('Order Priority Yielding More Sales',y=1.12)\n",
        "plt.axis('equal')\n",
        "plt.legend(labels=order_priority_more_sales.index, loc='upper left')\n",
        "plt.show()"
      ],
      "execution_count": 68,
      "outputs": [
        {
          "output_type": "display_data",
          "data": {
            "image/png": "[encoded data removed]",
            "text/plain": [
              "<Figure size 1080x432 with 1 Axes>"
            ]
          },
          "metadata": {}
        }
      ]
    },
    {
      "cell_type": "markdown",
      "metadata": {
        "id": "HCMEfHa6Ny8u"
      },
      "source": [
        "From the pie plot above, the order priority yielding more sales is Medium. The other priority types are also performing averagely well. "
      ]
    },
    {
      "cell_type": "markdown",
      "metadata": {
        "id": "gfbeZckHlfY4"
      },
      "source": [
        "### Average Shipping Cost to Each Region\n"
      ]
    },
    {
      "cell_type": "code",
      "metadata": {
        "colab": {
          "base_uri": "https://localhost:8080/"
        },
        "id": "eJszZihtlc0E",
        "outputId": "8416e478-cba9-4474-d797-20a397a7886c"
      },
      "source": [
        "avg_shipping_cost = data.groupby('Region')['Shipping Cost'].mean().sort_values(ascending = False)\n",
        "avg_shipping_cost"
      ],
      "execution_count": 69,
      "outputs": [
        {
          "output_type": "execute_result",
          "data": {
            "text/plain": [
              "Region\n",
              "North Asia        40.646112\n",
              "Central Asia      38.003003\n",
              "Oceania           34.593780\n",
              "Southeast Asia    29.937948\n",
              "North             27.476299\n",
              "Central           26.710494\n",
              "East              25.542001\n",
              "South             25.353509\n",
              "West              23.887687\n",
              "Caribbean         21.059260\n",
              "Canada            19.285495\n",
              "Africa            19.215058\n",
              "EMEA              17.573221\n",
              "Name: Shipping Cost, dtype: float64"
            ]
          },
          "metadata": {},
          "execution_count": 69
        }
      ]
    },
    {
      "cell_type": "code",
      "metadata": {
        "colab": {
          "base_uri": "https://localhost:8080/"
        },
        "id": "KhvU5kb2lwtM",
        "outputId": "a889777f-58d0-41c6-ce3d-36f4276067f8"
      },
      "source": [
        "# What product categories should be targetted to the  different markets?\n",
        "prod_cat_mkt = data.groupby(['Category', 'Market'])['Sales'].max().sort_values(ascending = False)\n",
        "prod_cat_mkt"
      ],
      "execution_count": 70,
      "outputs": [
        {
          "output_type": "execute_result",
          "data": {
            "text/plain": [
              "Category         Market\n",
              "Technology       US        22638.480\n",
              "Office Supplies  US         9892.740\n",
              "                 EU         7958.580\n",
              "Technology       APAC       6998.640\n",
              "                 EU         5785.020\n",
              "Furniture        APAC       5759.964\n",
              "                 EU         5729.346\n",
              "Technology       Africa     5301.240\n",
              "                 EMEA       5211.120\n",
              "Office Supplies  APAC       4864.320\n",
              "Furniture        EMEA       4486.860\n",
              "                 US         4416.174\n",
              "Office Supplies  EMEA       3955.140\n",
              "Furniture        Africa     3877.680\n",
              "Technology       Canada     3863.880\n",
              "                 LATAM      3474.080\n",
              "Furniture        LATAM      3473.140\n",
              "Office Supplies  Africa     3409.740\n",
              "                 LATAM      3242.880\n",
              "                 Canada     1799.100\n",
              "Furniture        Canada     1758.000\n",
              "Name: Sales, dtype: float64"
            ]
          },
          "metadata": {},
          "execution_count": 70
        }
      ]
    },
    {
      "cell_type": "markdown",
      "metadata": {
        "id": "koJvxuLAH6WG"
      },
      "source": [
        "### Conclusion"
      ]
    },
    {
      "cell_type": "markdown",
      "metadata": {
        "id": "98n3yP6mJCue"
      },
      "source": [
        "\n",
        "\n",
        "* The US market seems to be leading in both sales and profit. The dorminant product in this market is Technology. Hence, Superstore can target more technological items to this market in order to increase sales.\n",
        "\n",
        "* The Canada market is very profitable but sales from there is not encouraging. The dorminant products in this market are technology and furniture. Hence, there is the need to develop sales strategies that can attract the Canada market to purchase more.\n",
        "\n",
        "* In terms of the EU market, sales for both technology and furniture are high. Hence, there is the need to concentrate on promoting sale of office supplies to this market in order to increase sales. \n",
        "\n",
        "\n",
        "* With regards to the rest of the markets, there is the need to develop sales strategies that can help promote sales of all the product categories in these markets. \n",
        "\n",
        "\n",
        "\n",
        "\n",
        "\n",
        "\n"
      ]
    },
    {
      "cell_type": "markdown",
      "metadata": {
        "id": "Pz8tMQ33QX5_"
      },
      "source": [
        "### Group Members:\n",
        "1. Ahlam Mustapha\n",
        "2. Theophilus Dortumor\n",
        "3. Andrew Kojo Mensah-Onumah\n",
        "4. Henrietta Kadi Tettey-Tawiah\n",
        "5. Frank Erzoah-Cudjoe"
      ]
    },
    {
      "cell_type": "markdown",
      "metadata": {
        "id": "W3wjosa1RwNy"
      },
      "source": [
        "END🦋"
      ]
    }
  ]
}